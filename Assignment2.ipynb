{
 "cells": [
  {
   "cell_type": "markdown",
   "id": "c1138a17-e8cd-4c22-9e72-6d0b9d1031a2",
   "metadata": {},
   "source": [
    "1. Explain the importance of Functions\n",
    "\n",
    "*Ans*: Functions are used to increase the readability of the code and to reduce the repetitive solutions for same problem.#Ans: Functions are used to increase the readability of the code and to reduce the repetitive solutions for same problem.\n"
   ]
  },
  {
   "cell_type": "markdown",
   "id": "2c14f769-7c4b-4ed8-87d3-6f6a70f6f27c",
   "metadata": {},
   "source": [
    " 2. Write a basic function to greet students?"
   ]
  },
  {
   "cell_type": "code",
   "execution_count": 1,
   "id": "2427dc6e-eaa9-4dd0-baff-f59e49596bc7",
   "metadata": {},
   "outputs": [
    {
     "name": "stdout",
     "output_type": "stream",
     "text": [
      "Good morning students\n"
     ]
    }
   ],
   "source": [
    "def greet():\n",
    "    print(\"Good morning students\")\n",
    "    \n",
    "greet()"
   ]
  },
  {
   "cell_type": "markdown",
   "id": "c9cefaa9-2fcc-4577-836f-9608a9076927",
   "metadata": {},
   "source": [
    "3. What is the difference between print and return statements?\n",
    "\n",
    " *Ans*: The basic difference between print and return is : print is used to display the output whereas return gives a value back whenever that \n",
    "function is called. if we assign a function to a variable the value stored in that variable will be the value returned by the function.\n",
    "    "
   ]
  },
  {
   "cell_type": "code",
   "execution_count": null,
   "id": "14048181-17cd-496c-861b-ac5c423ebe7d",
   "metadata": {},
   "outputs": [],
   "source": []
  },
  {
   "cell_type": "markdown",
   "id": "ec8c6c60-f455-45ec-ba26-fe08d786bf87",
   "metadata": {},
   "source": [
    "4. What are *args and **kwargs?\n",
    "\n",
    "*Ans*: * Args: Whenever we are not sure about the number of arguments which will be passed to the functions we give the argument as *args which indicates that any number of arguments can be passed and then we treats args as an iterable and iterate through it to get the desired results.\n",
    "\n",
    "** Kwargs: It is also used for variable length of arguments but here we have key word pair and returns a dictionary "
   ]
  },
  {
   "cell_type": "code",
   "execution_count": null,
   "id": "2c0adce4-31ca-407c-8b8f-8ac663e34bf4",
   "metadata": {},
   "outputs": [],
   "source": []
  },
  {
   "cell_type": "markdown",
   "id": "0d9147b8-721d-46bd-aa4d-9f7670115eed",
   "metadata": {},
   "source": [
    "5. Explain the iterator function?\n",
    "\n",
    "*Ans*:\n",
    "Iterable is the object which can be iterated\n",
    "Iterator is the function which is used to iterate through the iterables\n",
    "and for this we use iter() within the paranthesis the iterable is passes"
   ]
  },
  {
   "cell_type": "code",
   "execution_count": null,
   "id": "f5d328bc-38e1-4b14-a5a8-dfd36acf602d",
   "metadata": {},
   "outputs": [],
   "source": []
  },
  {
   "cell_type": "markdown",
   "id": "ed23df32-0cfb-47f8-84eb-ead3a6f603d3",
   "metadata": {},
   "source": [
    "6. Write a code that generates the squares of numbers from 1 to n using a generator."
   ]
  },
  {
   "cell_type": "code",
   "execution_count": 54,
   "id": "c90cb801-cc5f-4873-9071-ab77d29ac896",
   "metadata": {},
   "outputs": [
    {
     "name": "stdout",
     "output_type": "stream",
     "text": [
      "Enter any number:  9\n"
     ]
    },
    {
     "name": "stdout",
     "output_type": "stream",
     "text": [
      "1 4 9 16 25 36 49 64 81 "
     ]
    }
   ],
   "source": [
    "def square_num(n):\n",
    "    for i in range(1,n+1):\n",
    "        yield i**2;\n",
    "n=input(\"Enter any number: \")\n",
    "num=int(n)\n",
    "sq=square_num(num)\n",
    "for i in range(1,num+1):\n",
    "    print(next(sq),end=\" \")"
   ]
  },
  {
   "cell_type": "markdown",
   "id": "9049ac1c-ea9d-42f9-aa84-7efe8db85890",
   "metadata": {},
   "source": [
    "7. Write a code that generates palindromic numbers up to n using a generator."
   ]
  },
  {
   "cell_type": "code",
   "execution_count": 50,
   "id": "1a4098f3-1c89-4046-bb66-a23ba5b470c9",
   "metadata": {},
   "outputs": [
    {
     "name": "stdout",
     "output_type": "stream",
     "text": [
      "Enter any number 100\n"
     ]
    },
    {
     "name": "stdout",
     "output_type": "stream",
     "text": [
      "1  2  3  4  5  6  7  8  9  11  22  33  44  55  66  77  88  99  "
     ]
    }
   ],
   "source": [
    "\n",
    "def reverse_number(number):\n",
    "    # Convert the number to a string and reverse it\n",
    "    reversed_str = str(number)[::-1]\n",
    "    \n",
    "    # Convert the reversed string back to an integer\n",
    "    reversed_number = int(reversed_str)\n",
    "    \n",
    "    return reversed_number\n",
    "\n",
    "\n",
    "def palindrome(no):\n",
    "    for i in range(1,no+1):\n",
    "        j= reverse_number(i)\n",
    "        if i==j:\n",
    "            yield i\n",
    "        \n",
    "num=input(\"Enter any number\")\n",
    "n=int(num)\n",
    "gen=palindrome(n)  \n",
    "no=int(n)\n",
    "for i in gen:\n",
    "    print(i,end=\"  \")\n",
    "\n",
    "    \n",
    "\n"
   ]
  },
  {
   "cell_type": "markdown",
   "id": "c064a09e-72f1-400c-89c5-98ca1687b5f5",
   "metadata": {},
   "source": [
    "8.  Write a code that generates even numbers from 2 to n using a generator"
   ]
  },
  {
   "cell_type": "code",
   "execution_count": 51,
   "id": "99495bdd-a2f1-4469-92a4-5f8ba3083643",
   "metadata": {},
   "outputs": [
    {
     "name": "stdout",
     "output_type": "stream",
     "text": [
      "Enter any number 20\n"
     ]
    },
    {
     "name": "stdout",
     "output_type": "stream",
     "text": [
      "2  4  6  8  10  12  14  16  18  20  "
     ]
    }
   ],
   "source": [
    "def even(n):\n",
    "    for i in range(2,n+1):\n",
    "        if i%2==0:\n",
    "            yield i;\n",
    "num=input(\"Enter any number\")\n",
    "n=int(num)\n",
    "gen=even(n)\n",
    "for i in gen:\n",
    "    print(i,end=\"  \")"
   ]
  },
  {
   "cell_type": "markdown",
   "id": "3f31f98a-2850-4d6d-8749-d675de006c5f",
   "metadata": {},
   "source": [
    "9. Write a code that generates powers of two up to n using a generator"
   ]
  },
  {
   "cell_type": "code",
   "execution_count": 53,
   "id": "9ad16cef-77e2-44d5-ba9f-c106381f4780",
   "metadata": {},
   "outputs": [
    {
     "name": "stdout",
     "output_type": "stream",
     "text": [
      "Enter any number:  30\n"
     ]
    },
    {
     "name": "stdout",
     "output_type": "stream",
     "text": [
      "1  4  9  16  25  36  49  64  81  100  121  144  169  196  225  256  289  324  361  400  441  484  529  576  625  676  729  784  841  900  "
     ]
    }
   ],
   "source": [
    "def power_num(n):\n",
    "    for i in range(1,n+1):\n",
    "        yield i**2;\n",
    "n=input(\"Enter any number: \")\n",
    "num=int(n)\n",
    "sq=power_num(num)\n",
    "for i in range(1,num+1):\n",
    "    print(next(sq),end=\"  \")"
   ]
  },
  {
   "cell_type": "markdown",
   "id": "61b966fb-017a-4e39-8d86-bb58dcd48485",
   "metadata": {},
   "source": [
    "10. Write a code that generates prime numbers up to n using a generator."
   ]
  },
  {
   "cell_type": "code",
   "execution_count": 2,
   "id": "d2cb28e6-1fad-4950-bbdf-314f9edf8117",
   "metadata": {},
   "outputs": [
    {
     "name": "stdout",
     "output_type": "stream",
     "text": [
      "Enter any number:  12\n"
     ]
    },
    {
     "name": "stdout",
     "output_type": "stream",
     "text": [
      "2 3 5 7 11 "
     ]
    }
   ],
   "source": [
    "def is_prime(n):\n",
    "    count=0\n",
    "    for i in range(1,n+1):\n",
    "        if n%i==0:\n",
    "            count+=1\n",
    "            \n",
    "    return count==2\n",
    "    \n",
    "    \n",
    "def primegen(n):\n",
    "    for i in range(n):\n",
    "        if is_prime(i):\n",
    "            yield i\n",
    "    \n",
    "n=input(\"Enter any number: \")\n",
    "num=int(n)\n",
    "gen=primegen(num)\n",
    "for i in gen:\n",
    "    print(i,end=\" \")"
   ]
  },
  {
   "cell_type": "markdown",
   "id": "f8cd04fd-2869-4b09-9182-1cb205f621cc",
   "metadata": {},
   "source": [
    "11. Write a code that uses a lambda function to calculate the sum of two numbers\n"
   ]
  },
  {
   "cell_type": "code",
   "execution_count": 6,
   "id": "89e78f0e-b7cc-4894-9915-ccb50665b49a",
   "metadata": {},
   "outputs": [
    {
     "name": "stdout",
     "output_type": "stream",
     "text": [
      "Enter first number:  5\n",
      "Enter second number:  6\n"
     ]
    },
    {
     "data": {
      "text/plain": [
       "11"
      ]
     },
     "execution_count": 6,
     "metadata": {},
     "output_type": "execute_result"
    }
   ],
   "source": [
    "sum= lambda x,y:x+y\n",
    "n=input(\"Enter first number: \")\n",
    "num1=int(n)\n",
    "m=input(\"Enter second number: \")\n",
    "num2=int(m)\n",
    "sum(num1,num2)"
   ]
  },
  {
   "cell_type": "markdown",
   "id": "a368e15f-8910-4951-a2b6-66b994095e24",
   "metadata": {},
   "source": [
    "12. Write a code that uses a lambda function to calculate the square of a given number"
   ]
  },
  {
   "cell_type": "code",
   "execution_count": 8,
   "id": "81b2adcd-3366-4fa6-909e-9b2df6dbb859",
   "metadata": {},
   "outputs": [
    {
     "name": "stdout",
     "output_type": "stream",
     "text": [
      "Enter any number:  20\n"
     ]
    },
    {
     "data": {
      "text/plain": [
       "400"
      ]
     },
     "execution_count": 8,
     "metadata": {},
     "output_type": "execute_result"
    }
   ],
   "source": [
    "sq=lambda x : x**2\n",
    "    \n",
    "n=input(\"Enter any number: \")\n",
    "num=int(n)\n",
    "sq(num)"
   ]
  },
  {
   "cell_type": "markdown",
   "id": "6df16adb-580b-42c5-bce3-2319d2b525f4",
   "metadata": {},
   "source": [
    "13. Write a code that uses a lambda function to check whether a given number is even or odd\n"
   ]
  },
  {
   "cell_type": "code",
   "execution_count": 12,
   "id": "eb88dfcb-c1ac-4a98-9d62-d0c23f4c1a03",
   "metadata": {},
   "outputs": [
    {
     "name": "stdout",
     "output_type": "stream",
     "text": [
      "Enter any number:  90\n"
     ]
    },
    {
     "data": {
      "text/plain": [
       "'even'"
      ]
     },
     "execution_count": 12,
     "metadata": {},
     "output_type": "execute_result"
    }
   ],
   "source": [
    "evenOdd= lambda x: \"even\" if x%2==0 else \"odd\"\n",
    "\n",
    "n=input(\"Enter any number: \")\n",
    "num=int(n)\n",
    "evenOdd(num)"
   ]
  },
  {
   "cell_type": "markdown",
   "id": "25e4171f-75d6-4a21-a90b-e7a7b765a11e",
   "metadata": {},
   "source": [
    "15. Write a code that uses a lambda function to concatenate two strings"
   ]
  },
  {
   "cell_type": "code",
   "execution_count": 15,
   "id": "52a0cfcb-fb7f-4522-82af-a72231edf0d7",
   "metadata": {},
   "outputs": [
    {
     "name": "stdout",
     "output_type": "stream",
     "text": [
      "Enter first string:  hum\n",
      "Enter second string:  tum\n"
     ]
    },
    {
     "data": {
      "text/plain": [
       "'humtum'"
      ]
     },
     "execution_count": 15,
     "metadata": {},
     "output_type": "execute_result"
    }
   ],
   "source": [
    "concatenate = lambda x,y:x+y\n",
    "n=input(\"Enter first string: \")\n",
    "\n",
    "m=input(\"Enter second string: \")\n",
    "\n",
    "concatenate(n,m)"
   ]
  },
  {
   "cell_type": "markdown",
   "id": "a93dfd20-7145-4616-a7da-3109891f61f4",
   "metadata": {},
   "source": [
    "16. Write a code that uses a lambda function to find the maximum of three given numbers.\n"
   ]
  },
  {
   "cell_type": "code",
   "execution_count": 8,
   "id": "c1576b42-bd48-4ee3-96ba-17b3c58df09b",
   "metadata": {},
   "outputs": [
    {
     "name": "stdout",
     "output_type": "stream",
     "text": [
      "Enter first number:  10\n",
      "Enter second number:  23\n",
      "Enter third number:  9\n"
     ]
    },
    {
     "data": {
      "text/plain": [
       "23"
      ]
     },
     "execution_count": 8,
     "metadata": {},
     "output_type": "execute_result"
    }
   ],
   "source": [
    "\n",
    "max_of_three = lambda a, b, c: a if (a > b and a > c) else (b if b > c else c)\n",
    "\n",
    "n=input(\"Enter first number: \")\n",
    "num1=int(n)\n",
    "m=input(\"Enter second number: \")\n",
    "num2=int(m)\n",
    "p=input(\"Enter third number: \")\n",
    "num3=int(p)\n",
    "\n",
    "max_of_three(num1,num2,num3)\n",
    "\n"
   ]
  },
  {
   "cell_type": "markdown",
   "id": "c9ad0635-14e5-4b5a-b995-4331f33078c4",
   "metadata": {},
   "source": [
    "17. Write a code that generates the squares of even numbers from a given list\n"
   ]
  },
  {
   "cell_type": "code",
   "execution_count": 16,
   "id": "8d5ae291-5a53-4fc6-9f3b-2eca1bda24c8",
   "metadata": {},
   "outputs": [
    {
     "name": "stdout",
     "output_type": "stream",
     "text": [
      "Enter the list of number 5,6,7,8\n"
     ]
    },
    {
     "name": "stdout",
     "output_type": "stream",
     "text": [
      "[5, 6, 7, 8]\n",
      "[5, 36, 7, 64]\n"
     ]
    }
   ],
   "source": [
    "inplis= input(\"Enter the list of number\")\n",
    "lis=inplis.split(',')\n",
    "numlis=[]\n",
    "for i in lis:\n",
    "    j=int(i)\n",
    "    numlis.append(j)\n",
    "print(numlis)\n",
    "sqeven=[]\n",
    "for i in numlis:\n",
    "    if i%2==0:\n",
    "        sqeven.append(i*i)\n",
    "    else:\n",
    "        sqeven.append(i)\n",
    "print(sqeven)\n"
   ]
  },
  {
   "cell_type": "markdown",
   "id": "72c4df04-fd00-4b60-8b09-273e076c1db2",
   "metadata": {},
   "source": [
    "18. Write a code that calculates the product of positive numbers from a given list\n"
   ]
  },
  {
   "cell_type": "code",
   "execution_count": 7,
   "id": "afb619ae-f8bf-4b07-939f-5191e11013e7",
   "metadata": {},
   "outputs": [
    {
     "name": "stdout",
     "output_type": "stream",
     "text": [
      "Enter the list of number 2,-2,-1,3\n"
     ]
    },
    {
     "name": "stdout",
     "output_type": "stream",
     "text": [
      "[2, -2, -1, 3]\n",
      "6\n"
     ]
    }
   ],
   "source": [
    "inplis= input(\"Enter the list of number\")\n",
    "lis=inplis.split(',')\n",
    "numlis=[]\n",
    "for i in lis:\n",
    "    j=int(i)\n",
    "    numlis.append(j)\n",
    "print(numlis)\n",
    "prod=1\n",
    "for i in numlis:\n",
    "    if i>0:\n",
    "        prod*=i\n",
    "    \n",
    "print(prod)\n"
   ]
  },
  {
   "cell_type": "markdown",
   "id": "7c24ad4b-2ee0-49a7-8d0e-aca4aad8310f",
   "metadata": {},
   "source": [
    "19. Write a code that doubles the values of odd numbers from a given list"
   ]
  },
  {
   "cell_type": "code",
   "execution_count": 9,
   "id": "ccfc4b9d-1815-4e12-83c4-59b09f80472c",
   "metadata": {},
   "outputs": [
    {
     "name": "stdout",
     "output_type": "stream",
     "text": [
      "Enter the list of number 2,3,4,5,6,7,8\n"
     ]
    },
    {
     "name": "stdout",
     "output_type": "stream",
     "text": [
      "[2, 3, 4, 5, 6, 7, 8]\n",
      "[2, 6, 4, 10, 6, 14, 8]\n"
     ]
    }
   ],
   "source": [
    "inplis= input(\"Enter the list of number\")\n",
    "lis=inplis.split(',')\n",
    "numlis=[]\n",
    "for i in lis:\n",
    "    j=int(i)\n",
    "    numlis.append(j)\n",
    "print(numlis)\n",
    "odd=[]\n",
    "for i in numlis:\n",
    "    if i%2!=0:\n",
    "        odd.append(i*2)\n",
    "    else:\n",
    "        odd.append(i)\n",
    "print(odd)\n"
   ]
  },
  {
   "cell_type": "code",
   "execution_count": 13,
   "id": "d4613aa7-428c-48ab-ae79-26ce01032175",
   "metadata": {},
   "outputs": [
    {
     "name": "stdout",
     "output_type": "stream",
     "text": [
      "Enter the list of number 1,2,3,4,5,6\n"
     ]
    },
    {
     "name": "stdout",
     "output_type": "stream",
     "text": [
      "[1, 2, 3, 4, 5, 6]\n",
      "441\n"
     ]
    }
   ],
   "source": [
    "inplis= input(\"Enter the list of number\")\n",
    "lis=inplis.split(',')\n",
    "numlis=[]\n",
    "for i in lis:\n",
    "    j=int(i)\n",
    "    numlis.append(j)\n",
    "print(numlis)\n",
    "sum=0\n",
    "for i in numlis:\n",
    "    sum+= i**3\n",
    "    \n",
    "print(sum)"
   ]
  },
  {
   "cell_type": "code",
   "execution_count": 18,
   "id": "b109f04c-9fb4-4fb9-b921-377d1a2808c6",
   "metadata": {},
   "outputs": [
    {
     "name": "stdout",
     "output_type": "stream",
     "text": [
      "Enter the list of number 4,5,6,7,8\n"
     ]
    },
    {
     "name": "stdout",
     "output_type": "stream",
     "text": [
      "[5, 7]\n"
     ]
    }
   ],
   "source": [
    "def is_prime(n):\n",
    "    count=0\n",
    "    for i in range(1,n+1):\n",
    "        if n%i==0:\n",
    "            count+=1\n",
    "            \n",
    "    if count==2:\n",
    "        return i\n",
    "    \n",
    "inplis= input(\"Enter the list of number\")\n",
    "lis=inplis.split(',')\n",
    "numlis=[]\n",
    "for i in lis:\n",
    "    j=int(i)\n",
    "    numlis.append(j)\n",
    "    \n",
    "ans=list(filter(is_prime,numlis))\n",
    "print(ans)"
   ]
  },
  {
   "cell_type": "markdown",
   "id": "1a527f1b-f0fb-41fb-93fd-b763a31f0157",
   "metadata": {},
   "source": [
    "22. Write a code that uses a lambda function to calculate the sum of two numbers"
   ]
  },
  {
   "cell_type": "code",
   "execution_count": 20,
   "id": "82485bb4-f413-47ba-9bba-0b3ce347e908",
   "metadata": {},
   "outputs": [
    {
     "name": "stdout",
     "output_type": "stream",
     "text": [
      "Enter first number:  1\n",
      "Enter second number:  2\n"
     ]
    },
    {
     "data": {
      "text/plain": [
       "3"
      ]
     },
     "execution_count": 20,
     "metadata": {},
     "output_type": "execute_result"
    }
   ],
   "source": [
    "sum= lambda x,y:x+y\n",
    "n=input(\"Enter first number: \")\n",
    "num1=int(n)\n",
    "m=input(\"Enter second number: \")\n",
    "num2=int(m)\n",
    "sum(num1,num2)"
   ]
  },
  {
   "cell_type": "markdown",
   "id": "71bffc9d-f94e-4609-a148-3d3e1df74b6e",
   "metadata": {},
   "source": [
    "23. Write a code that uses a lambda function to calculate the square of a given number"
   ]
  },
  {
   "cell_type": "code",
   "execution_count": 22,
   "id": "6ab50ff7-5f39-4880-a526-038a32ef71ab",
   "metadata": {},
   "outputs": [
    {
     "name": "stdout",
     "output_type": "stream",
     "text": [
      "Enter any number:  3\n"
     ]
    },
    {
     "data": {
      "text/plain": [
       "9"
      ]
     },
     "execution_count": 22,
     "metadata": {},
     "output_type": "execute_result"
    }
   ],
   "source": [
    "sq=lambda x : x**2\n",
    "    \n",
    "n=input(\"Enter any number: \")\n",
    "num=int(n)\n",
    "sq(num)"
   ]
  },
  {
   "cell_type": "markdown",
   "id": "7cdc5a6a-1552-4953-90a2-ac13b9d6e405",
   "metadata": {},
   "source": [
    "24. Write a code that uses a lambda function to check whether a given number is even or odd\n"
   ]
  },
  {
   "cell_type": "code",
   "execution_count": 23,
   "id": "96f79e72-c138-4b79-b3a2-4bc68e34036a",
   "metadata": {},
   "outputs": [
    {
     "name": "stdout",
     "output_type": "stream",
     "text": [
      "Enter any number:  4\n"
     ]
    },
    {
     "data": {
      "text/plain": [
       "'even'"
      ]
     },
     "execution_count": 23,
     "metadata": {},
     "output_type": "execute_result"
    }
   ],
   "source": [
    "evenOdd= lambda x: \"even\" if x%2==0 else \"odd\"\n",
    "\n",
    "n=input(\"Enter any number: \")\n",
    "num=int(n)\n",
    "evenOdd(num)"
   ]
  },
  {
   "cell_type": "markdown",
   "id": "69b2b8b5-0220-47a3-9ebe-e935bc1cb9f3",
   "metadata": {},
   "source": [
    "25. Write a code that uses a lambda function to concatenate two strings"
   ]
  },
  {
   "cell_type": "code",
   "execution_count": 25,
   "id": "46034913-d4a4-495d-a66e-1fa557bb7ef7",
   "metadata": {},
   "outputs": [
    {
     "name": "stdout",
     "output_type": "stream",
     "text": [
      "Enter first string:  hello\n",
      "Enter second string:  world\n"
     ]
    },
    {
     "data": {
      "text/plain": [
       "'helloworld'"
      ]
     },
     "execution_count": 25,
     "metadata": {},
     "output_type": "execute_result"
    }
   ],
   "source": [
    "concatenate = lambda x,y:x+y\n",
    "n=input(\"Enter first string: \")\n",
    "\n",
    "m=input(\"Enter second string: \")\n",
    "\n",
    "concatenate(n,m)"
   ]
  },
  {
   "cell_type": "markdown",
   "id": "691e0ccd-ea09-4166-9e64-843426be795d",
   "metadata": {},
   "source": [
    "26. Write a code that uses a lambda function to find the maximum of three given numbers.\n"
   ]
  },
  {
   "cell_type": "code",
   "execution_count": 26,
   "id": "72c841c7-621f-4263-bd14-4465be03bbd0",
   "metadata": {},
   "outputs": [
    {
     "name": "stdout",
     "output_type": "stream",
     "text": [
      "Enter first number:  1\n",
      "Enter second number:  2\n",
      "Enter third number:  34\n"
     ]
    },
    {
     "data": {
      "text/plain": [
       "34"
      ]
     },
     "execution_count": 26,
     "metadata": {},
     "output_type": "execute_result"
    }
   ],
   "source": [
    "\n",
    "max_of_three = lambda a, b, c: a if (a > b and a > c) else (b if b > c else c)\n",
    "\n",
    "n=input(\"Enter first number: \")\n",
    "num1=int(n)\n",
    "m=input(\"Enter second number: \")\n",
    "num2=int(m)\n",
    "p=input(\"Enter third number: \")\n",
    "num3=int(p)\n",
    "\n",
    "max_of_three(num1,num2,num3)\n",
    "\n"
   ]
  },
  {
   "cell_type": "markdown",
   "id": "8fd8be16-da4a-41a6-ad24-4f4c923b12ca",
   "metadata": {},
   "source": [
    "27. What is encapsulation in OOP?\n",
    "\n",
    "*Ans: Encapsulation means hiding something, bundling of data and methods in such a way that we can manage them as public,private or protected access modifiers*"
   ]
  },
  {
   "cell_type": "markdown",
   "id": "548ee4fe-b21f-49c9-a20d-b90cf9218b4f",
   "metadata": {},
   "source": [
    "28. Explain the use of access modifiers in Python classes?\n",
    "\n",
    "*Ans: In Python, access modifiers are used to control the visibility of attributes and methods within a class.*"
   ]
  },
  {
   "cell_type": "markdown",
   "id": "b63d63f3-d955-4a50-98ad-6b72959b09d2",
   "metadata": {},
   "source": [
    "29. What is inheritance in OOP?\n",
    "\n",
    "*Ans: Inheriting refers to process of child class receiving property of parent class*"
   ]
  },
  {
   "cell_type": "markdown",
   "id": "c526d70d-4e98-47b0-88a8-7d7a5cd8cdda",
   "metadata": {},
   "source": [
    "30. Define polymorphism in OOP?\n",
    "\n",
    "*Ans: It refers to an object taking several forms depending on data*\n"
   ]
  },
  {
   "cell_type": "markdown",
   "id": "72775f0f-d80c-44ea-a49a-581962e44369",
   "metadata": {},
   "source": [
    "31. Explain method overriding in Python\n",
    "\n",
    "*Ans: Method overriding in Python occurs when a subclass provides a specific implementation of a method that is already defined in its superclass.*\n",
    "\n"
   ]
  },
  {
   "cell_type": "markdown",
   "id": "e84699c3-bddb-4596-a49f-b0ce73b2983b",
   "metadata": {},
   "source": [
    "32. Define a parent class Animal with a method make_sound that prints \"Generic animal sound\". Create a \n",
    "child class Dog inheriting from Animal with a method make_sound that prints \"Woof!\"\u001c\n",
    "\n"
   ]
  },
  {
   "cell_type": "code",
   "execution_count": 5,
   "id": "784089e7-9a1a-4dd2-8118-0dcec17ce4b3",
   "metadata": {},
   "outputs": [
    {
     "name": "stdout",
     "output_type": "stream",
     "text": [
      "Woof!\n"
     ]
    }
   ],
   "source": [
    "class Animal:\n",
    "    def make_sound():\n",
    "        print(\"Generic animal sound\")\n",
    "\n",
    "class Dog(Animal):\n",
    "    def make_sound():\n",
    "        print(\"Woof!\")\n",
    "\n",
    "dogSound=Dog\n",
    "dogSound.make_sound()"
   ]
  },
  {
   "cell_type": "markdown",
   "id": "e035d45a-905a-4426-b14a-b2d1610dd717",
   "metadata": {},
   "source": [
    "33. Define a method move in the Animal class that prints \"Animal moves\". Override the move method in the Dog class to print \"Dog runs\""
   ]
  },
  {
   "cell_type": "code",
   "execution_count": 1,
   "id": "b843c286-1977-4311-a573-3e3f4fcc5636",
   "metadata": {},
   "outputs": [
    {
     "name": "stdout",
     "output_type": "stream",
     "text": [
      "Dog runs\n"
     ]
    }
   ],
   "source": [
    "class Animal:\n",
    "    def make_sound():\n",
    "        print(\"Generic animal sound\")\n",
    "    def move():\n",
    "        print(\"Animal moves\")\n",
    "\n",
    "class Dog(Animal):\n",
    "    def make_sound():\n",
    "        print(\"Woof!\")\n",
    "    def move():\n",
    "        print(\"Dog runs\")\n",
    "\n",
    "dog_movement=Dog\n",
    "dog_movement.move()"
   ]
  },
  {
   "cell_type": "markdown",
   "id": "99f61a2c-07d9-423a-989b-bcb5924361d2",
   "metadata": {},
   "source": [
    "34.  Create a class Mammal with a method reproduce that prints \"Giving birth to live young.\" Create a class DogMammal inheriting from both Dog and Mammal"
   ]
  },
  {
   "cell_type": "code",
   "execution_count": 2,
   "id": "305790f5-486c-485c-9339-f77f00ae282d",
   "metadata": {},
   "outputs": [
    {
     "name": "stdout",
     "output_type": "stream",
     "text": [
      "Giving birth to live young\n"
     ]
    }
   ],
   "source": [
    "class Mammal:\n",
    "    def reproduce():\n",
    "        print(\"Giving birth to live young\")\n",
    "    \n",
    "class Dog():\n",
    "    def make_sound():\n",
    "        print(\"Woof!\")\n",
    "    def move():\n",
    "        print(\"Dog runs\")\n",
    "\n",
    "class DogMammal(Dog,Mammal):\n",
    "      pass\n",
    "\n",
    "dogmammal= DogMammal\n",
    "dogmammal.reproduce()\n",
    "        "
   ]
  },
  {
   "cell_type": "markdown",
   "id": "b6db405e-9303-435d-b491-178b3fde4837",
   "metadata": {},
   "source": [
    "35. Create a class GermanShepherd inheriting from Dog and override the make_sound method to print \"Bark!\"\n"
   ]
  },
  {
   "cell_type": "code",
   "execution_count": 3,
   "id": "53da79bd-21e8-47b3-a9e3-a39718288b64",
   "metadata": {},
   "outputs": [
    {
     "name": "stdout",
     "output_type": "stream",
     "text": [
      "Bark!\n"
     ]
    }
   ],
   "source": [
    "class GermanShepherd(Dog):\n",
    "    def make_sound():\n",
    "        print(\"Bark!\")\n",
    "    \n",
    "german=GermanShepherd\n",
    "german.make_sound()"
   ]
  },
  {
   "cell_type": "markdown",
   "id": "78e4a3fe-15e7-4ad1-a197-d68dbb07f635",
   "metadata": {},
   "source": [
    "36.  Define constructors in both the Animal and Dog classes with different initialization parameters"
   ]
  },
  {
   "cell_type": "code",
   "execution_count": 8,
   "id": "c1556488-6c94-435e-bd87-a5625179a315",
   "metadata": {},
   "outputs": [
    {
     "name": "stdout",
     "output_type": "stream",
     "text": [
      "Breed is pug\n"
     ]
    }
   ],
   "source": [
    "class Animal:\n",
    "    def __init__(self,name):\n",
    "        self.name=name\n",
    "    def show_animal(self):\n",
    "            name=self.name\n",
    "            print(\"Animal is \",name)\n",
    "            \n",
    "            \n",
    "class Dog(Animal):\n",
    "    def __init__(self,breed):\n",
    "        self.breed=breed\n",
    "    def show_dog(self):\n",
    "            breed=self.breed\n",
    "            print(\"Breed is\",breed)\n",
    "            \n",
    "\n",
    "dog=Dog(\"pug\")\n",
    "dog.show_dog()\n",
    "    "
   ]
  },
  {
   "cell_type": "markdown",
   "id": "43e42aa2-0aac-4a7b-a1cc-da6624e38cd4",
   "metadata": {},
   "source": [
    "37.  What is abstraction in Python? How is it implemented?\n",
    "\n",
    "*Ans: Concept of hiding complex implementation is called abstraction\n",
    "It is implemented by importing ABC class and abstractmethod decorator from abc module\n",
    "and then creating a parent class in which we can define some methods which will be assigned with the decorator called @abc.abstractmethod*\n"
   ]
  },
  {
   "cell_type": "markdown",
   "id": "b043de14-e55d-4da3-a711-722cb6ddbb7c",
   "metadata": {},
   "source": [
    "38. Explain the importance of abstraction in object-oriented programming\n",
    "\n",
    "*Ans: Abstraction is used to encapsulate complex implementation details within classes and exposes only necessary functionalitites outside the world*"
   ]
  },
  {
   "cell_type": "markdown",
   "id": "ec5ea024-8d5d-44e2-83fe-5e9d6c62301a",
   "metadata": {},
   "source": [
    "39. How are abstract methods different from regular methods in Python\n",
    "\n",
    "*Ans: Abstract methods define a template for subclasses to follow, while regular methods provide concrete functionality within a class.*"
   ]
  },
  {
   "cell_type": "markdown",
   "id": "28523d32",
   "metadata": {},
   "source": [
    "40. How can you achieve abstraction using interfaces in Python?\n",
    "\n",
    "*Ans: Define abstract methods within the ABC using the @abstractmethod decorator. Subclasses must implement these abstract methods, enforcing a contract for how they should behave, thus achieving abstraction.*"
   ]
  },
  {
   "cell_type": "markdown",
   "id": "34c4e777",
   "metadata": {},
   "source": [
    "41. Can you provide an example of how abstraction can be utilized to create a common interface for a group \n"
   ]
  },
  {
   "cell_type": "code",
   "execution_count": 21,
   "id": "b81fd8cf",
   "metadata": {},
   "outputs": [
    {
     "name": "stdout",
     "output_type": "stream",
     "text": [
      "6\n",
      "9\n"
     ]
    }
   ],
   "source": [
    "import abc\n",
    "\n",
    "class Shape:\n",
    "    @abc.abstractmethod\n",
    "    def area(self):\n",
    "        pass\n",
    "    \n",
    "class Rectangle(Shape):\n",
    "    def area(self,l,b):\n",
    "        return l*b\n",
    "    \n",
    "class Square(Shape):\n",
    "    def area(self,l):\n",
    "        return l**2\n",
    "    \n",
    "rect=Rectangle()\n",
    "print(rect.area(2,3))\n",
    "\n",
    "sq=Square()\n",
    "print(sq.area(3))"
   ]
  },
  {
   "cell_type": "markdown",
   "id": "cca66f1f",
   "metadata": {},
   "source": [
    "42. How does Python achieve polymorphism through method overriding?\n",
    "\n",
    "*Ans:  Polymorphism through method overriding is achieved by allowing subclasses to provide their own implementation of a method that is already defined in their superclass. When a method is called on an object, Python checks if the object's class has overridden that method. If it has, Python executes the overridden method; otherwise, it executes the method defined in the superclass.*"
   ]
  },
  {
   "cell_type": "markdown",
   "id": "3a1c4741",
   "metadata": {},
   "source": [
    "43. Define a base class with a method and a subclass that overrides the method\n",
    "\n"
   ]
  },
  {
   "cell_type": "code",
   "execution_count": 24,
   "id": "54b44919",
   "metadata": {},
   "outputs": [
    {
     "name": "stdout",
     "output_type": "stream",
     "text": [
      "Cat meows\n"
     ]
    }
   ],
   "source": [
    "class Animal:\n",
    "    def sound():\n",
    "        print(\"Animal's sound\")\n",
    "\n",
    "class Cat(Animal):\n",
    "    def sound():\n",
    "        print(\"Cat meows\")\n",
    "        \n",
    "cat=Cat\n",
    "cat.sound()"
   ]
  },
  {
   "cell_type": "markdown",
   "id": "512b1180",
   "metadata": {},
   "source": [
    "44. Define a base class and multiple subclasses with overridden methods"
   ]
  },
  {
   "cell_type": "code",
   "execution_count": 3,
   "id": "ba933334",
   "metadata": {},
   "outputs": [
    {
     "name": "stdout",
     "output_type": "stream",
     "text": [
      "Cat meows\n",
      "Dog barks\n",
      "Lion Roar\n"
     ]
    }
   ],
   "source": [
    "class Animal:\n",
    "    def sound():\n",
    "        print(\"Animal's sound\")\n",
    "\n",
    "class Cat(Animal):\n",
    "    def sound():\n",
    "        print(\"Cat meows\")\n",
    "        \n",
    "class Lion(Animal):\n",
    "    def sound():\n",
    "        print(\"Lion Roar\")\n",
    "        \n",
    "class Dog(Animal):\n",
    "    def sound():\n",
    "        print(\"Dog barks\")\n",
    "        \n",
    "cat=Cat\n",
    "cat.sound()\n",
    "\n",
    "dog=Dog\n",
    "dog.sound()\n",
    "\n",
    "lion=Lion\n",
    "lion.sound()"
   ]
  },
  {
   "cell_type": "markdown",
   "id": "34cd9ce8",
   "metadata": {},
   "source": [
    "45.  How does polymorphism improve code readability and reusability?\n",
    "\n",
    " Readability:Polymorphism allows developers to write code that operates on objects of various types in a uniform manner.Developers can focus on the behavior of objects rather than their specific types, leading to cleaner and more expressive code.\n",
    "\n",
    " example:\n",
    " \n",
    " len(\"Ramu)=> Output=4\n",
    "\n",
    " len([1,2,3,4,5])=> Output=5\n",
    "\n",
    "\n",
    " Reusability:  By defining common interfaces or base classes, multiple classes can implement their own versions of methods while adhering to the same interface. \n",
    "\n"
   ]
  },
  {
   "cell_type": "markdown",
   "id": "2a962557",
   "metadata": {},
   "source": [
    " 46. Describe how Python supports polymorphism with duck typing"
   ]
  },
  {
   "cell_type": "markdown",
   "id": "56fe75b9",
   "metadata": {},
   "source": [
    "47. How do you achieve encapsulation in Python?\n",
    "\n",
    "*Ans: We achieve encapsulation in python with the use of access modifiers\n",
    "\n",
    "Private Access Modifiers- Accessible within the class only declared with the use of double underscore  . Example - self.__degree=degree\n",
    "thus degree becomes a private element\n",
    "\n",
    "Protected Access Modifiers- Accesible within the class and its sub class protected member can be accessed. Example -  self._degree=degree\n",
    "thus degree becomes a protected element"
   ]
  },
  {
   "cell_type": "markdown",
   "id": "d243c2e1",
   "metadata": {},
   "source": [
    "48. Can encapsulation be bypassed in Python? If so, how?\n",
    "\n",
    "Sorry I am unable to understand question"
   ]
  },
  {
   "cell_type": "markdown",
   "id": "91ba38ac",
   "metadata": {},
   "source": [
    "49.  Implement a class BankAccount with a private balance attribute. Include methods to deposit, withdraw, \n",
    "and check the balance"
   ]
  },
  {
   "cell_type": "code",
   "execution_count": 11,
   "id": "920373b7",
   "metadata": {},
   "outputs": [
    {
     "data": {
      "text/plain": [
       "2000"
      ]
     },
     "execution_count": 11,
     "metadata": {},
     "output_type": "execute_result"
    }
   ],
   "source": [
    "class BankAccount:\n",
    "    def __init__(self,balance):\n",
    "        self.__balance=balance\n",
    "        \n",
    "    def depositMoney(self,amount):\n",
    "       self.__balance+=amount\n",
    "       \n",
    "    def withdrawMoney(self,amount):\n",
    "        if self.__balance>=amount:\n",
    "             self.__balance-=amount\n",
    "             return True\n",
    "        else: return False\n",
    "        \n",
    "    def get_balance(self):\n",
    "        return self.__balance\n",
    "       \n",
    "bank= BankAccount(1000)\n",
    "bank.depositMoney(1000)\n",
    "bank.get_balance()\n"
   ]
  },
  {
   "cell_type": "markdown",
   "id": "0df0ff18",
   "metadata": {},
   "source": [
    "50. Develop a Person class with private attributes name and email, and methods to set and get the email\u001c"
   ]
  },
  {
   "cell_type": "code",
   "execution_count": 12,
   "id": "0db87e75",
   "metadata": {},
   "outputs": [
    {
     "name": "stdout",
     "output_type": "stream",
     "text": [
      "john@example.com\n",
      "john.doe@example.com\n"
     ]
    }
   ],
   "source": [
    "\n",
    "class Person:\n",
    "    def __init__(self, name, email):\n",
    "        self.__name = name  \n",
    "        self.__email = email  \n",
    "        \n",
    "    def set_email(self, email):\n",
    "        self.__email = email\n",
    "\n",
    "    def get_email(self):\n",
    "        return self.__email\n",
    "\n",
    "\n",
    "\n",
    "person = Person(\"John\", \"john@example.com\")\n",
    "\n",
    "print(person.get_email())  \n",
    "person.set_email(\"john.doe@example.com\")\n",
    "print(person.get_email())  \n"
   ]
  },
  {
   "cell_type": "markdown",
   "id": "29cd4008",
   "metadata": {},
   "source": [
    "51. Why is encapsulation considered a pillar of object-oriented programming (OOP)?\n",
    "\n",
    "*Ans:It hides the internal state and implementation details of an object, providing a clear interface for interacting with it.This helps in managing complexity, enhancing code reusability, and ensuring the reliability and maintainability of software systems.*"
   ]
  },
  {
   "cell_type": "markdown",
   "id": "e1b0f1ec",
   "metadata": {},
   "source": [
    "52.  Create a decorator in Python that adds functionality to a simple function by printing a message before \n",
    "and after the function execution"
   ]
  },
  {
   "cell_type": "code",
   "execution_count": 24,
   "id": "5d31690c",
   "metadata": {},
   "outputs": [
    {
     "name": "stdout",
     "output_type": "stream",
     "text": [
      "Before\n",
      "hello\n",
      "After\n"
     ]
    }
   ],
   "source": [
    "def my_decorator(func):\n",
    "    def wrapper():\n",
    "        print(\"Before function execution\")\n",
    "        func()\n",
    "        print(\"After function execution\")\n",
    "        \n",
    "    return wrapper\n",
    "        \n",
    "@my_decorator\n",
    "def say_hello():\n",
    "    print(\"hello\")\n",
    "   \n",
    "say_hello()\n",
    "   "
   ]
  },
  {
   "cell_type": "markdown",
   "id": "7628e3af",
   "metadata": {},
   "source": [
    "53. Modify the decorator to accept arguments and print the function name along with the message"
   ]
  },
  {
   "cell_type": "code",
   "execution_count": 4,
   "id": "eba58c7a",
   "metadata": {},
   "outputs": [
    {
     "name": "stdout",
     "output_type": "stream",
     "text": [
      "Before function say_hello execution \n",
      "hello\n",
      "After function say_hello  execution \n"
     ]
    }
   ],
   "source": [
    "def my_decorator(func):\n",
    "    def wrapper():\n",
    "        functionname= func.__name__\n",
    "        print(f\"Before function {functionname} execution \")\n",
    "        func()\n",
    "        print(f\"After function {functionname}  execution \")\n",
    "        \n",
    "    return wrapper\n",
    "        \n",
    "@my_decorator\n",
    "def say_hello():\n",
    "    print(\"hello\")\n",
    "   \n",
    "say_hello()\n",
    "   "
   ]
  },
  {
   "cell_type": "markdown",
   "id": "ea996a6a",
   "metadata": {},
   "source": [
    "54. Create two decorators, and apply them to a single function. Ensure that they execute in the order they are \n",
    "applied"
   ]
  },
  {
   "cell_type": "code",
   "execution_count": 7,
   "id": "d3fa9b99",
   "metadata": {},
   "outputs": [
    {
     "name": "stdout",
     "output_type": "stream",
     "text": [
      "Decorator 1 - Before function execution\n",
      "Decorator 2 - Before function execution\n",
      "Inside my_function\n",
      "Decorator 2 - After function execution\n",
      "Decorator 1 - After function execution\n"
     ]
    }
   ],
   "source": [
    "\n",
    "def decorator1(func):\n",
    "    def wrapper(*args, **kwargs):\n",
    "        print(\"Decorator 1 - Before function execution\")\n",
    "        result = func(*args)\n",
    "        print(\"Decorator 1 - After function execution\")\n",
    "        return result\n",
    "    return wrapper\n",
    "\n",
    "\n",
    "def decorator2(func):\n",
    "    def wrapper(*args, **kwargs):\n",
    "        print(\"Decorator 2 - Before function execution\")\n",
    "        result = func(*args)\n",
    "        print(\"Decorator 2 - After function execution\")\n",
    "        return result\n",
    "    return wrapper\n",
    "\n",
    "\n",
    "@decorator1\n",
    "@decorator2\n",
    "def my_function():\n",
    "    print(\"Inside my_function\")\n",
    "    \n",
    "# Invoking the decorated function\n",
    "my_function()\n"
   ]
  },
  {
   "cell_type": "markdown",
   "id": "7330ed77",
   "metadata": {},
   "source": [
    "55 . Modify the decorator to accept and pass function arguments to the wrapped function"
   ]
  },
  {
   "cell_type": "code",
   "execution_count": 10,
   "id": "e0b3731e",
   "metadata": {},
   "outputs": [
    {
     "name": "stdout",
     "output_type": "stream",
     "text": [
      "Decorator 2 - Before function execution\n",
      "Decorator 1 - Before function execution\n",
      "Inside my_function\n",
      "Name: John\n",
      "Decorator 1 - After function execution\n",
      "Decorator 2 - After function execution\n"
     ]
    }
   ],
   "source": [
    "# First decorator\n",
    "def decorator1(func):\n",
    "    def wrapper(*args, **kwargs):\n",
    "        print(\"Decorator 1 - Before function execution\")\n",
    "        result = func(*args, **kwargs) \n",
    "        print(\"Decorator 1 - After function execution\")\n",
    "        return result\n",
    "    return wrapper\n",
    "\n",
    "# Second decorator\n",
    "def decorator2(func):\n",
    "    def wrapper(*args, **kwargs):\n",
    "        print(\"Decorator 2 - Before function execution\")\n",
    "        result = func(*args, **kwargs) \n",
    "        print(\"Decorator 2 - After function execution\")\n",
    "        return result\n",
    "    return wrapper\n",
    "\n",
    "\n",
    "@decorator2\n",
    "@decorator1\n",
    "def my_function(name):\n",
    "    print(\"Inside my_function\")\n",
    "    print(\"Name:\", name)\n",
    "    \n",
    "\n",
    "my_function(\"John\")\n"
   ]
  },
  {
   "cell_type": "markdown",
   "id": "6a8bd3b4",
   "metadata": {},
   "source": [
    "56. Create a decorator that preserves the metadata of the original function\n",
    "\n",
    "Sorry I don't know the answer\n",
    "\n"
   ]
  },
  {
   "cell_type": "markdown",
   "id": "4b5eb415",
   "metadata": {},
   "source": [
    "57. Create a Python class `Calculator` with a static method `add` that takes in two numbers and returns their \n",
    "sum"
   ]
  },
  {
   "cell_type": "code",
   "execution_count": 14,
   "id": "248ef0c1",
   "metadata": {},
   "outputs": [
    {
     "data": {
      "text/plain": [
       "7"
      ]
     },
     "execution_count": 14,
     "metadata": {},
     "output_type": "execute_result"
    }
   ],
   "source": [
    "class Calculator:\n",
    "    @staticmethod\n",
    "    def add(x,y):\n",
    "        return (x+y);\n",
    "    \n",
    "calc=Calculator\n",
    "calc.add(3,4)"
   ]
  },
  {
   "cell_type": "markdown",
   "id": "44fbd516",
   "metadata": {},
   "source": [
    "58. Create a Python class `Employee` with a class `method get_employee_count` that returns the total \n",
    "number of employees created"
   ]
  },
  {
   "cell_type": "code",
   "execution_count": 27,
   "id": "b210ed3e",
   "metadata": {},
   "outputs": [
    {
     "data": {
      "text/plain": [
       "2"
      ]
     },
     "execution_count": 27,
     "metadata": {},
     "output_type": "execute_result"
    }
   ],
   "source": [
    "class Employee:\n",
    "    count=0\n",
    "    def __init__(self,name):\n",
    "        self.name=name\n",
    "        Employee.count+=1\n",
    "        \n",
    "    \n",
    "    def get_employee_count(self):\n",
    "        count=self.count\n",
    "        return count\n",
    "    \n",
    "emp=Employee(\"RAM\")\n",
    "emp=Employee(\"SHYAM\")\n",
    "emp.get_employee_count()"
   ]
  },
  {
   "cell_type": "markdown",
   "id": "b832bf38",
   "metadata": {},
   "source": [
    "59. Create a Python class `StringFormatter` with a static method `reverse_string` that takes a string as input \n",
    "and returns its reverse\n"
   ]
  },
  {
   "cell_type": "code",
   "execution_count": 31,
   "id": "3326ba91",
   "metadata": {},
   "outputs": [
    {
     "data": {
      "text/plain": [
       "'OLLEH'"
      ]
     },
     "execution_count": 31,
     "metadata": {},
     "output_type": "execute_result"
    }
   ],
   "source": [
    "class StringFormatter:\n",
    "    def __init__(self,string):\n",
    "        self.string=string\n",
    "        \n",
    "    def reverse_string(self):\n",
    "        string=self.string\n",
    "        rev=string[::-1]\n",
    "        return rev\n",
    "    \n",
    "strr=StringFormatter(\"HELLO\")\n",
    "strr.reverse_string()"
   ]
  },
  {
   "cell_type": "markdown",
   "id": "f8cd6323",
   "metadata": {},
   "source": [
    "60.  Create a Python class `Circle` with a class method `calculate_area` that calculates the area of a circle \n",
    "given its radius/"
   ]
  },
  {
   "cell_type": "code",
   "execution_count": 32,
   "id": "e991f96a",
   "metadata": {},
   "outputs": [
    {
     "data": {
      "text/plain": [
       "50.24"
      ]
     },
     "execution_count": 32,
     "metadata": {},
     "output_type": "execute_result"
    }
   ],
   "source": [
    "class Circle:\n",
    "    def __init__(self,radius):\n",
    "        self.radius=radius\n",
    "        \n",
    "    def calculate_area(self):\n",
    "        radius= self.radius\n",
    "        area=3.14*radius**2\n",
    "        return area\n",
    "    \n",
    "shape=Circle(4)\n",
    "shape.calculate_area()"
   ]
  },
  {
   "cell_type": "markdown",
   "id": "483f8fbd",
   "metadata": {},
   "source": [
    " 61. Create a Python class `TemperatureConverter` with a static method `celsius_to_fahrenheit` that converts \n",
    "Celsius to Fahrenheit"
   ]
  },
  {
   "cell_type": "code",
   "execution_count": 37,
   "id": "1e18abac",
   "metadata": {},
   "outputs": [
    {
     "data": {
      "text/plain": [
       "77.0"
      ]
     },
     "execution_count": 37,
     "metadata": {},
     "output_type": "execute_result"
    }
   ],
   "source": [
    "class TemperatureConverter:\n",
    "    @staticmethod\n",
    "    def celsius_to_fahrenheit(tempc):\n",
    "        f=(9/5 * tempc) + 32\n",
    "        return f\n",
    "    \n",
    "temp_convert=TemperatureConverter()\n",
    "temp_convert.celsius_to_fahrenheit(25)\n",
    "  "
   ]
  },
  {
   "cell_type": "markdown",
   "id": "67358101",
   "metadata": {},
   "source": [
    "62. What is the purpose of the __str__() method in Python classes? Provide an example?\n",
    "\n",
    "*Ans: __str__() = This method overrides the print statemnet of object method*\n"
   ]
  },
  {
   "cell_type": "code",
   "execution_count": 39,
   "id": "e6429e59",
   "metadata": {},
   "outputs": [
    {
     "name": "stdout",
     "output_type": "stream",
     "text": [
      "Book: Harry Potter by J.K. Rowling\n"
     ]
    }
   ],
   "source": [
    "class Book:\n",
    "    def __init__(self, title, author):\n",
    "        self.title = title\n",
    "        self.author = author\n",
    "\n",
    "    def __str__(self):\n",
    "        return f\"Book: {self.title} by {self.author}\"\n",
    "book = Book(\"Harry Potter\", \"J.K. Rowling\")\n",
    "\n",
    "# When printing the book, Python will call its __str__() method\n",
    "print(book)  \n"
   ]
  },
  {
   "cell_type": "markdown",
   "id": "08c41ecc",
   "metadata": {},
   "source": [
    "63. How does the __len__() method work in Python? Provide an example\n",
    "\n",
    "*Ans: The __len__() method in Python is used to define the length of an object. When you call the len() function on an object that has a __len__() method defined, Python will automatically call this method to obtain the length of the object*"
   ]
  },
  {
   "cell_type": "code",
   "execution_count": 42,
   "id": "d778e65b",
   "metadata": {},
   "outputs": [
    {
     "name": "stdout",
     "output_type": "stream",
     "text": [
      "5\n"
     ]
    }
   ],
   "source": [
    "class MyList:\n",
    "    def __init__(self, data):\n",
    "        self.data = data\n",
    "\n",
    "    def __len__(self):\n",
    "        return len(self.data)\n",
    "\n",
    "\n",
    "my_list = MyList([1, 2, 3, 4, 5])\n",
    "print(len(my_list))  \n"
   ]
  },
  {
   "cell_type": "markdown",
   "id": "7fbfb410",
   "metadata": {},
   "source": [
    "64. Explain the usage of the __add__() method in Python classes. Provide an example"
   ]
  },
  {
   "cell_type": "code",
   "execution_count": 2,
   "id": "d2646ae1",
   "metadata": {},
   "outputs": [
    {
     "data": {
      "text/plain": [
       "'helloworld'"
      ]
     },
     "execution_count": 2,
     "metadata": {},
     "output_type": "execute_result"
    }
   ],
   "source": [
    "#it is used to add two objects, for strings it gets concatenated for numbers they will add up\n",
    "\n",
    "a= \"hello\"\n",
    "b= \"world\"\n",
    "\n",
    "a.__add__(b)\n"
   ]
  },
  {
   "cell_type": "markdown",
   "id": "724cb77d",
   "metadata": {},
   "source": [
    " 65. What is the purpose of the __getitem__() method in Python? Provide an example\n"
   ]
  },
  {
   "cell_type": "code",
   "execution_count": 5,
   "id": "066f1bd4",
   "metadata": {},
   "outputs": [
    {
     "name": "stdout",
     "output_type": "stream",
     "text": [
      "1\n",
      "3\n"
     ]
    }
   ],
   "source": [
    "''' *Ans:The __getitem__() method in Python is used to enable accessing elements of an object using the indexing syntax ([])'''\n",
    "\n",
    "class MyList:\n",
    "    def __init__(self, data):\n",
    "        self.data = data\n",
    "\n",
    "    def __getitem__(self, index):\n",
    "        return self.data[index]\n",
    "my_list = MyList([1, 2, 3, 4, 5])\n",
    "\n",
    "print(my_list[0])  \n",
    "print(my_list[2])  \n",
    "\n"
   ]
  },
  {
   "cell_type": "markdown",
   "id": "0e94d70e",
   "metadata": {},
   "source": [
    "66. Explain the usage of the __iter__() and __next__() methods in Python. Provide an example using \n",
    "iterators\n"
   ]
  },
  {
   "cell_type": "code",
   "execution_count": 8,
   "id": "6269ee9d",
   "metadata": {},
   "outputs": [
    {
     "name": "stdout",
     "output_type": "stream",
     "text": [
      "0\n",
      "1\n",
      "4\n",
      "9\n",
      "16\n"
     ]
    }
   ],
   "source": [
    "'''\n",
    "__iter__() method: This method returns the iterator object itself. It's called when you create an iterator using the iter() function.\n",
    "__next__() method: This method returns the next element in the sequence. It's called repeatedly when you iterate over the elements using a loop or the next() function. When there are no more elements left, it raises a StopIteration exception. '''\n",
    "\n",
    "\n",
    "\n",
    "class SquaresIterator:\n",
    "    def __init__(self, limit):\n",
    "        self.limit = limit\n",
    "        self.current = 0\n",
    "\n",
    "    def __iter__(self):\n",
    "        return self\n",
    "\n",
    "    def __next__(self):\n",
    "        if self.current < self.limit:\n",
    "            square = self.current ** 2\n",
    "            self.current += 1\n",
    "            return square\n",
    "        else:\n",
    "            raise StopIteration\n",
    "\n",
    "\n",
    "squares_iter = SquaresIterator(5)\n",
    "\n",
    "# Iterate over the squares using a for loop\n",
    "# for square in squares_iter:\n",
    "#     print(square)\n",
    "\n",
    "# Alternatively, iterate using the next() function\n",
    "squares_iter = SquaresIterator(5)\n",
    "print(next(squares_iter))  # Output: 0\n",
    "print(next(squares_iter))  # Output: 1\n",
    "print(next(squares_iter))  # Output: 4\n",
    "print(next(squares_iter))  # Output: 9\n",
    "print(next(squares_iter))  # Output: 16\n",
    "\n",
    "\n"
   ]
  },
  {
   "cell_type": "markdown",
   "id": "e5dacc8c",
   "metadata": {},
   "source": [
    "67. What is the purpose of a getter method in Python? Provide an example demonstrating the use of a getter \n",
    "method using property decorators"
   ]
  },
  {
   "cell_type": "code",
   "execution_count": 10,
   "id": "3ef488fb",
   "metadata": {},
   "outputs": [
    {
     "name": "stdout",
     "output_type": "stream",
     "text": [
      "5\n"
     ]
    }
   ],
   "source": [
    "\n",
    "\n",
    "class Circle:\n",
    "    def __init__(self, radius):\n",
    "        self._radius = radius  # Private attribute\n",
    "\n",
    "    @property\n",
    "    def radius(self):\n",
    "      \n",
    "        return self._radius\n",
    "\n",
    "\n",
    "circle = Circle(5)\n",
    "\n",
    "# Access the radius using the getter method\n",
    "print(circle.radius)  "
   ]
  },
  {
   "cell_type": "markdown",
   "id": "457cce1d",
   "metadata": {},
   "source": [
    "68. Explain the role of setter methods in Python. Demonstrate how to use a setter method to modify a class \n",
    "attribute using property decorators"
   ]
  },
  {
   "cell_type": "code",
   "execution_count": 4,
   "id": "a04968cc",
   "metadata": {},
   "outputs": [
    {
     "name": "stdout",
     "output_type": "stream",
     "text": [
      "5\n",
      "10\n"
     ]
    },
    {
     "ename": "ValueError",
     "evalue": "Radius not positive",
     "output_type": "error",
     "traceback": [
      "\u001b[0;31m---------------------------------------------------------------------------\u001b[0m",
      "\u001b[0;31mValueError\u001b[0m                                Traceback (most recent call last)",
      "Cell \u001b[0;32mIn[4], line 24\u001b[0m\n\u001b[1;32m     21\u001b[0m circle\u001b[38;5;241m.\u001b[39mradius\u001b[38;5;241m=\u001b[39m\u001b[38;5;241m10\u001b[39m\n\u001b[1;32m     22\u001b[0m \u001b[38;5;28mprint\u001b[39m(circle\u001b[38;5;241m.\u001b[39mradius) \n\u001b[0;32m---> 24\u001b[0m \u001b[43mcircle\u001b[49m\u001b[38;5;241;43m.\u001b[39;49m\u001b[43mradius\u001b[49m\u001b[38;5;241m=\u001b[39m\u001b[38;5;241m-\u001b[39m\u001b[38;5;241m10\u001b[39m\n\u001b[1;32m     25\u001b[0m \u001b[38;5;28mprint\u001b[39m(circle\u001b[38;5;241m.\u001b[39mradius) \n",
      "Cell \u001b[0;32mIn[4], line 13\u001b[0m, in \u001b[0;36mCircle.radius\u001b[0;34m(self, value)\u001b[0m\n\u001b[1;32m     10\u001b[0m \u001b[38;5;129m@radius\u001b[39m\u001b[38;5;241m.\u001b[39msetter\n\u001b[1;32m     11\u001b[0m \u001b[38;5;28;01mdef\u001b[39;00m \u001b[38;5;21mradius\u001b[39m(\u001b[38;5;28mself\u001b[39m,value):\n\u001b[1;32m     12\u001b[0m     \u001b[38;5;28;01mif\u001b[39;00m value\u001b[38;5;241m<\u001b[39m\u001b[38;5;241m=\u001b[39m\u001b[38;5;241m0\u001b[39m:\n\u001b[0;32m---> 13\u001b[0m         \u001b[38;5;28;01mraise\u001b[39;00m \u001b[38;5;167;01mValueError\u001b[39;00m(\u001b[38;5;124m\"\u001b[39m\u001b[38;5;124mRadius not positive\u001b[39m\u001b[38;5;124m\"\u001b[39m)\n\u001b[1;32m     14\u001b[0m     \u001b[38;5;28;01melse\u001b[39;00m: \u001b[38;5;28mself\u001b[39m\u001b[38;5;241m.\u001b[39m_radius\u001b[38;5;241m=\u001b[39mvalue\n",
      "\u001b[0;31mValueError\u001b[0m: Radius not positive"
     ]
    }
   ],
   "source": [
    "\n",
    "\n",
    "class Circle:\n",
    "    def __init__(self, radius):\n",
    "        self._radius = radius  # Private attribute\n",
    "\n",
    "    @property\n",
    "    def radius(self):\n",
    "      \n",
    "        return self._radius\n",
    "\n",
    "    @radius.setter\n",
    "    def radius(self,value):\n",
    "        if value<=0:\n",
    "            raise ValueError(\"Radius not positive\")\n",
    "        else: self._radius=value\n",
    "        \n",
    "circle = Circle(5)\n",
    "\n",
    "# Access the radius using the getter method\n",
    "print(circle.radius)  \n",
    "\n",
    "circle.radius=10\n",
    "print(circle.radius) \n",
    "\n",
    "circle.radius=-10\n",
    "print(circle.radius) "
   ]
  },
  {
   "cell_type": "markdown",
   "id": "4ef34f46",
   "metadata": {},
   "source": [
    "69. What is the purpose of the @property decorator in Python? Provide an example illustrating its usage\n",
    "\n",
    "*Ans: By using property decorators methods are treated as attributes*\n",
    "\n"
   ]
  },
  {
   "cell_type": "code",
   "execution_count": 2,
   "id": "d2fb971b",
   "metadata": {},
   "outputs": [
    {
     "data": {
      "text/plain": [
       "78.5"
      ]
     },
     "execution_count": 2,
     "metadata": {},
     "output_type": "execute_result"
    }
   ],
   "source": [
    "#example\n",
    "\n",
    "class Circle:\n",
    "    def __init__(self,radius):\n",
    "        self.radius=radius\n",
    "            \n",
    "    @property\n",
    "    def area(self):\n",
    "        radius=self.radius\n",
    "        return 3.14*radius**2\n",
    "\n",
    "c=Circle(5)\n",
    "c.area # here we did not use parenthesis"
   ]
  },
  {
   "cell_type": "markdown",
   "id": "d74ef10f",
   "metadata": {},
   "source": [
    " Explain the use of the @deleter decorator in Python property decorators. Provide a code example demonstrating its application"
   ]
  },
  {
   "cell_type": "code",
   "execution_count": 13,
   "id": "68818dc0",
   "metadata": {},
   "outputs": [
    {
     "name": "stdout",
     "output_type": "stream",
     "text": [
      "5\n",
      "10\n"
     ]
    }
   ],
   "source": [
    "\n",
    "class Circle:\n",
    "    def __init__(self, radius):\n",
    "        self._radius = radius  # Private attribute\n",
    "\n",
    "    @property\n",
    "    def radius(self):\n",
    "      \n",
    "        return self._radius\n",
    "\n",
    "    @radius.setter\n",
    "    def radius(self,value):\n",
    "        if value<=0:\n",
    "            raise ValueError(\"Radius not positive\")\n",
    "        else: self._radius=value\n",
    "        \n",
    "    @radius.deleter\n",
    "    def del_radius(self):\n",
    "        del self._radius\n",
    "        \n",
    "circle = Circle(5)\n",
    "print(circle.radius)\n",
    "circle.radius=10\n",
    "print(circle.radius)\n",
    "\n",
    "del circle.del_radius\n",
    "# print(circle.radius)"
   ]
  },
  {
   "cell_type": "markdown",
   "id": "1f18d420",
   "metadata": {},
   "source": [
    "71.  How does encapsulation relate to property decorators in Python? Provide an example showcasing \n",
    "encapsulation using property decorators.\n",
    "\n",
    "*Ans:Property decorators in Python play a significant role in implementing encapsulation by allowing controlled access to class attributes. They provide a convenient way to define getter, setter, and deleter methods for attributes while still maintaining the appearance of direct attribute access.*\n",
    "\n",
    "\n",
    "\n",
    "\n",
    "\n"
   ]
  },
  {
   "cell_type": "code",
   "execution_count": 14,
   "id": "496d622b",
   "metadata": {},
   "outputs": [
    {
     "name": "stdout",
     "output_type": "stream",
     "text": [
      "5\n",
      "10\n"
     ]
    }
   ],
   "source": [
    "class Circle:\n",
    "    def __init__(self, radius):\n",
    "        self._radius = radius  # Private attribute\n",
    "\n",
    "    @property\n",
    "    def radius(self):\n",
    "        \"\"\"Getter method for retrieving the radius.\"\"\"\n",
    "        return self._radius\n",
    "\n",
    "    @radius.setter\n",
    "    def radius(self, value):\n",
    "        \"\"\"Setter method for setting the radius.\"\"\"\n",
    "        if value <= 0:\n",
    "            raise ValueError(\"Radius must be positive\")\n",
    "        else:\n",
    "            self._radius = value\n",
    "\n",
    "\n",
    "circle = Circle(5)\n",
    "\n",
    "print(circle.radius)  \n",
    "\n",
    "circle.radius = 10\n",
    "print(circle.radius)  \n"
   ]
  },
  {
   "cell_type": "code",
   "execution_count": null,
   "id": "efcf9499",
   "metadata": {},
   "outputs": [],
   "source": []
  }
 ],
 "metadata": {
  "kernelspec": {
   "display_name": "Python 3 (ipykernel)",
   "language": "python",
   "name": "python3"
  },
  "language_info": {
   "codemirror_mode": {
    "name": "ipython",
    "version": 3
   },
   "file_extension": ".py",
   "mimetype": "text/x-python",
   "name": "python",
   "nbconvert_exporter": "python",
   "pygments_lexer": "ipython3",
   "version": "3.12.2"
  }
 },
 "nbformat": 4,
 "nbformat_minor": 5
}
