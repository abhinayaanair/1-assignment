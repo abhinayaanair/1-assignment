{
 "cells": [
  {
   "cell_type": "markdown",
   "metadata": {},
   "source": [
    "1. What is a Web API?\n",
    "\n",
    "    A Web API is an interface for interacting with software components over the web using HTTP protocols.\n",
    "\n"
   ]
  },
  {
   "cell_type": "markdown",
   "metadata": {},
   "source": [
    "\n",
    "2. How does a Web API differ from a web service?\n",
    "\n",
    "    Web APIs are a subset of web services focused on RESTful principles and HTTP methods, while web services include SOAP and other protocols.\n"
   ]
  },
  {
   "cell_type": "markdown",
   "metadata": {},
   "source": [
    "3.Benefits of using Web APIs in software development:\n",
    "\n",
    "    Interoperability, scalability, ease of integration, and enhanced functionality for applications.\n"
   ]
  },
  {
   "cell_type": "markdown",
   "metadata": {},
   "source": [
    "4. Difference between SOAP and RESTful APIs:\n",
    "\n",
    "    SOAP is a protocol with strict standards using XML, whereas REST is an architectural style using standard HTTP and supports multiple formats like JSON."
   ]
  },
  {
   "cell_type": "markdown",
   "metadata": {},
   "source": [
    "5. What is JSON and how is it commonly used in Web APIs?\n",
    "\n",
    "    JSON is a lightweight data-interchange format, widely used for transmitting structured data over web APIs.\n"
   ]
  },
  {
   "cell_type": "markdown",
   "metadata": {},
   "source": [
    "7. Popular Web API protocols other than REST:\n",
    "\n",
    "    SOAP, GraphQL, and gRPC.\n"
   ]
  },
  {
   "cell_type": "markdown",
   "metadata": {},
   "source": [
    "8. Purpose of authentication and authorization in Web APIs:\n",
    "\n",
    "    Authentication verifies user identity; authorization grants user permissions."
   ]
  },
  {
   "cell_type": "markdown",
   "metadata": {},
   "source": [
    "9. Handling versioning in Web API development:\n",
    "\n",
    "    Use URL versioning, query parameters, or custom headers to manage different API versions."
   ]
  },
  {
   "cell_type": "markdown",
   "metadata": {},
   "source": [
    "10. Main components of an HTTP request and response in Web APIs:\n",
    "\n",
    "    Request: Method, URL, headers, body; Response: Status code, headers, body."
   ]
  },
  {
   "cell_type": "markdown",
   "metadata": {},
   "source": []
  },
  {
   "cell_type": "markdown",
   "metadata": {},
   "source": [
    "11. Rate limiting in the context of Web APIs:\n",
    "\n",
    "    Controlling the number of requests a client can make to prevent abuse and ensure fair usage."
   ]
  },
  {
   "cell_type": "markdown",
   "metadata": {},
   "source": [
    "\n",
    "12. Handling errors and exceptions in Web API responses:\n",
    "\n",
    "    Use standardized status codes and provide detailed error messages in the response body.\n"
   ]
  },
  {
   "cell_type": "markdown",
   "metadata": {},
   "source": [
    "13. Concept of statelessness in RESTful Web APIs:\n",
    "\n",
    "    Each request from a client must contain all necessary information; no client context is stored on the server.\n"
   ]
  },
  {
   "cell_type": "markdown",
   "metadata": {},
   "source": [
    "14. Best practices for designing and documenting Web APIs:\n",
    "\n",
    "    Use consistent naming conventions, provide clear documentation (Swagger), and ensure proper error handling.\n"
   ]
  },
  {
   "cell_type": "markdown",
   "metadata": {},
   "source": [
    "15. Role of API keys and tokens in securing Web APIs:\n",
    "\n",
    "    They authenticate and authorize access to the API, ensuring only authorized users can use it.\n",
    "\n"
   ]
  },
  {
   "cell_type": "markdown",
   "metadata": {},
   "source": [
    "16. What is REST, and what are its key principles?\n",
    "\n",
    "    REST is an architectural style using stateless communication, with resource-based interactions via standard HTTP methods.\n"
   ]
  },
  {
   "cell_type": "markdown",
   "metadata": {},
   "source": [
    "17. Difference between RESTful APIs and traditional web services:\n",
    "\n",
    "    RESTful APIs are simpler, use standard HTTP methods, and support multiple formats; traditional web services often use SOAP.\n"
   ]
  },
  {
   "cell_type": "markdown",
   "metadata": {},
   "source": [
    "18. Main HTTP methods used in RESTful architecture:\n",
    "\n",
    "    GET (retrieve data), POST (create data), PUT (update data), DELETE (delete data).\n"
   ]
  },
  {
   "cell_type": "markdown",
   "metadata": {},
   "source": [
    "19. Statelessness in RESTful APIs:\n",
    "\n",
    "    Each request is independent, containing all information needed for processing.\n"
   ]
  },
  {
   "cell_type": "markdown",
   "metadata": {},
   "source": [
    "20. Significance of URIs in RESTful API design:\n",
    "\n",
    "    URIs uniquely identify resources, enabling resource-based interaction."
   ]
  },
  {
   "cell_type": "markdown",
   "metadata": {},
   "source": [
    "\n",
    "\n",
    "21. Role of hypermedia in RESTful APIs (HATEOAS):\n",
    "\n",
    "    Hypermedia as the engine of application state; clients interact dynamically via provided links.\n"
   ]
  },
  {
   "cell_type": "markdown",
   "metadata": {},
   "source": [
    "22. Benefits of using RESTful APIs over other architectural styles:\n",
    "\n",
    "    Simplicity, scalability, and flexibility with resource-based interactions.\n"
   ]
  },
  {
   "cell_type": "markdown",
   "metadata": {},
   "source": [
    "23. Resource representations in RESTful APIs:\n",
    "\n",
    "    Data is represented in formats like JSON or XML, providing different views of the resource.\n"
   ]
  },
  {
   "cell_type": "markdown",
   "metadata": {},
   "source": [
    "24. REST communication between clients and servers:\n",
    "\n",
    "    Communication is stateless, using standard HTTP requests and responses.\n"
   ]
  },
  {
   "cell_type": "markdown",
   "metadata": {},
   "source": [
    "25. Common data formats in RESTful API communication:\n",
    "\n",
    "    JSON, XML, HTML, and plain text.\n"
   ]
  },
  {
   "cell_type": "markdown",
   "metadata": {},
   "source": [
    "26. Importance of status codes in RESTful API responses:\n",
    "\n",
    "    Status codes indicate the result of the request (e.g., 200 OK, 404 Not Found).\n"
   ]
  },
  {
   "cell_type": "markdown",
   "metadata": {},
   "source": [
    "27. Versioning in RESTful API development:\n",
    "\n",
    "    Use URI versioning, query parameters, or custom headers to manage different versions.\n"
   ]
  },
  {
   "cell_type": "markdown",
   "metadata": {},
   "source": [
    "28. Ensuring security in RESTful API development:\n",
    "\n",
    "    Implement authentication (OAuth, API keys) and use HTTPS.\n"
   ]
  },
  {
   "cell_type": "markdown",
   "metadata": {},
   "source": [
    "\n",
    "29. SOAP vs. REST:\n",
    "\n",
    "    SOAP is protocol-based with strict standards; REST is an architectural style with flexibility.\n"
   ]
  },
  {
   "cell_type": "markdown",
   "metadata": {},
   "source": [
    "30. Structure of a SOAP message:\n",
    "\n",
    "    Envelope, Header, Body, Fault.\n"
   ]
  },
  {
   "cell_type": "markdown",
   "metadata": {},
   "source": [
    "31. SOAP communication between clients and servers:\n",
    "\n",
    "    Uses XML-based messaging with strict rules.\n"
   ]
  },
  {
   "cell_type": "markdown",
   "metadata": {},
   "source": [
    "32. Advantages and disadvantages of SOAP:\n",
    "\n",
    "    Advantages: Security, ACID compliance; Disadvantages: Complexity, performance overhead.\n"
   ]
  },
  {
   "cell_type": "markdown",
   "metadata": {},
   "source": [
    "33. SOAP security in web services:\n",
    "\n",
    "    WS-Security standards for message integrity and confidentiality.\n"
   ]
  },
  {
   "cell_type": "markdown",
   "metadata": {},
   "source": [
    "\n",
    "34.   What is Flask, and what makes it different from other web frameworks?\n",
    "\n",
    "    Flask is a lightweight, micro web framework for Python, offering flexibility and simplicity.\n"
   ]
  },
  {
   "cell_type": "markdown",
   "metadata": {},
   "source": [
    "35. Basic structure of a Flask application:\n",
    "\n",
    "    Consists of routes, templates, and views.\n"
   ]
  },
  {
   "cell_type": "markdown",
   "metadata": {},
   "source": [
    "36. Installing Flask:\n",
    "\n",
    "    Use the command pip install Flask.\n"
   ]
  },
  {
   "cell_type": "markdown",
   "metadata": {},
   "source": [
    "37. Concept of routing in Flask:\n",
    "\n",
    "    Mapping URLs to Python functions.\n"
   ]
  },
  {
   "cell_type": "markdown",
   "metadata": {},
   "source": [
    "38. Flask templates:\n",
    "\n",
    "    HTML files using Jinja2 templating for dynamic content rendering."
   ]
  },
  {
   "cell_type": "markdown",
   "metadata": {},
   "source": []
  }
 ],
 "metadata": {
  "language_info": {
   "name": "python"
  }
 },
 "nbformat": 4,
 "nbformat_minor": 2
}
