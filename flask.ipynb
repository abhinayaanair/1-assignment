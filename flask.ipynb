{
 "cells": [
  {
   "cell_type": "markdown",
   "metadata": {},
   "source": [
    "1. What is a Web API?\n",
    "\n",
    "   A Web API (Application Programming Interface) is a set of rules and protocols for building and interacting with software applications over the web. It allows different software systems to communicate with each other using standard HTTP protocols. Web APIs expose endpoints that can be accessed using HTTP methods like GET, POST, PUT, and DELETE, enabling developers to perform operations such as retrieving data, submitting forms, and updating records.\n",
    "   \n",
    "    Example: The Twitter API allows developers to access and interact with Twitter data, such as posting tweets, fetching user profiles, and retrieving timelines."
   ]
  },
  {
   "cell_type": "markdown",
   "metadata": {},
   "source": [
    "\n",
    "2. How does a Web API differ from a web service?\n",
    "\n",
    "   Web APIs are a broad concept that encompasses any kind of API accessible over the web, while web services are a specific type of Web API that follow specific standards such as SOAP (Simple Object Access Protocol) or REST (Representational State Transfer). Web services are typically used for machine-to-machine communication, providing a structured way to exchange data. SOAP web services use XML-based messaging, whereas RESTful web services use simpler, lightweight formats like JSON.\n",
    "   \n",
    "   Example: A RESTful API might provide endpoints for CRUD operations on a database, while a SOAP web service could be used for complex transactions in enterprise applications.\n"
   ]
  },
  {
   "cell_type": "markdown",
   "metadata": {},
   "source": [
    "3.Benefits of using Web APIs in software development:\n",
    "\n",
    "    Web APIs enable modularity, allowing developers to integrate third-party services and functionalities into their applications without reinventing the wheel. They facilitate communication between different systems, platforms, and languages, fostering interoperability. Web APIs also enhance scalability and maintainability, as changes can be made to the API without affecting the client applications. They support a wide range of uses, from accessing social media data to integrating payment gateways and automating workflows.\n",
    "    \n",
    "    Example: Using the Stripe API, developers can integrate secure payment processing into their e-commerce platforms without building payment infrastructure from scratch."
   ]
  },
  {
   "cell_type": "markdown",
   "metadata": {},
   "source": [
    "4. Difference between SOAP and RESTful APIs:\n",
    "\n",
    "   SOAP (Simple Object Access Protocol) is a protocol that uses XML for message formatting and relies on application layer protocols like HTTP and SMTP for message negotiation and transmission. It is designed for highly secure, transactional, and complex operations. REST (Representational State Transfer) is an architectural style that uses standard HTTP methods and is more lightweight and easier to use. RESTful APIs typically use JSON for data interchange, making them faster and more efficient for web-based applications.\n",
    "    \n",
    "    Example: SOAP might be used in banking systems requiring high security and transaction integrity, while RESTful APIs are common in web and mobile applications for their simplicity and speed."
   ]
  },
  {
   "cell_type": "markdown",
   "metadata": {},
   "source": [
    "5. What is JSON and how is it commonly used in Web APIs?\n",
    "\n",
    "    JSON (JavaScript Object Notation) is a lightweight data interchange format that is easy for humans to read and write and easy for machines to parse and generate. In Web APIs, JSON is commonly used to structure data that is sent and received between clients and servers. Its simplicity and compatibility with JavaScript make it a popular choice for web development.\n",
    "    \n",
    "    Example: An API response from a weather service might use JSON to return data: {\"location\": \"New York\", \"temperature\": \"22°C\", \"condition\": \"Sunny\"}.\n"
   ]
  },
  {
   "cell_type": "markdown",
   "metadata": {},
   "source": [
    "6. Can you name some popular Web API protocols other than REST?\n",
    "\n",
    "    Other than REST, popular Web API protocols include SOAP (Simple Object Access Protocol), GraphQL, and gRPC. SOAP is known for its robustness and security features, making it suitable for enterprise applications. GraphQL, developed by Facebook, allows clients to request exactly the data they need, reducing the amount of data transferred. gRPC, developed by Google, uses HTTP/2 for transport and Protocol Buffers for serialization, providing high performance and efficient communication.\n",
    "\n",
    "    Example: GraphQL allows a client to query a social media API to get user profile information and recent posts in a single request."
   ]
  },
  {
   "cell_type": "markdown",
   "metadata": {},
   "source": [
    "7.  What role do HTTP methods (GET, POST, PUT, DELETE, etc.) play in Web API development?\n",
    "\n",
    "      HTTP methods are essential in Web API development as they define actions to be performed on resources:\n",
    "\n",
    "      GET: Retrieves data from the server, like fetching user information.\n",
    "\n",
    "      POST: Submits data to create a new resource, such as adding a new user.\n",
    "\n",
    "      PUT: Updates an entire existing resource, for example, modifying user details.\n",
    "\n",
    "      PATCH: Partially updates a resource, allowing changes to specific fields, like updating only the user’s email.\n",
    "\n",
    "      DELETE: Removes a resource from the server, such as deleting a user account.\n",
    "\n",
    "      These methods ensure proper interaction and manipulation of data in RESTful APIs, aligning with CRUD operations."
   ]
  },
  {
   "cell_type": "markdown",
   "metadata": {},
   "source": [
    "8. Purpose of authentication and authorization in Web APIs:\n",
    "\n",
    "    Authentication verifies the identity of the user or application accessing the API, ensuring that the request comes from a legitimate source. Authorization determines the level of access or permissions the authenticated user has, controlling what actions they can perform. Together, they secure the API, protect sensitive data, and prevent unauthorized access.\n",
    "    \n",
    "    Example: A RESTful API for an online banking application might use OAuth for authentication, ensuring only authorized users can access account information and perform transactions."
   ]
  },
  {
   "cell_type": "markdown",
   "metadata": {},
   "source": [
    "9. Handling versioning in Web API development:\n",
    "\n",
    "    Versioning allows developers to introduce changes to the API without disrupting existing clients. It can be managed through URL versioning (e.g., /api/v1/resource), query parameters (e.g., /api/resource?version=1), or custom headers. Versioning ensures backward compatibility and provides a clear path for upgrading the API.\n",
    "    \n",
    "    Example: A RESTful API might introduce a new version /api/v2/resource with additional features while maintaining the original /api/v1/resource for clients that haven’t upgraded yet."
   ]
  },
  {
   "cell_type": "markdown",
   "metadata": {},
   "source": [
    "10. Main components of an HTTP request and response in Web APIs:\n",
    "\n",
    "    An HTTP request consists of a request line (method, URI, HTTP version), headers (metadata like content type and authorization), and an optional body (data sent with the request). An HTTP response includes a status line (HTTP version, status code), headers (metadata like content type and length), and an optional body (data returned by the server).\n",
    "    \n",
    "    Example: A GET request to fetch a user's profile might include the URI /api/users/123, while the response might return a JSON object with user details and a 200 OK status code."
   ]
  },
  {
   "cell_type": "markdown",
   "metadata": {},
   "source": [
    "11. Rate limiting in the context of Web APIs:\n",
    "\n",
    "    Rate limiting controls the number of requests a client can make to an API within a specified time period, preventing abuse and ensuring fair usage. It can be implemented using techniques like token buckets or fixed windows. Rate limiting helps maintain API performance and availability.\n",
    "    \n",
    "    Example: An API might enforce a limit of 1000 requests per hour per user, returning a 429 Too Many Requests status code if the limit is exceeded"
   ]
  },
  {
   "cell_type": "markdown",
   "metadata": {},
   "source": [
    "\n",
    "12. Handling errors and exceptions in Web API responses:\n",
    "\n",
    "   Rate limiting controls the number of requests a client can make to an API within a specified time period, preventing abuse and ensuring fair usage. It can be implemented using techniques like token buckets or fixed windows. Rate limiting helps maintain API performance and availability.\n",
    "    \n",
    "    Example: An API might enforce a limit of 1000 requests per hour per user, returning a 429 Too Many Requests status code if the limit is exceeded"
   ]
  },
  {
   "cell_type": "markdown",
   "metadata": {},
   "source": [
    "13. Concept of statelessness in RESTful Web APIs:\n",
    "\n",
    "    Statelessness means that each API request from the client to the server must contain all the information needed to understand and process the request. The server does not store any client context between requests, ensuring that each request is independent and can be treated in isolation. This simplifies scalability and reliability.\n",
    "    \n",
    "    Example: An API request to fetch user data should include the user ID or token in every request, as the server does not retain session information between requests."
   ]
  },
  {
   "cell_type": "markdown",
   "metadata": {},
   "source": [
    "14. Best practices for designing and documenting Web APIs:\n",
    "\n",
    "    Best practices for designing and documenting Web APIs include using consistent and descriptive endpoint naming, adhering to RESTful principles, providing clear and comprehensive documentation (e.g., using OpenAPI/Swagger), implementing robust error handling, and ensuring security through authentication and authorization. Versioning and rate limiting are also important considerations.\n",
    "    \n",
    "    Example: Using Swagger to document an API provides interactive API documentation, allowing developers to test endpoints directly from the documentation interface."
   ]
  },
  {
   "cell_type": "markdown",
   "metadata": {},
   "source": [
    "15. Role of API keys and tokens in securing Web APIs:\n",
    "\n",
    "    API keys and tokens are used to authenticate and authorize clients accessing the API. An API key is a unique identifier passed in the request header or URL, while tokens (e.g., JWT) are more secure and can contain user information and permissions. They help control access, monitor usage, and prevent unauthorized access.\n",
    "    \n",
    "    Example: An API might require clients to include an API key in the headers of their requests: Authorization: Bearer <token>.\n"
   ]
  },
  {
   "cell_type": "markdown",
   "metadata": {},
   "source": [
    "16. What is REST, and what are its key principles?\n",
    "\n",
    "    REST (Representational State Transfer) is an architectural style for designing networked applications. Its key principles include statelessness, client-server separation, uniform interface, resource-based interactions using URIs, and representation of resources (e.g., JSON, XML). RESTful APIs use standard HTTP methods for CRUD operations.\n",
    "    \n",
    "    Example: A RESTful API for a bookstore might have endpoints like /books (GET to list books), /books/1 (GET to retrieve a specific book), /books (POST to add a new book), and /books/1 (PUT to update a book)."
   ]
  },
  {
   "cell_type": "markdown",
   "metadata": {},
   "source": [
    "17. Difference between RESTful APIs and traditional web services:\n",
    "\n",
    "    RESTful APIs are lightweight, stateless, and use standard HTTP methods and formats (e.g., JSON, XML), making them suitable for web and mobile applications. Traditional web services like SOAP are heavier, use XML for message formatting, and offer built-in security and transactional features, making them suitable for enterprise applications requiring high security and reliability.\n",
    "    \n",
    "    Example: A RESTful API might be used for a social media app, while a SOAP-based web service might be used for secure banking transactions."
   ]
  },
  {
   "cell_type": "markdown",
   "metadata": {},
   "source": [
    "18. Main HTTP methods used in RESTful architecture:\n",
    "\n",
    "    The main HTTP methods used in RESTful architecture include:\n",
    "    \n",
    "    GET: Retrieve data from the server.\n",
    "\n",
    "    POST: Submit new data to the server.\n",
    "\n",
    "    PUT: Update existing data on the server.\n",
    "\n",
    "    DELETE: Remove data from the server.\n",
    "\n",
    "    These methods correspond to CRUD operations and provide a standardized way to manage resources.\n",
    "    \n",
    "    Example: A RESTful API for managing a to-do list might use GET to fetch tasks, POST to add a task, PUT to update a task, and DELETE to remove a task."
   ]
  },
  {
   "cell_type": "markdown",
   "metadata": {},
   "source": [
    "19. Statelessness in RESTful APIs:\n",
    "\n",
    "    Statelessness in RESTful APIs means that each client request must contain all the information needed to understand and process the request. The server does not store any client context between requests. This simplifies server design, enhances scalability, and allows servers to handle requests independently.\n",
    "\n",
    "    Example: An API request to retrieve user data must include the user’s authentication token or ID in each request, as the server does not retain session information between requests.\n"
   ]
  },
  {
   "cell_type": "markdown",
   "metadata": {},
   "source": [
    "20. Significance of URIs in RESTful API design:\n",
    "\n",
    "    URIs in RESTful API design are significant because they uniquely identify resources on the server. They provide a clear and consistent way to access and manipulate resources. URIs should be intuitive, readable, and follow a logical structure, making the API easy to use and understand.\n",
    "\n",
    "    Example: A RESTful API for an e-commerce site might use URIs like /products to list products, /products/1 to retrieve a specific product, and /products/1/reviews to list reviews for a product."
   ]
  },
  {
   "cell_type": "markdown",
   "metadata": {},
   "source": [
    "\n",
    "\n",
    "21. Role of hypermedia in RESTful APIs (HATEOAS):\n",
    "\n",
    "    Hypermedia in RESTful APIs refers to the use of links within the API responses to guide clients on what actions can be performed next. HATEOAS (Hypermedia As The Engine Of Application State) is a principle where clients interact with a RESTful API entirely through hyperlinks provided dynamically by the server.\n",
    "\n",
    "    Example: An API response for a user resource might include links to update the user profile or delete the account, guiding the client on the next possible actions."
   ]
  },
  {
   "cell_type": "markdown",
   "metadata": {},
   "source": [
    "22. Benefits of using RESTful APIs over other architectural styles:\n",
    "\n",
    "    Benefits of using RESTful APIs include simplicity, scalability, and flexibility. They are easy to use and understand, leverage standard HTTP protocols, and can be consumed by a wide range of clients (web, mobile, etc.). RESTful APIs are also stateless, enhancing performance and scalability.\n",
    "\n",
    "    Example: A RESTful API can be easily integrated with web and mobile applications, allowing different clients to interact with the same backend services efficiently.\n"
   ]
  },
  {
   "cell_type": "markdown",
   "metadata": {},
   "source": [
    "23. Resource representations in RESTful APIs:\n",
    "\n",
    "    In RESTful APIs, resources are represented in various formats (e.g., JSON, XML) that convey the state of the resource. Clients and servers exchange these representations to perform actions on the resources. The format is typically specified using the Content-Type header.\n",
    "\n",
    "    Example: A RESTful API response for a product might represent the product as a JSON object: {\"id\": 1, \"name\": \"Laptop\", \"price\": 999.99}."
   ]
  },
  {
   "cell_type": "markdown",
   "metadata": {},
   "source": [
    "24. REST communication between clients and servers:\n",
    "\n",
    "    REST handles communication between clients and servers using standard HTTP protocols and methods (GET, POST, PUT, DELETE). Clients send HTTP requests to the server, and the server responds with the requested resource representation or performs the specified action. Each request is stateless and self-contained.\n",
    "\n",
    "    Example: A client sends a GET request to /api/products/1 to retrieve product details, and the server responds with a JSON object representing the product."
   ]
  },
  {
   "cell_type": "markdown",
   "metadata": {},
   "source": [
    "25. Common data formats in RESTful API communication:\n",
    "\n",
    "    Common data formats used in RESTful API communication include JSON (JavaScript Object Notation) and XML (eXtensible Markup Language). JSON is more popular due to its simplicity, readability, and ease of use with JavaScript. XML is more verbose and used in contexts requiring more formal data structuring.\n",
    "\n",
    "    Example: An API response might use JSON to return user details: {\"id\": 1, \"name\": \"Abhinaya Nair\", \"email\": \"abhinaya04nair@example.com\"}.\n",
    "\n"
   ]
  },
  {
   "cell_type": "markdown",
   "metadata": {},
   "source": [
    "26. Importance of status codes in RESTful API responses:\n",
    "\n",
    "    Status codes in RESTful API responses indicate the result of the client's request. They inform the client whether the request was successful, if there was an error, or if further action is needed. Common status codes include 200 (OK), 201 (Created), 400 (Bad Request), 404 (Not Found), and 500 (Internal Server Error).\n",
    "\n",
    "    Example: A successful GET request might return a 200 OK status code, while a request for a non-existent resource might return a 404 Not Found status code.\n",
    "\n"
   ]
  },
  {
   "cell_type": "markdown",
   "metadata": {},
   "source": [
    "27. Process of versioning in RESTful API development:\n",
    "\n",
    "    Versioning in RESTful API development involves managing different versions of the API to ensure backward compatibility and accommodate changes. This can be done using URL versioning (e.g., /api/v1/resource), query parameters (e.g., /api/resource?version=1), or custom headers.\n",
    "\n",
    "    Example: Introducing a new version of an API endpoint might involve creating /api/v2/resource while maintaining the original /api/v1/resource for existing clients."
   ]
  },
  {
   "cell_type": "markdown",
   "metadata": {},
   "source": [
    "28. Ensuring security in RESTful API development:\n",
    "\n",
    "    Ensuring security in RESTful API development involves implementing authentication and authorization mechanisms, encrypting data using HTTPS, validating inputs, and handling errors securely. Common authentication methods include API keys, OAuth tokens, and JWT (JSON Web Tokens).\n",
    "\n",
    "    Example: An API might require clients to include a Bearer token in the Authorization header for accessing protected resources: Authorization: Bearer <token>.\n"
   ]
  },
  {
   "cell_type": "markdown",
   "metadata": {},
   "source": [
    "\n",
    "29. Best practices for documenting RESTful APIs:\n",
    "\n",
    "    Best practices for documenting RESTful APIs include using clear and consistent endpoint naming, providing detailed descriptions of endpoints, methods, parameters, and responses, using tools like Swagger or OpenAPI for interactive documentation, including examples and error messages, and maintaining up-to-date documentation.\n",
    "\n",
    "    Example: Using Swagger to document an API provides a user-friendly interface where developers can test endpoints and view details about request/response structures.\n"
   ]
  },
  {
   "cell_type": "markdown",
   "metadata": {},
   "source": [
    "30. Error handling in RESTful APIs:\n",
    "\n",
    "    Considerations for error handling in RESTful APIs include returning appropriate HTTP status codes, providing clear and descriptive error messages, ensuring consistency in error responses, logging errors for debugging and monitoring, and documenting possible errors in the API documentation.\n",
    "\n",
    "    Example: If a client sends an invalid request, the API might return a 400 Bad Request status code with a message like {\"error\": \"Invalid request parameters\"}."
   ]
  },
  {
   "cell_type": "markdown",
   "metadata": {},
   "source": [
    "31. What is SOAP, and how does it differ from REST?\n",
    "\n",
    "    SOAP (Simple Object Access Protocol) is a protocol for exchanging structured information in web services using XML. It is highly extensible and supports advanced features like security and transactions. SOAP is more rigid and heavyweight compared to REST, which is an architectural style using standard HTTP methods and lightweight data formats like JSON.\n",
    "\n",
    "    Example: SOAP might be used in a banking application for secure transactions, while RESTful APIs are commonly used for web and mobile applications."
   ]
  },
  {
   "cell_type": "markdown",
   "metadata": {},
   "source": [
    "32. Describe the structure of a SOAP message.\n",
    "\n",
    "\n",
    "    A SOAP message is an XML-based protocol consisting of an envelope, header, and body. The envelope defines the message structure, the header contains optional metadata and control information, and the body contains the actual message payload or data.\n",
    "      \n",
    "  Example: A SOAP message for a weather service might include an envelope with a body containing a request for weather data:\n",
    "\n",
    "  <soap:Envelope>\n",
    "\n",
    "    <soap:Body>\n",
    "\n",
    "      <GetWeather>\n",
    "\n",
    "        <City>New York</City>\n",
    "\n",
    "      </GetWeather>\n",
    "\n",
    "    </soap:Body>\n",
    "\n",
    "</soap:Envelope>"
   ]
  },
  {
   "cell_type": "markdown",
   "metadata": {},
   "source": [
    "33. How does SOAP handle communication between clients and servers?\n",
    "\n",
    "    SOAP handles communication between clients and servers using XML-based messages transmitted over protocols like HTTP, SMTP, or TCP. The client sends a SOAP request to the server, which processes the request and returns a SOAP response. SOAP messages are typically used in environments requiring high security and transaction reliability.\n",
    "\n",
    "    Example: A client might send a SOAP request to a banking service to initiate a transaction, and the server responds with a SOAP message confirming the transaction status.\n"
   ]
  },
  {
   "cell_type": "markdown",
   "metadata": {},
   "source": [
    "\n",
    "34.  What are the advantages and disadvantages of using SOAP-based web services?\n",
    "\n",
    "    Advantages of SOAP-based web services include built-in security features, support for complex operations and transactions, and platform/language neutrality. Disadvantages include higher complexity, verbosity, and overhead due to XML formatting, making them less suitable for lightweight web and mobile applications.\n",
    "\n",
    "    Example: SOAP is ideal for secure enterprise applications, while REST is preferred for simpler, faster web services."
   ]
  },
  {
   "cell_type": "markdown",
   "metadata": {},
   "source": [
    "35. How does SOAP ensure security in web service communication?\n",
    "\n",
    "    SOAP ensures security through the WS-Security standard, which provides message integrity, confidentiality, and authentication. It supports digital signatures, encryption, and security tokens to protect messages from tampering and unauthorized access.\n",
    "\n",
    "    Example: A SOAP message might be encrypted using WS-Security to ensure that sensitive information, like credit card details, is securely transmitted between the client and server."
   ]
  },
  {
   "cell_type": "markdown",
   "metadata": {},
   "source": [
    "36.  What is Flask, and what makes it different from other web frameworks?\n",
    "\n",
    "    Flask is a lightweight, micro web framework for Python. It is designed to be simple and flexible, allowing developers to build web applications quickly and with minimal overhead. Unlike larger frameworks like Django, which come with many built-in features and conventions, Flask provides only the essential components needed to get a web application up and running, such as routing, request handling, and templating. This minimalistic approach gives developers the freedom to choose and integrate additional tools and libraries as needed, making Flask highly customizable and suitable for both small projects and complex applications.\n",
    "\n",
    "    Example: A Flask application might start with a few lines of code to define routes and handle HTTP requests, allowing developers to quickly prototype and iterate on their web app.\n"
   ]
  },
  {
   "cell_type": "markdown",
   "metadata": {},
   "source": [
    "37. Describe the basic structure of a Flask application\n",
    "\n",
    "    A basic Flask application typically consists of a single Python file, which serves as the entry point of the app. The structure includes the following components:\n",
    "\n",
    "    Importing Flask: Import the Flask class and other necessary modules.\n",
    "\n",
    "    Creating an App Instance: Initialize a Flask instance to create the application.\n",
    "\n",
    "    Defining Routes: Use the @app.route decorator to define URL routes and associate them with view functions.\n",
    "\n",
    "    Running the App: Use app.run() to start the development server.\n",
    "\n",
    "    from flask import Flask\n",
    "\n",
    "    app = Flask(__name__)\n",
    "\n",
    "    @app.route('/')\n",
    "    def home():\n",
    "        return \"Hello, Flask!\"\n",
    "\n",
    "    if __name__ == '__main__':\n",
    "        app.run(debug=True)\n"
   ]
  },
  {
   "cell_type": "markdown",
   "metadata": {},
   "source": [
    "38. How do you install Flask on your local machine?\n",
    "\n",
    "    python -m venv venv\n",
    "    \n",
    "    source venv/bin/activate\n",
    "\n",
    "    pip install Flask"
   ]
  },
  {
   "cell_type": "markdown",
   "metadata": {},
   "source": [
    "39. Explain the concept of routing in Flask.\n",
    "\n",
    "    Routing in Flask is the process of mapping URLs to functions. When a user visits a URL, Flask calls the associated function (view) and returns the response to the user. This is done using the @app.route decorator.\n",
    "\n",
    "    from flask import Flask\n",
    "\n",
    "    app = Flask(__name__)\n",
    "\n",
    "    @app.route('/')\n",
    "    def home():\n",
    "        return \"Welcome to the Home Page!\"\n",
    "\n",
    "    @app.route('/about')\n",
    "    def about():\n",
    "        return \"About Page\"\n",
    "\n",
    "    if __name__ == '__main__':\n",
    "        app.run(debug=True)"
   ]
  },
  {
   "cell_type": "markdown",
   "metadata": {},
   "source": [
    "40. What are Flask templates, and how are they used in web development?\n",
    "\n",
    "    Flask templates are HTML files used to create dynamic web pages. Flask utilizes the Jinja2 templating engine, allowing Python-like expressions within HTML. Templates are stored in a templates directory. The render_template function in Flask renders these templates and passes data to them. This enables dynamic content generation based on server-side data or logic. For instance, using {{ variable }} in a template allows inserting values dynamically. Control structures like loops and conditionals can also be used to manipulate HTML content. This approach helps in separating business logic from presentation, making the web application more maintainable and scalable.\n",
    "\n",
    "\n",
    "\n",
    "\n",
    "\n",
    "\n",
    "\n"
   ]
  }
 ],
 "metadata": {
  "language_info": {
   "name": "python"
  }
 },
 "nbformat": 4,
 "nbformat_minor": 2
}
