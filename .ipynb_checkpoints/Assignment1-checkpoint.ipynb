{
 "cells": [
  {
   "cell_type": "code",
   "execution_count": 1,
   "id": "a9bf0266-0bab-4962-9f7c-52b97e4864a6",
   "metadata": {},
   "outputs": [
    {
     "name": "stdin",
     "output_type": "stream",
     "text": [
      "Enter a string abhinaya\n"
     ]
    },
    {
     "name": "stdout",
     "output_type": "stream",
     "text": [
      "ayanihba\n"
     ]
    }
   ],
   "source": [
    "#1. Write a code to reverse a string\n",
    "\n",
    "str=input(\"Enter a string: \")\n",
    "revstr=str[::-1]\n",
    "print(revstr)"
   ]
  },
  {
   "cell_type": "code",
   "execution_count": 4,
   "id": "08f338d6-3af5-4ca2-8382-3720a047ae95",
   "metadata": {},
   "outputs": [
    {
     "name": "stdin",
     "output_type": "stream",
     "text": [
      "Enter a string aeious\n"
     ]
    },
    {
     "name": "stdout",
     "output_type": "stream",
     "text": [
      "5\n"
     ]
    }
   ],
   "source": [
    "#Write a code to count the number of vowels in a string\n",
    "\n",
    "str=input(\"Enter a string: \")\n",
    "vowel=[\"a\",\"e\",\"i\",\"o\",\"u\"]\n",
    "count=0\n",
    "for i in str:\n",
    "    if i in vowel:\n",
    "        count+=1\n",
    "\n",
    "print(count)"
   ]
  },
  {
   "cell_type": "code",
   "execution_count": 6,
   "id": "9b05c4f7-5159-494e-a333-fc56bc050d37",
   "metadata": {},
   "outputs": [
    {
     "name": "stdin",
     "output_type": "stream",
     "text": [
      "Enter a string bale\n"
     ]
    },
    {
     "name": "stdout",
     "output_type": "stream",
     "text": [
      "It is not a palindrome\n"
     ]
    }
   ],
   "source": [
    "# Write a code to check if a given string is a palindrome or not\n",
    "\n",
    "str=input(\"Enter a string: \")\n",
    "revstr=str[::-1]\n",
    "if revstr==str:\n",
    "    print(\"It is a palindrome\")\n",
    "else:\n",
    "    print(\"It is not a palindrome\")"
   ]
  },
  {
   "cell_type": "code",
   "execution_count": 20,
   "id": "ac07a8e7-6f28-4cd8-9d70-b5cd82d394ca",
   "metadata": {},
   "outputs": [
    {
     "name": "stdin",
     "output_type": "stream",
     "text": [
      "Enter first string kallu\n",
      "Enter second string lallu\n"
     ]
    },
    {
     "name": "stdout",
     "output_type": "stream",
     "text": [
      "It is not an anagram\n"
     ]
    }
   ],
   "source": [
    "#Write a code to check if two given strings are anagrams of each other\n",
    "\n",
    "str1=input(\"Enter first string: \")\n",
    "str2=input(\"Enter second string: \")\n",
    "if len(str1)==len(str2):\n",
    "    for i in str1:\n",
    "        if i in str2:\n",
    "            char_to_remove=i\n",
    "            str1=str1.replace(char_to_remove,\"\")\n",
    "            str2=str2.replace(char_to_remove,\"\")\n",
    "            if str1==\"\" and str2==\"\":\n",
    "                print(\"It is an anagram\")\n",
    "            else:\n",
    "                print(\"It is not an anagram\")\n",
    "                break\n",
    "                \n",
    "else:\n",
    "    print(\"It is not an anagram\")"
   ]
  },
  {
   "cell_type": "code",
   "execution_count": 28,
   "id": "4e9b86b2-c84c-4758-9eb3-040f7428c539",
   "metadata": {},
   "outputs": [
    {
     "name": "stdin",
     "output_type": "stream",
     "text": [
      "Enter the main string:  I am Abby Abby from codeing Abby\n",
      "Enter the substring:  Abby\n"
     ]
    },
    {
     "name": "stdout",
     "output_type": "stream",
     "text": [
      "3\n"
     ]
    }
   ],
   "source": [
    "#Write a code to find all occurrences of a given substring within another string\n",
    "str1=input(\"Enter the main string: \")\n",
    "str2= input(\"Enter the substring: \")\n",
    "count=0\n",
    "bool_loop= str2 in str1\n",
    "\n",
    "while bool_loop:\n",
    "    present=str2 in str1\n",
    "    if present:\n",
    "        count+=1\n",
    "        str1=str1.replace(str2,\"\",1)\n",
    "    else:\n",
    "        bool_loop=False\n",
    "\n",
    "print(count)"
   ]
  },
  {
   "cell_type": "code",
   "execution_count": 29,
   "id": "f87e1959-3562-45cb-ad7c-7e96c9947eeb",
   "metadata": {},
   "outputs": [],
   "source": [
    "#Write a code to perform basic string compression using the counts of repeated characters\n",
    "\n"
   ]
  },
  {
   "cell_type": "code",
   "execution_count": 33,
   "id": "1b675928-04a7-4f5f-92e6-e6aa14462e0b",
   "metadata": {},
   "outputs": [
    {
     "name": "stdin",
     "output_type": "stream",
     "text": [
      "Enter a string bba\n"
     ]
    },
    {
     "name": "stdout",
     "output_type": "stream",
     "text": [
      "Not all Unique\n"
     ]
    }
   ],
   "source": [
    "#Write a code to determine if a string has all unique characters\n",
    "\n",
    "str = input(\"Enter a string\")\n",
    "count=0\n",
    "for i in str:\n",
    "    for j in str[str.index(i)+1: ]:\n",
    "        if i==j:\n",
    "            count+=1\n",
    "        \n",
    "\n",
    "if count==0:\n",
    "    print(\"Unique\")\n",
    "else:\n",
    "    print(\"Not all Unique\")\n",
    "    \n"
   ]
  },
  {
   "cell_type": "code",
   "execution_count": 37,
   "id": "36affd98-4efd-424d-af0f-1d0e5d213944",
   "metadata": {},
   "outputs": [
    {
     "name": "stdin",
     "output_type": "stream",
     "text": [
      "Enter a string abhinYA\n",
      "Enter 1 for uppercase and 0 for lowercase 0\n"
     ]
    },
    {
     "name": "stdout",
     "output_type": "stream",
     "text": [
      "abhinya\n"
     ]
    }
   ],
   "source": [
    "#Write a code to convert a given string to uppercase or lowercase\u0012\n",
    "\n",
    "str=input(\"Enter a string\")\n",
    "a= input(\"Enter 1 for uppercase and 0 for lowercase\")\n",
    "value =int(a)\n",
    "\n",
    "if value==1:\n",
    "    up=str.upper()\n",
    "    print(up)\n",
    "\n",
    "if value==0:\n",
    "    low=str.lower()\n",
    "    print(low)\n",
    "\n",
    "    "
   ]
  },
  {
   "cell_type": "code",
   "execution_count": 38,
   "id": "74f33cd8-1fe1-4b98-a81e-aaf7bd6ea3be",
   "metadata": {},
   "outputs": [
    {
     "name": "stdin",
     "output_type": "stream",
     "text": [
      "Enter a string I am Abhi I go to school\n"
     ]
    },
    {
     "name": "stdout",
     "output_type": "stream",
     "text": [
      "7\n"
     ]
    }
   ],
   "source": [
    "#Write a code to count the number of words in a string\n",
    "\n",
    "str=input(\"Enter a string\")\n",
    "lis= str.split(\" \")\n",
    "count=len(lis)\n",
    "print(count)\n"
   ]
  },
  {
   "cell_type": "code",
   "execution_count": null,
   "id": "59910876-061a-4121-9658-bf63b6915ec5",
   "metadata": {},
   "outputs": [],
   "source": [
    "#Write a code to concatenate two strings without using the + operator\n",
    "\n",
    "str1=input(\"Enter first string: \")\n",
    "str2=input(\"Enter second string: \")\n",
    "concatenated_string = \"\".join([str1, str2])\n",
    "print(concatenated_string)\n",
    "\n"
   ]
  },
  {
   "cell_type": "code",
   "execution_count": null,
   "id": "1a5fa40a-1d7c-40b9-865d-a54b7fc49fda",
   "metadata": {},
   "outputs": [],
   "source": []
  }
 ],
 "metadata": {
  "kernelspec": {
   "display_name": "Python 3 (ipykernel)",
   "language": "python",
   "name": "python3"
  },
  "language_info": {
   "codemirror_mode": {
    "name": "ipython",
    "version": 3
   },
   "file_extension": ".py",
   "mimetype": "text/x-python",
   "name": "python",
   "nbconvert_exporter": "python",
   "pygments_lexer": "ipython3",
   "version": "3.10.8"
  }
 },
 "nbformat": 4,
 "nbformat_minor": 5
}
