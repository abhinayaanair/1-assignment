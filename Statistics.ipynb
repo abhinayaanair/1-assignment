{
 "cells": [
  {
   "cell_type": "markdown",
   "metadata": {},
   "source": [
    "# *1. Generate a list of 100 integers containing values between 90 to 130 and store it in the variable `int_list`.After generating the list, find the following:*\n",
    "\n",
    "  \n",
    "\n",
    "  (i) Write a Python function to calculate the mean of a given list of numbers.\n",
    "\n",
    "Create a function to find the median of a list of numbers.\n",
    "\n",
    "  \n",
    "\n",
    "  (ii) Develop a program to compute the mode of a list of integers.\n",
    "\n",
    "  \n",
    "\n",
    "  (iii) Implement a function to calculate the weighted mean of a list of values and their corresponding weights.\n",
    "\n",
    "  \n",
    "\n",
    "  (iv) Write a Python function to find the geometric mean of a list of positive numbers.\n",
    "\n",
    "  \n",
    "\n",
    "  (v) Create a program to calculate the harmonic mean of a list of values.\n",
    "\n",
    "  \n",
    "\n",
    "  (vi) Build a function to determine the midrange of a list of numbers (average of the minimum and maximum).\n",
    "\n",
    "  \n",
    "\n",
    "  (vii) Implement a Python program to find the trimmed mean of a list, excluding a certain percentage of\n",
    "outliers."
   ]
  },
  {
   "cell_type": "code",
   "execution_count": 5,
   "metadata": {},
   "outputs": [
    {
     "data": {
      "text/plain": [
       "array([128, 118, 104,  97, 110, 128, 108, 112, 100, 100, 113, 125, 129,\n",
       "       113,  92, 111,  91, 113, 119, 127,  91, 110, 122, 101, 111, 114,\n",
       "       116, 117, 105, 104,  92, 126,  96, 110,  98, 128, 107,  93, 114,\n",
       "       103,  98, 115,  91, 109, 117,  96,  97, 124, 103, 106, 125, 129,\n",
       "        93,  91,  95,  93, 118, 107, 115, 123,  99, 125, 103, 120, 104,\n",
       "        97, 103, 112, 129, 110, 105, 107, 113, 115, 114, 130, 118, 104,\n",
       "        90, 114,  96,  98, 113,  90,  97, 113, 100, 106,  97, 124, 124,\n",
       "       122,  94, 128, 130, 117,  96,  98,  97, 101])"
      ]
     },
     "execution_count": 5,
     "metadata": {},
     "output_type": "execute_result"
    }
   ],
   "source": [
    "import numpy as np\n",
    "\n",
    "\n",
    "np.random.seed(42)\n",
    "\n",
    "\n",
    "int_list = np.random.randint(90, 131, size=100)\n",
    "int_list\n"
   ]
  },
  {
   "cell_type": "code",
   "execution_count": 6,
   "metadata": {},
   "outputs": [
    {
     "data": {
      "text/plain": [
       "108.94"
      ]
     },
     "execution_count": 6,
     "metadata": {},
     "output_type": "execute_result"
    }
   ],
   "source": [
    "# Function to calculate the mean of a list of numbers\n",
    "def calculate_mean(numbers):\n",
    "    return np.mean(numbers)\n",
    "\n",
    "# Calculate the mean of int_list\n",
    "mean_value = calculate_mean(int_list)\n",
    "mean_value\n"
   ]
  },
  {
   "cell_type": "code",
   "execution_count": 7,
   "metadata": {},
   "outputs": [
    {
     "data": {
      "text/plain": [
       "109.5"
      ]
     },
     "execution_count": 7,
     "metadata": {},
     "output_type": "execute_result"
    }
   ],
   "source": [
    "# Function to find the median of a list of numbers\n",
    "def calculate_median(numbers):\n",
    "    return np.median(numbers)\n",
    "\n",
    "# Calculate the median of int_list\n",
    "median_value = calculate_median(int_list)\n",
    "median_value\n"
   ]
  },
  {
   "cell_type": "code",
   "execution_count": 11,
   "metadata": {},
   "outputs": [
    {
     "data": {
      "text/plain": [
       "97"
      ]
     },
     "execution_count": 11,
     "metadata": {},
     "output_type": "execute_result"
    }
   ],
   "source": [
    "import pandas as pd\n",
    "\n",
    "# Program to compute the mode of a list of integers\n",
    "def calculate_mode(numbers):\n",
    "    return pd.Series(numbers).mode().values[0]\n",
    "\n",
    "# Calculate the mode of int_list\n",
    "mode_value = calculate_mode(int_list)\n",
    "mode_value\n"
   ]
  },
  {
   "cell_type": "code",
   "execution_count": 12,
   "metadata": {},
   "outputs": [
    {
     "data": {
      "text/plain": [
       "107.55765199161425"
      ]
     },
     "execution_count": 12,
     "metadata": {},
     "output_type": "execute_result"
    }
   ],
   "source": [
    "# Function to calculate the weighted mean of a list of values and their corresponding weights\n",
    "def calculate_weighted_mean(values, weights):\n",
    "    return np.average(values, weights=weights)\n",
    "\n",
    "# Example weights (you can replace these with actual weights if available)\n",
    "weights = np.random.randint(1, 10, size=100)\n",
    "\n",
    "# Calculate the weighted mean of int_list\n",
    "weighted_mean_value = calculate_weighted_mean(int_list, weights)\n",
    "weighted_mean_value\n"
   ]
  },
  {
   "cell_type": "code",
   "execution_count": 13,
   "metadata": {},
   "outputs": [
    {
     "data": {
      "text/plain": [
       "108.31139336758402"
      ]
     },
     "execution_count": 13,
     "metadata": {},
     "output_type": "execute_result"
    }
   ],
   "source": [
    "# Function to find the geometric mean of a list of positive numbers\n",
    "def calculate_geometric_mean(numbers):\n",
    "    return np.exp(np.mean(np.log(numbers)))\n",
    "\n",
    "# Calculate the geometric mean of int_list\n",
    "geometric_mean_value = calculate_geometric_mean(int_list)\n",
    "geometric_mean_value\n"
   ]
  },
  {
   "cell_type": "code",
   "execution_count": 14,
   "metadata": {},
   "outputs": [
    {
     "data": {
      "text/plain": [
       "107.6871736661807"
      ]
     },
     "execution_count": 14,
     "metadata": {},
     "output_type": "execute_result"
    }
   ],
   "source": [
    "# Program to calculate the harmonic mean of a list of values\n",
    "def calculate_harmonic_mean(numbers):\n",
    "    return len(numbers) / np.sum(1.0 / numbers)\n",
    "\n",
    "# Calculate the harmonic mean of int_list\n",
    "harmonic_mean_value = calculate_harmonic_mean(int_list)\n",
    "harmonic_mean_value\n"
   ]
  },
  {
   "cell_type": "code",
   "execution_count": 15,
   "metadata": {},
   "outputs": [
    {
     "data": {
      "text/plain": [
       "110.0"
      ]
     },
     "execution_count": 15,
     "metadata": {},
     "output_type": "execute_result"
    }
   ],
   "source": [
    "# Function to determine the midrange of a list of numbers\n",
    "def calculate_midrange(numbers):\n",
    "    return (np.min(numbers) + np.max(numbers)) / 2\n",
    "\n",
    "# Calculate the midrange of int_list\n",
    "midrange_value = calculate_midrange(int_list)\n",
    "midrange_value\n"
   ]
  },
  {
   "cell_type": "code",
   "execution_count": 16,
   "metadata": {},
   "outputs": [
    {
     "data": {
      "text/plain": [
       "108.8925"
      ]
     },
     "execution_count": 16,
     "metadata": {},
     "output_type": "execute_result"
    }
   ],
   "source": [
    "# Program to find the trimmed mean of a list, excluding a certain percentage of outliers\n",
    "def calculate_trimmed_mean(numbers, percentage):\n",
    "    return pd.Series(numbers).clip(lower=np.percentile(numbers, percentage/2), \n",
    "                                   upper=np.percentile(numbers, 100-percentage/2)).mean()\n",
    "\n",
    "# Example percentage to trim (e.g., 10%)\n",
    "percentage = 10\n",
    "\n",
    "# Calculate the trimmed mean of int_list\n",
    "trimmed_mean_value = calculate_trimmed_mean(int_list, percentage)\n",
    "trimmed_mean_value\n"
   ]
  },
  {
   "cell_type": "markdown",
   "metadata": {},
   "source": [
    " # *2. Generate a list of 500 integers containing values between 200 to 300 and store it in the variable `int_list2`.After generating the list, find the following:*\n",
    "\n",
    "\n",
    "  (i) Compare the given list of visualization for the given data:\n",
    "\n",
    "    \n",
    "\n",
    "    1. Frequency & Gaussian distribution\n",
    "\n",
    "    2. Frequency smoothened KDE plot\n",
    "\n",
    "    3. Gaussian distribution & smoothened KDE plot\n",
    "\n",
    "\n",
    "  (ii) Write a Python function to calculate the range of a given list of numbers.\n",
    "\n",
    "\n",
    "  (iii) Create a program to find the variance and standard deviation of a list of numbers.\n",
    "\n",
    "\n",
    "  (iv) Implement a function to compute the interquartile range (IQR) of a list of values.\n",
    "\n",
    "\n",
    "  (v) Build a program to calculate the coefficient of variation for a dataset.\n",
    "\n",
    "  \n",
    "\n",
    "  (vi) Write a Python function to find the mean absolute deviation (MAD) of a list of numbers.\n",
    "\n",
    "\n",
    "  (vii) Create a program to calculate the quartile deviation of a list of values.\n",
    "\n",
    "  \n",
    "\n",
    "  (viii) Implement a function to find the range-based coefficient of dispersion for a dataset."
   ]
  },
  {
   "cell_type": "code",
   "execution_count": 17,
   "metadata": {},
   "outputs": [
    {
     "data": {
      "text/plain": [
       "array([251, 292, 214, 271, 260, 220, 282, 286, 274, 274, 287, 299, 223,\n",
       "       202, 221, 252, 201, 287, 229, 237, 201, 263, 259, 220, 232, 275,\n",
       "       257, 221, 288, 248, 290, 258, 241, 291, 259, 279, 214, 261, 261,\n",
       "       246, 261, 250, 254, 263, 202, 300, 250, 206, 220, 272, 238, 217,\n",
       "       203, 288, 259, 213, 208, 289, 252, 201, 283, 291, 259, 270, 243,\n",
       "       207, 246, 234, 277, 280, 235, 249, 203, 201, 205, 253, 203, 253,\n",
       "       292, 262, 217, 289, 243, 233, 273, 261, 299, 213, 294, 247, 214,\n",
       "       271, 277, 286, 261, 239, 284, 279, 281, 252, 223, 225, 288, 259,\n",
       "       240, 228, 214, 244, 264, 288, 270, 208, 287, 200, 207, 287, 262,\n",
       "       210, 280, 207, 234, 234, 232, 204, 240, 227, 206, 272, 271, 211,\n",
       "       233, 232, 247, 222, 261, 287, 236, 298, 243, 285, 290, 234, 264,\n",
       "       298, 300, 246, 277, 202, 200, 204, 289, 213, 226, 208, 278, 214,\n",
       "       289, 241, 276, 250, 262, 295, 251, 295, 203, 293, 300, 222, 214,\n",
       "       242, 228, 235, 212, 231, 270, 258, 285, 227, 265, 241, 244, 261,\n",
       "       256, 205, 227, 227, 243, 283, 229, 261, 274, 291, 288, 261, 296,\n",
       "       200, 226, 261, 276, 202, 269, 271, 226, 208, 261, 236, 296, 250,\n",
       "       243, 223, 278, 258, 231, 295, 287, 251, 261, 257, 251, 211, 238,\n",
       "       201, 202, 300, 255, 280, 258, 201, 201, 291, 253, 286, 300, 295,\n",
       "       296, 200, 218, 201, 252, 243, 289, 231, 269, 231, 267, 254, 274,\n",
       "       255, 216, 237, 223, 268, 297, 269, 285, 210, 215, 296, 272, 258,\n",
       "       269, 279, 292, 202, 219, 258, 235, 218, 289, 266, 218, 219, 295,\n",
       "       270, 251, 232, 239, 238, 281, 200, 210, 291, 256, 288, 249, 222,\n",
       "       230, 293, 241, 298, 206, 215, 289, 259, 201, 200, 247, 211, 268,\n",
       "       236, 231, 208, 298, 218, 247, 279, 202, 219, 223, 253, 232, 223,\n",
       "       274, 271, 235, 237, 283, 298, 288, 298, 224, 292, 217, 281, 265,\n",
       "       253, 234, 279, 260, 240, 299, 232, 267, 232, 213, 220, 247, 219,\n",
       "       207, 206, 266, 216, 232, 247, 275, 258, 285, 221, 229, 237, 250,\n",
       "       253, 207, 226, 226, 297, 220, 229, 296, 227, 263, 296, 268, 260,\n",
       "       247, 218, 203, 234, 263, 248, 216, 243, 291, 229, 292, 245, 205,\n",
       "       298, 236, 223, 292, 245, 252, 294, 298, 259, 296, 262, 284, 231,\n",
       "       286, 232, 266, 217, 224, 294, 253, 257, 266, 245, 223, 231, 246,\n",
       "       285, 222, 265, 226, 201, 289, 216, 232, 208, 242, 247, 238, 292,\n",
       "       241, 225, 298, 249, 224, 223, 212, 259, 206, 256, 235, 244, 219,\n",
       "       264, 207, 215, 213, 275, 286, 214, 291, 297, 265, 231, 286, 262,\n",
       "       285, 250, 224, 257, 262, 261, 221, 257, 257, 285, 248, 251, 241,\n",
       "       269, 214, 253, 259, 300, 296, 207, 252, 259, 204, 267, 205, 295,\n",
       "       293, 246, 298, 254, 239, 251, 215, 212, 229, 218, 216, 262, 218,\n",
       "       291, 257, 254, 289, 300, 289, 261, 222, 208, 211, 200, 257, 200,\n",
       "       233, 295, 247, 288, 200, 215])"
      ]
     },
     "execution_count": 17,
     "metadata": {},
     "output_type": "execute_result"
    }
   ],
   "source": [
    "import numpy as np\n",
    "\n",
    "# Set the seed for reproducibility\n",
    "np.random.seed(42)\n",
    "\n",
    "# Generate the list of 500 integers containing values between 200 and 300\n",
    "int_list2 = np.random.randint(200, 301, size=500)\n",
    "int_list2\n"
   ]
  },
  {
   "cell_type": "code",
   "execution_count": 18,
   "metadata": {},
   "outputs": [],
   "source": [
    "import pandas as pd\n",
    "import seaborn as sns\n",
    "import matplotlib.pyplot as plt"
   ]
  },
  {
   "cell_type": "code",
   "execution_count": 19,
   "metadata": {},
   "outputs": [],
   "source": [
    "data_series = pd.Series(int_list2)"
   ]
  },
  {
   "cell_type": "code",
   "execution_count": 20,
   "metadata": {},
   "outputs": [
    {
     "data": {
      "image/png": "[encoded data removed]",
      "text/plain": [
       "<Figure size 1200x600 with 1 Axes>"
      ]
     },
     "metadata": {},
     "output_type": "display_data"
    }
   ],
   "source": [
    "plt.figure(figsize=(12, 6))\n",
    "sns.histplot(data_series, kde=False, bins=30, color='blue', stat='density')\n",
    "sns.kdeplot(data_series, color='red')\n",
    "plt.title('Frequency & Gaussian Distribution')\n",
    "plt.show()"
   ]
  },
  {
   "cell_type": "code",
   "execution_count": 21,
   "metadata": {},
   "outputs": [
    {
     "data": {
      "image/png": "[encoded data removed]",
      "text/plain": [
       "<Figure size 1200x600 with 1 Axes>"
      ]
     },
     "metadata": {},
     "output_type": "display_data"
    }
   ],
   "source": [
    "plt.figure(figsize=(12, 6))\n",
    "sns.histplot(data_series, kde=True, bins=30, color='blue')\n",
    "plt.title('Frequency Smoothened KDE Plot')\n",
    "plt.show()\n"
   ]
  },
  {
   "cell_type": "code",
   "execution_count": 22,
   "metadata": {},
   "outputs": [
    {
     "data": {
      "image/png": "[encoded data removed]",
      "text/plain": [
       "<Figure size 1200x600 with 1 Axes>"
      ]
     },
     "metadata": {},
     "output_type": "display_data"
    }
   ],
   "source": [
    "plt.figure(figsize=(12, 6))\n",
    "sns.kdeplot(data_series, color='blue')\n",
    "sns.kdeplot(data_series, color='red')\n",
    "plt.title('Gaussian Distribution & Smoothened KDE Plot')\n",
    "plt.show()"
   ]
  },
  {
   "cell_type": "code",
   "execution_count": 24,
   "metadata": {},
   "outputs": [
    {
     "data": {
      "text/plain": [
       "100"
      ]
     },
     "execution_count": 24,
     "metadata": {},
     "output_type": "execute_result"
    }
   ],
   "source": [
    "# Function to calculate the range of a list of numbers\n",
    "def calculate_range(numbers):\n",
    "    return np.max(numbers) - np.min(numbers)\n",
    "\n",
    "# Calculate the range of int_list2\n",
    "range_value = calculate_range(int_list2)\n",
    "range_value\n"
   ]
  },
  {
   "cell_type": "code",
   "execution_count": 25,
   "metadata": {},
   "outputs": [
    {
     "data": {
      "text/plain": [
       "(901.3499, 30.022489903404082)"
      ]
     },
     "execution_count": 25,
     "metadata": {},
     "output_type": "execute_result"
    }
   ],
   "source": [
    "# Program to find the variance and standard deviation of a list of numbers\n",
    "def calculate_variance(numbers):\n",
    "    return np.var(numbers)\n",
    "\n",
    "def calculate_standard_deviation(numbers):\n",
    "    return np.std(numbers)\n",
    "\n",
    "# Calculate the variance and standard deviation of int_list2\n",
    "variance_value = calculate_variance(int_list2)\n",
    "standard_deviation_value = calculate_standard_deviation(int_list2)\n",
    "variance_value, standard_deviation_value\n"
   ]
  },
  {
   "cell_type": "code",
   "execution_count": 26,
   "metadata": {},
   "outputs": [
    {
     "data": {
      "text/plain": [
       "51.25"
      ]
     },
     "execution_count": 26,
     "metadata": {},
     "output_type": "execute_result"
    }
   ],
   "source": [
    "# Function to compute the interquartile range (IQR) of a list of values\n",
    "def calculate_iqr(numbers):\n",
    "    Q1 = np.percentile(numbers, 25)\n",
    "    Q3 = np.percentile(numbers, 75)\n",
    "    return Q3 - Q1\n",
    "\n",
    "# Calculate the IQR of int_list2\n",
    "iqr_value = calculate_iqr(int_list2)\n",
    "iqr_value\n"
   ]
  },
  {
   "cell_type": "code",
   "execution_count": 27,
   "metadata": {},
   "outputs": [
    {
     "data": {
      "text/plain": [
       "12.037404235357076"
      ]
     },
     "execution_count": 27,
     "metadata": {},
     "output_type": "execute_result"
    }
   ],
   "source": [
    "# Program to calculate the coefficient of variation for a dataset\n",
    "def calculate_coefficient_of_variation(numbers):\n",
    "    mean = np.mean(numbers)\n",
    "    std_dev = np.std(numbers)\n",
    "    return (std_dev / mean) * 100\n",
    "\n",
    "# Calculate the coefficient of variation of int_list2\n",
    "coefficient_of_variation_value = calculate_coefficient_of_variation(int_list2)\n",
    "coefficient_of_variation_value\n"
   ]
  },
  {
   "cell_type": "code",
   "execution_count": 28,
   "metadata": {},
   "outputs": [
    {
     "data": {
      "text/plain": [
       "25.803440000000002"
      ]
     },
     "execution_count": 28,
     "metadata": {},
     "output_type": "execute_result"
    }
   ],
   "source": [
    "# Function to find the mean absolute deviation (MAD) of a list of numbers\n",
    "def calculate_mad(numbers):\n",
    "    mean = np.mean(numbers)\n",
    "    return np.mean(np.abs(numbers - mean))\n",
    "\n",
    "# Calculate the MAD of int_list2\n",
    "mad_value = calculate_mad(int_list2)\n",
    "mad_value\n"
   ]
  },
  {
   "cell_type": "code",
   "execution_count": 29,
   "metadata": {},
   "outputs": [
    {
     "data": {
      "text/plain": [
       "25.625"
      ]
     },
     "execution_count": 29,
     "metadata": {},
     "output_type": "execute_result"
    }
   ],
   "source": [
    "# Program to calculate the quartile deviation of a list of values\n",
    "def calculate_quartile_deviation(numbers):\n",
    "    Q1 = np.percentile(numbers, 25)\n",
    "    Q3 = np.percentile(numbers, 75)\n",
    "    return (Q3 - Q1) / 2\n",
    "\n",
    "# Calculate the quartile deviation of int_list2\n",
    "quartile_deviation_value = calculate_quartile_deviation(int_list2)\n",
    "quartile_deviation_value\n"
   ]
  },
  {
   "cell_type": "code",
   "execution_count": 30,
   "metadata": {},
   "outputs": [
    {
     "data": {
      "text/plain": [
       "40.094623311014"
      ]
     },
     "execution_count": 30,
     "metadata": {},
     "output_type": "execute_result"
    }
   ],
   "source": [
    "# Function to find the range-based coefficient of dispersion for a dataset\n",
    "def calculate_range_based_coefficient_of_dispersion(numbers):\n",
    "    range_value = np.max(numbers) - np.min(numbers)\n",
    "    mean_value = np.mean(numbers)\n",
    "    return (range_value / mean_value) * 100\n",
    "\n",
    "# Calculate the range-based coefficient of dispersion of int_list2\n",
    "range_based_coefficient_of_dispersion_value = calculate_range_based_coefficient_of_dispersion(int_list2)\n",
    "range_based_coefficient_of_dispersion_value\n",
    "\n"
   ]
  },
  {
   "cell_type": "markdown",
   "metadata": {},
   "source": [
    "# *3. Write a Python class representing a discrete random variable with methods to calculate its expected value and variance.*"
   ]
  },
  {
   "cell_type": "code",
   "execution_count": 31,
   "metadata": {},
   "outputs": [
    {
     "data": {
      "text/plain": [
       "(3.5, 2.9166666666666665)"
      ]
     },
     "execution_count": 31,
     "metadata": {},
     "output_type": "execute_result"
    }
   ],
   "source": [
    "import numpy as np\n",
    "\n",
    "class DiscreteRandomVariable:\n",
    "    def __init__(self, values, probabilities):\n",
    "        self.values = np.array(values)\n",
    "        self.probabilities = np.array(probabilities)\n",
    "        \n",
    "    def expected_value(self):\n",
    "        return np.sum(self.values * self.probabilities)\n",
    "    \n",
    "    def variance(self):\n",
    "        mean = self.expected_value()\n",
    "        return np.sum((self.values - mean) ** 2 * self.probabilities)\n",
    "\n",
    "# Example usage\n",
    "values = [1, 2, 3, 4, 5, 6]\n",
    "probabilities = [1/6] * 6\n",
    "drv = DiscreteRandomVariable(values, probabilities)\n",
    "drv.expected_value(), drv.variance()\n"
   ]
  },
  {
   "cell_type": "markdown",
   "metadata": {},
   "source": [
    "# *4. Implement a program to simulate the rolling of a fair six-sided die and calculate the expected value and variance of the outcomes.*"
   ]
  },
  {
   "cell_type": "code",
   "execution_count": 32,
   "metadata": {},
   "outputs": [
    {
     "data": {
      "text/plain": [
       "(3.4982, 2.9201967600000005)"
      ]
     },
     "execution_count": 32,
     "metadata": {},
     "output_type": "execute_result"
    }
   ],
   "source": [
    "import numpy as np\n",
    "\n",
    "def simulate_die_rolls(num_rolls):\n",
    "    rolls = np.random.randint(1, 7, size=num_rolls)\n",
    "    expected_value = np.mean(rolls)\n",
    "    variance = np.var(rolls)\n",
    "    return expected_value, variance\n",
    "\n",
    "# Example usage\n",
    "num_rolls = 10000\n",
    "simulate_die_rolls(num_rolls)\n"
   ]
  },
  {
   "cell_type": "markdown",
   "metadata": {},
   "source": [
    "# *5. Create a Python 6unction to generate random samples 6rom a given probability distribution (e.g., binomial, Poisson) and calculate their mean and variance*"
   ]
  },
  {
   "cell_type": "code",
   "execution_count": 33,
   "metadata": {},
   "outputs": [
    {
     "data": {
      "text/plain": [
       "(2.987, 2.9928310000000002)"
      ]
     },
     "execution_count": 33,
     "metadata": {},
     "output_type": "execute_result"
    }
   ],
   "source": [
    "import numpy as np\n",
    "\n",
    "def generate_samples(distribution, params, size=1000):\n",
    "    if distribution == 'binomial':\n",
    "        samples = np.random.binomial(params['n'], params['p'], size)\n",
    "    elif distribution == 'poisson':\n",
    "        samples = np.random.poisson(params['lambda'], size)\n",
    "    else:\n",
    "        raise ValueError(\"Unsupported distribution\")\n",
    "    \n",
    "    mean = np.mean(samples)\n",
    "    variance = np.var(samples)\n",
    "    return samples, mean, variance\n",
    "\n",
    "# Example usage for binomial distribution\n",
    "params_binomial = {'n': 10, 'p': 0.5}\n",
    "samples_binomial, mean_binomial, variance_binomial = generate_samples('binomial', params_binomial)\n",
    "mean_binomial, variance_binomial\n",
    "\n",
    "# Example usage for poisson distribution\n",
    "params_poisson = {'lambda': 3}\n",
    "samples_poisson, mean_poisson, variance_poisson = generate_samples('poisson', params_poisson)\n",
    "mean_poisson, variance_poisson\n"
   ]
  },
  {
   "cell_type": "markdown",
   "metadata": {},
   "source": [
    "# *6. Write a Python script to generate random numbers from a Gaussian (normal) distribution and compute the mean, variance, and standard deviation of the samples.*"
   ]
  },
  {
   "cell_type": "code",
   "execution_count": 34,
   "metadata": {},
   "outputs": [
    {
     "data": {
      "text/plain": [
       "(0.0031224657829400115, 1.0370592317050225, 1.0183610517419754)"
      ]
     },
     "execution_count": 34,
     "metadata": {},
     "output_type": "execute_result"
    }
   ],
   "source": [
    "import numpy as np\n",
    "\n",
    "def generate_gaussian_samples(mean, std_dev, size=1000):\n",
    "    samples = np.random.normal(mean, std_dev, size)\n",
    "    sample_mean = np.mean(samples)\n",
    "    sample_variance = np.var(samples)\n",
    "    sample_std_dev = np.std(samples)\n",
    "    return samples, sample_mean, sample_variance, sample_std_dev\n",
    "\n",
    "# Example usage\n",
    "mean = 0\n",
    "std_dev = 1\n",
    "samples_gaussian, sample_mean, sample_variance, sample_std_dev = generate_gaussian_samples(mean, std_dev)\n",
    "sample_mean, sample_variance, sample_std_dev\n"
   ]
  },
  {
   "cell_type": "markdown",
   "metadata": {},
   "source": [
    " # *7. Use seaborn library to load tips dataset. Find the following from the dataset for the columns total_bill and tip`:*\n",
    "\n",
    "  \n",
    "\n",
    "  (i) Write a Python function that calculates their skewness.\n",
    "\n",
    "\n",
    "  (ii) Create a program that determines whether the columns exhibit positive skewness, negative skewness, or is\n",
    "approximately symmetric.\n",
    "\n",
    "\n",
    "  (iii) Write a function that calculates the covariance between two columns.\n",
    "\n",
    "\n",
    "  (iv) Implement a Python program that calculates the Pearson correlation coefficient between two columns.\n",
    "\n",
    "\n",
    "  (v) Write a script to visualize the correlation between two specific columns in a Pandas DataFrame using\n",
    "scatter plots."
   ]
  },
  {
   "cell_type": "code",
   "execution_count": 35,
   "metadata": {},
   "outputs": [
    {
     "data": {
      "text/html": [
       "<div>\n",
       "<style scoped>\n",
       "    .dataframe tbody tr th:only-of-type {\n",
       "        vertical-align: middle;\n",
       "    }\n",
       "\n",
       "    .dataframe tbody tr th {\n",
       "        vertical-align: top;\n",
       "    }\n",
       "\n",
       "    .dataframe thead th {\n",
       "        text-align: right;\n",
       "    }\n",
       "</style>\n",
       "<table border=\"1\" class=\"dataframe\">\n",
       "  <thead>\n",
       "    <tr style=\"text-align: right;\">\n",
       "      <th></th>\n",
       "      <th>total_bill</th>\n",
       "      <th>tip</th>\n",
       "      <th>sex</th>\n",
       "      <th>smoker</th>\n",
       "      <th>day</th>\n",
       "      <th>time</th>\n",
       "      <th>size</th>\n",
       "    </tr>\n",
       "  </thead>\n",
       "  <tbody>\n",
       "    <tr>\n",
       "      <th>0</th>\n",
       "      <td>16.99</td>\n",
       "      <td>1.01</td>\n",
       "      <td>Female</td>\n",
       "      <td>No</td>\n",
       "      <td>Sun</td>\n",
       "      <td>Dinner</td>\n",
       "      <td>2</td>\n",
       "    </tr>\n",
       "    <tr>\n",
       "      <th>1</th>\n",
       "      <td>10.34</td>\n",
       "      <td>1.66</td>\n",
       "      <td>Male</td>\n",
       "      <td>No</td>\n",
       "      <td>Sun</td>\n",
       "      <td>Dinner</td>\n",
       "      <td>3</td>\n",
       "    </tr>\n",
       "    <tr>\n",
       "      <th>2</th>\n",
       "      <td>21.01</td>\n",
       "      <td>3.50</td>\n",
       "      <td>Male</td>\n",
       "      <td>No</td>\n",
       "      <td>Sun</td>\n",
       "      <td>Dinner</td>\n",
       "      <td>3</td>\n",
       "    </tr>\n",
       "    <tr>\n",
       "      <th>3</th>\n",
       "      <td>23.68</td>\n",
       "      <td>3.31</td>\n",
       "      <td>Male</td>\n",
       "      <td>No</td>\n",
       "      <td>Sun</td>\n",
       "      <td>Dinner</td>\n",
       "      <td>2</td>\n",
       "    </tr>\n",
       "    <tr>\n",
       "      <th>4</th>\n",
       "      <td>24.59</td>\n",
       "      <td>3.61</td>\n",
       "      <td>Female</td>\n",
       "      <td>No</td>\n",
       "      <td>Sun</td>\n",
       "      <td>Dinner</td>\n",
       "      <td>4</td>\n",
       "    </tr>\n",
       "  </tbody>\n",
       "</table>\n",
       "</div>"
      ],
      "text/plain": [
       "   total_bill   tip     sex smoker  day    time  size\n",
       "0       16.99  1.01  Female     No  Sun  Dinner     2\n",
       "1       10.34  1.66    Male     No  Sun  Dinner     3\n",
       "2       21.01  3.50    Male     No  Sun  Dinner     3\n",
       "3       23.68  3.31    Male     No  Sun  Dinner     2\n",
       "4       24.59  3.61  Female     No  Sun  Dinner     4"
      ]
     },
     "execution_count": 35,
     "metadata": {},
     "output_type": "execute_result"
    }
   ],
   "source": [
    "import seaborn as sns\n",
    "import pandas as pd\n",
    "\n",
    "# Load the tips dataset\n",
    "tips = sns.load_dataset(\"tips\")\n",
    "tips.head()\n"
   ]
  },
  {
   "cell_type": "code",
   "execution_count": 36,
   "metadata": {},
   "outputs": [
    {
     "data": {
      "text/plain": [
       "(1.1262346334818638, 1.4564266884221506)"
      ]
     },
     "execution_count": 36,
     "metadata": {},
     "output_type": "execute_result"
    }
   ],
   "source": [
    "from scipy.stats import skew\n",
    "\n",
    "# Function to calculate skewness\n",
    "def calculate_skewness(column):\n",
    "    return skew(column)\n",
    "\n",
    "# Calculate skewness for 'total_bill' and 'tip'\n",
    "skewness_total_bill = calculate_skewness(tips['total_bill'])\n",
    "skewness_tip = calculate_skewness(tips['tip'])\n",
    "skewness_total_bill, skewness_tip\n"
   ]
  },
  {
   "cell_type": "code",
   "execution_count": 37,
   "metadata": {},
   "outputs": [
    {
     "data": {
      "text/plain": [
       "('Positive skewness', 'Positive skewness')"
      ]
     },
     "execution_count": 37,
     "metadata": {},
     "output_type": "execute_result"
    }
   ],
   "source": [
    "# Function to determine skewness type\n",
    "def determine_skewness_type(column):\n",
    "    skewness_value = skew(column)\n",
    "    if skewness_value > 0:\n",
    "        return \"Positive skewness\"\n",
    "    elif skewness_value < 0:\n",
    "        return \"Negative skewness\"\n",
    "    else:\n",
    "        return \"Approximately symmetric\"\n",
    "\n",
    "# Determine skewness type for 'total_bill' and 'tip'\n",
    "skewness_type_total_bill = determine_skewness_type(tips['total_bill'])\n",
    "skewness_type_tip = determine_skewness_type(tips['tip'])\n",
    "skewness_type_total_bill, skewness_type_tip\n"
   ]
  },
  {
   "cell_type": "code",
   "execution_count": 38,
   "metadata": {},
   "outputs": [
    {
     "data": {
      "text/plain": [
       "8.323501629224854"
      ]
     },
     "execution_count": 38,
     "metadata": {},
     "output_type": "execute_result"
    }
   ],
   "source": [
    "# Function to calculate covariance\n",
    "def calculate_covariance(column1, column2):\n",
    "    return np.cov(column1, column2)[0, 1]\n",
    "\n",
    "# Calculate covariance between 'total_bill' and 'tip'\n",
    "covariance_total_bill_tip = calculate_covariance(tips['total_bill'], tips['tip'])\n",
    "covariance_total_bill_tip\n"
   ]
  },
  {
   "cell_type": "code",
   "execution_count": 39,
   "metadata": {},
   "outputs": [
    {
     "data": {
      "text/plain": [
       "0.6757341092113645"
      ]
     },
     "execution_count": 39,
     "metadata": {},
     "output_type": "execute_result"
    }
   ],
   "source": [
    "# Function to calculate Pearson correlation coefficient\n",
    "def calculate_pearson_correlation(column1, column2):\n",
    "    return np.corrcoef(column1, column2)[0, 1]\n",
    "\n",
    "# Calculate Pearson correlation coefficient between 'total_bill' and 'tip'\n",
    "pearson_correlation_total_bill_tip = calculate_pearson_correlation(tips['total_bill'], tips['tip'])\n",
    "pearson_correlation_total_bill_tip\n"
   ]
  },
  {
   "cell_type": "code",
   "execution_count": 40,
   "metadata": {},
   "outputs": [
    {
     "data": {
      "image/png": "[encoded data removed]",
      "text/plain": [
       "<Figure size 1000x600 with 1 Axes>"
      ]
     },
     "metadata": {},
     "output_type": "display_data"
    }
   ],
   "source": [
    "import matplotlib.pyplot as plt\n",
    "\n",
    "# Function to visualize correlation using scatter plot\n",
    "def visualize_correlation(df, column1, column2):\n",
    "    plt.figure(figsize=(10, 6))\n",
    "    sns.scatterplot(x=df[column1], y=df[column2])\n",
    "    plt.title(f'Scatter plot between {column1} and {column2}')\n",
    "    plt.xlabel(column1)\n",
    "    plt.ylabel(column2)\n",
    "    plt.show()\n",
    "\n",
    "# Visualize the correlation between 'total_bill' and 'tip'\n",
    "visualize_correlation(tips, 'total_bill', 'tip')\n"
   ]
  },
  {
   "cell_type": "markdown",
   "metadata": {},
   "source": [
    "# *8. Write a Python function to calculate the probability density function (PDF) of a continuous random variable for a given normal distribution.*"
   ]
  },
  {
   "cell_type": "code",
   "execution_count": 41,
   "metadata": {},
   "outputs": [
    {
     "data": {
      "text/plain": [
       "array([7.69459863e-23, 5.68442201e-22, 4.03145816e-21, 2.74481769e-20,\n",
       "       1.79407401e-19, 1.12575195e-18, 6.78141882e-18, 3.92169602e-17,\n",
       "       2.17722239e-16, 1.16039850e-15, 5.93727315e-15, 2.91636853e-14,\n",
       "       1.37522348e-13, 6.22557774e-13, 2.70558725e-12, 1.12880502e-11,\n",
       "       4.52118024e-11, 1.73844203e-10, 6.41717835e-10, 2.27406833e-09,\n",
       "       7.73639102e-09, 2.52667171e-08, 7.92199799e-08, 2.38449349e-07,\n",
       "       6.89021948e-07, 1.91137312e-06, 5.09018302e-06, 1.30135811e-05,\n",
       "       3.19400618e-05, 7.52575687e-05, 1.70231576e-04, 3.69662637e-04,\n",
       "       7.70631042e-04, 1.54227900e-03, 2.96315857e-03, 5.46540492e-03,\n",
       "       9.67754721e-03, 1.64506763e-02, 2.68458845e-02, 4.20578610e-02,\n",
       "       6.32546052e-02, 9.13298239e-02, 1.26592680e-01, 1.68453513e-01,\n",
       "       2.15192461e-01, 2.63906165e-01, 3.10704486e-01, 3.51172916e-01,\n",
       "       3.81039507e-01, 3.96912251e-01, 3.96912251e-01, 3.81039507e-01,\n",
       "       3.51172916e-01, 3.10704486e-01, 2.63906165e-01, 2.15192461e-01,\n",
       "       1.68453513e-01, 1.26592680e-01, 9.13298239e-02, 6.32546052e-02,\n",
       "       4.20578610e-02, 2.68458845e-02, 1.64506763e-02, 9.67754721e-03,\n",
       "       5.46540492e-03, 2.96315857e-03, 1.54227900e-03, 7.70631042e-04,\n",
       "       3.69662637e-04, 1.70231576e-04, 7.52575687e-05, 3.19400618e-05,\n",
       "       1.30135811e-05, 5.09018302e-06, 1.91137312e-06, 6.89021948e-07,\n",
       "       2.38449349e-07, 7.92199799e-08, 2.52667171e-08, 7.73639102e-09,\n",
       "       2.27406833e-09, 6.41717835e-10, 1.73844203e-10, 4.52118024e-11,\n",
       "       1.12880502e-11, 2.70558725e-12, 6.22557774e-13, 1.37522348e-13,\n",
       "       2.91636853e-14, 5.93727315e-15, 1.16039850e-15, 2.17722239e-16,\n",
       "       3.92169602e-17, 6.78141882e-18, 1.12575195e-18, 1.79407401e-19,\n",
       "       2.74481769e-20, 4.03145816e-21, 5.68442201e-22, 7.69459863e-23])"
      ]
     },
     "execution_count": 41,
     "metadata": {},
     "output_type": "execute_result"
    }
   ],
   "source": [
    "import numpy as np\n",
    "from scipy.stats import norm\n",
    "\n",
    "# Function to calculate the PDF of a normal distribution\n",
    "def calculate_pdf(x, mean, std_dev):\n",
    "    return norm.pdf(x, loc=mean, scale=std_dev)\n",
    "\n",
    "# Example usage\n",
    "x_values = np.linspace(-10, 10, 100)\n",
    "mean = 0\n",
    "std_dev = 1\n",
    "pdf_values = calculate_pdf(x_values, mean, std_dev)\n",
    "pdf_values\n"
   ]
  },
  {
   "cell_type": "markdown",
   "metadata": {},
   "source": [
    "# *9. Create a program to calculate the cumulative distribution function (CDF) of exponential distribution.*"
   ]
  },
  {
   "cell_type": "code",
   "execution_count": 42,
   "metadata": {},
   "outputs": [
    {
     "data": {
      "text/plain": [
       "array([0.        , 0.0960761 , 0.18292158, 0.26142329, 0.33238285,\n",
       "       0.3965249 , 0.45450444, 0.50691352, 0.55428735, 0.59710968,\n",
       "       0.63581781, 0.67080701, 0.70243459, 0.73102351, 0.75686572,\n",
       "       0.78022512, 0.80134023, 0.82042669, 0.83767939, 0.85327452,\n",
       "       0.86737133, 0.88011378, 0.89163198, 0.90204355, 0.91145483,\n",
       "       0.9199619 , 0.92765165, 0.9346026 , 0.94088572, 0.94656519,\n",
       "       0.951699  , 0.95633957, 0.9605343 , 0.96432601, 0.96775342,\n",
       "       0.97085155, 0.97365202, 0.97618343, 0.97847163, 0.98053999,\n",
       "       0.98240964, 0.98409965, 0.98562729, 0.98700817, 0.98825637,\n",
       "       0.98938465, 0.99040453, 0.99132643, 0.99215975, 0.99291301,\n",
       "       0.9935939 , 0.99420938, 0.99476572, 0.99526861, 0.99572318,\n",
       "       0.99613408, 0.9965055 , 0.99684124, 0.99714472, 0.99741905,\n",
       "       0.99766701, 0.99789116, 0.99809377, 0.99827691, 0.99844246,\n",
       "       0.9985921 , 0.99872737, 0.99884964, 0.99896016, 0.99906006,\n",
       "       0.99915037, 0.999232  , 0.99930578, 0.99937248, 0.99943277,\n",
       "       0.99948727, 0.99953653, 0.99958106, 0.99962131, 0.99965769,\n",
       "       0.99969058, 0.99972031, 0.99974718, 0.99977147, 0.99979343,\n",
       "       0.99981327, 0.99983121, 0.99984743, 0.99986209, 0.99987534,\n",
       "       0.99988731, 0.99989814, 0.99990793, 0.99991677, 0.99992477,\n",
       "       0.999932  , 0.99993853, 0.99994444, 0.99994977, 0.9999546 ])"
      ]
     },
     "execution_count": 42,
     "metadata": {},
     "output_type": "execute_result"
    }
   ],
   "source": [
    "from scipy.stats import expon\n",
    "\n",
    "# Function to calculate the CDF of an exponential distribution\n",
    "def calculate_cdf_exponential(x, scale):\n",
    "    return expon.cdf(x, scale=scale)\n",
    "\n",
    "# Example usage\n",
    "x_values = np.linspace(0, 10, 100)\n",
    "scale = 1\n",
    "cdf_values = calculate_cdf_exponential(x_values, scale)\n",
    "cdf_values\n"
   ]
  },
  {
   "cell_type": "markdown",
   "metadata": {},
   "source": [
    "# *10. Write a Python function to calculate the probability mass function (PMF) of Poisson distribution.*"
   ]
  },
  {
   "cell_type": "code",
   "execution_count": 43,
   "metadata": {},
   "outputs": [
    {
     "data": {
      "text/plain": [
       "array([4.97870684e-02, 1.49361205e-01, 2.24041808e-01, 2.24041808e-01,\n",
       "       1.68031356e-01, 1.00818813e-01, 5.04094067e-02, 2.16040315e-02,\n",
       "       8.10151179e-03, 2.70050393e-03, 8.10151179e-04, 2.20950322e-04,\n",
       "       5.52375804e-05, 1.27471339e-05, 2.73152870e-06, 5.46305740e-07,\n",
       "       1.02432326e-07, 1.80762929e-08, 3.01271548e-09, 4.75691918e-10])"
      ]
     },
     "execution_count": 43,
     "metadata": {},
     "output_type": "execute_result"
    }
   ],
   "source": [
    "from scipy.stats import poisson\n",
    "\n",
    "# Function to calculate the PMF of a Poisson distribution\n",
    "def calculate_pmf_poisson(k, lambda_):\n",
    "    return poisson.pmf(k, mu=lambda_)\n",
    "\n",
    "# Example usage\n",
    "k_values = np.arange(0, 20)\n",
    "lambda_ = 3\n",
    "pmf_values = calculate_pmf_poisson(k_values, lambda_)\n",
    "pmf_values\n"
   ]
  },
  {
   "cell_type": "markdown",
   "metadata": {},
   "source": [
    "# *11. A company wants to test in a new website layout leads to a higher conversion rate (percentage oN visitors who make a purchase). They collect data from the old and new layouts to compare.*\n",
    "\n",
    "\n",
    "To generate the data use the following command:\n",
    "\n",
    "```python\n",
    "\n",
    "import numpy as np\n",
    "\n",
    "# 50 purchases out of 1000 visitors\n",
    "\n",
    "old_layout = np.array([1] * 50 + [0] * 950)\n",
    "\n",
    "# 70 purchases out of 1000 visitors  \n",
    "\n",
    "new_layout = np.array([1] * 70 + [0] * 930)\n",
    "\n",
    "  ```\n",
    "\n",
    "Apply z-test to find which layout is successful."
   ]
  },
  {
   "cell_type": "code",
   "execution_count": 48,
   "metadata": {},
   "outputs": [],
   "source": [
    "import numpy as np\n",
    "from statsmodels.stats.proportion import proportions_ztest"
   ]
  },
  {
   "cell_type": "code",
   "execution_count": 49,
   "metadata": {},
   "outputs": [],
   "source": [
    "old_layout = np.array([1] * 50 + [0] * 950)\n",
    "new_layout = np.array([1] * 70 + [0] * 930)\n"
   ]
  },
  {
   "cell_type": "code",
   "execution_count": 50,
   "metadata": {},
   "outputs": [],
   "source": [
    "x1 = np.sum(old_layout)\n",
    "x2 = np.sum(new_layout)"
   ]
  },
  {
   "cell_type": "code",
   "execution_count": 51,
   "metadata": {},
   "outputs": [],
   "source": [
    "n1 = len(old_layout)\n",
    "n2 = len(new_layout)\n"
   ]
  },
  {
   "cell_type": "code",
   "execution_count": 52,
   "metadata": {},
   "outputs": [],
   "source": [
    "count = np.array([x1, x2])\n",
    "nobs = np.array([n1, n2])\n",
    "stat, pval = proportions_ztest(count, nobs)\n"
   ]
  },
  {
   "cell_type": "code",
   "execution_count": 53,
   "metadata": {},
   "outputs": [
    {
     "name": "stdout",
     "output_type": "stream",
     "text": [
      "z-statistic: -1.883108942886774\n",
      "p-value: 0.059685605532426224\n"
     ]
    }
   ],
   "source": [
    "print(f\"z-statistic: {stat}\")\n",
    "print(f\"p-value: {pval}\")\n"
   ]
  },
  {
   "cell_type": "code",
   "execution_count": 54,
   "metadata": {},
   "outputs": [
    {
     "name": "stdout",
     "output_type": "stream",
     "text": [
      "Fail to reject the null hypothesis: The new layout does not have a significantly different conversion rate than the old layout.\n"
     ]
    }
   ],
   "source": [
    "if pval < 0.05:\n",
    "    print(\"Reject the null hypothesis: The new layout has a significantly different conversion rate than the old layout.\")\n",
    "else:\n",
    "    print(\"Fail to reject the null hypothesis: The new layout does not have a significantly different conversion rate than the old layout.\")"
   ]
  },
  {
   "cell_type": "markdown",
   "metadata": {},
   "source": [
    "# *12. A tutoring service claims that its program improves students' exam scores. A sample on students who participated in the program was taken, and their scores before and aNter the program were recorded.*\n",
    "\n",
    "\n",
    "Use the below code to generate samples of respective arrays of marks:\n",
    "\n",
    "```python\n",
    "\n",
    "before_program = <p.array([75, 80, 85, 70, 90, 78, 92, 88, 82, 87])\n",
    "\n",
    "after_program = <p.array([80, 85, 90, 80, 92, 80, 95, 90, 85, 88])\n",
    "\n",
    "```\n",
    "\n",
    "Use z-test to find if the claims made by tutor are true or false."
   ]
  },
  {
   "cell_type": "code",
   "execution_count": 55,
   "metadata": {},
   "outputs": [],
   "source": [
    "import numpy as np\n",
    "from scipy.stats import zscore\n"
   ]
  },
  {
   "cell_type": "code",
   "execution_count": 56,
   "metadata": {},
   "outputs": [],
   "source": [
    "before_program = np.array([75, 80, 85, 70, 90, 78, 92, 88, 82, 87])\n",
    "after_program = np.array([80, 85, 90, 80, 92, 80, 95, 90, 85, 88])"
   ]
  },
  {
   "cell_type": "code",
   "execution_count": 57,
   "metadata": {},
   "outputs": [],
   "source": [
    "differences = after_program - before_program"
   ]
  },
  {
   "cell_type": "code",
   "execution_count": 58,
   "metadata": {},
   "outputs": [],
   "source": [
    "mean_diff = np.mean(differences)\n",
    "std_diff = np.std(differences, ddof=1)  # Using ddof=1 for sample standard deviation\n",
    "n = len(differences)\n"
   ]
  },
  {
   "cell_type": "code",
   "execution_count": 59,
   "metadata": {},
   "outputs": [],
   "source": [
    "z = mean_diff / (std_diff / np.sqrt(n))\n"
   ]
  },
  {
   "cell_type": "code",
   "execution_count": 60,
   "metadata": {},
   "outputs": [],
   "source": [
    "from scipy.stats import norm\n",
    "p_value = 2 * (1 - norm.cdf(np.abs(z)))\n"
   ]
  },
  {
   "cell_type": "code",
   "execution_count": 61,
   "metadata": {},
   "outputs": [
    {
     "name": "stdout",
     "output_type": "stream",
     "text": [
      "Mean of differences: 3.8\n",
      "Standard deviation of differences: 2.616188916046478\n",
      "Sample size: 10\n",
      "z-score: 4.593190894944668\n",
      "p-value: 4.365194105293568e-06\n"
     ]
    }
   ],
   "source": [
    "print(f\"Mean of differences: {mean_diff}\")\n",
    "print(f\"Standard deviation of differences: {std_diff}\")\n",
    "print(f\"Sample size: {n}\")\n",
    "print(f\"z-score: {z}\")\n",
    "print(f\"p-value: {p_value}\")\n"
   ]
  },
  {
   "cell_type": "code",
   "execution_count": 62,
   "metadata": {},
   "outputs": [
    {
     "name": "stdout",
     "output_type": "stream",
     "text": [
      "Reject the null hypothesis: The tutoring program significantly improved students' exam scores.\n"
     ]
    }
   ],
   "source": [
    "alpha = 0.05\n",
    "if p_value < alpha:\n",
    "    print(\"Reject the null hypothesis: The tutoring program significantly improved students' exam scores.\")\n",
    "else:\n",
    "    print(\"Fail to reject the null hypothesis: The tutoring program did not significantly improve students' exam scores.\")"
   ]
  },
  {
   "cell_type": "markdown",
   "metadata": {},
   "source": [
    "# *13. A pharmaceutical company wants to determine if a new drug is effective in reducing blood pressure. They conduct a study and record blood pressure measurements before and after administering the drug.*\n",
    "\n",
    "\n",
    "Use the below code to generate samples of respective arrays of blood pressure:\n",
    "\n",
    "\n",
    "```python\n",
    "\n",
    "before_drug = np.array([145, 150, 140, 135, 155, 160, 152, 148, 130, 138])\n",
    "\n",
    "after_drug = np.array([130, 140, 132, 128, 145, 148, 138, 136, 125, 130])\n",
    "\n",
    "  ```\n",
    "\n",
    "\n",
    "Implement z-test to find if the drug really works or not."
   ]
  },
  {
   "cell_type": "code",
   "execution_count": 63,
   "metadata": {},
   "outputs": [],
   "source": [
    "before_drug = np.array([145, 150, 140, 135, 155, 160, 152, 148, 130, 138])\n",
    "after_drug = np.array([130, 140, 132, 128, 145, 148, 138, 136, 125, 130])"
   ]
  },
  {
   "cell_type": "code",
   "execution_count": 64,
   "metadata": {},
   "outputs": [],
   "source": [
    "differences = after_drug - before_drug\n"
   ]
  },
  {
   "cell_type": "code",
   "execution_count": 65,
   "metadata": {},
   "outputs": [],
   "source": [
    "mean_diff = np.mean(differences)\n",
    "std_diff = np.std(differences, ddof=1)  # Using ddof=1 for sample standard deviation\n",
    "n = len(differences)"
   ]
  },
  {
   "cell_type": "code",
   "execution_count": 66,
   "metadata": {},
   "outputs": [],
   "source": [
    "z = mean_diff / (std_diff / np.sqrt(n))"
   ]
  },
  {
   "cell_type": "code",
   "execution_count": 67,
   "metadata": {},
   "outputs": [],
   "source": [
    "p_value = 2 * (1 - norm.cdf(np.abs(z)))\n"
   ]
  },
  {
   "cell_type": "code",
   "execution_count": 68,
   "metadata": {},
   "outputs": [
    {
     "name": "stdout",
     "output_type": "stream",
     "text": [
      "Mean of differences: -10.1\n",
      "Standard deviation of differences: 3.178049716414141\n",
      "Sample size: 10\n",
      "z-score: -10.049875621120888\n",
      "p-value: 0.0\n"
     ]
    }
   ],
   "source": [
    "print(f\"Mean of differences: {mean_diff}\")\n",
    "print(f\"Standard deviation of differences: {std_diff}\")\n",
    "print(f\"Sample size: {n}\")\n",
    "print(f\"z-score: {z}\")\n",
    "print(f\"p-value: {p_value}\")"
   ]
  },
  {
   "cell_type": "code",
   "execution_count": 69,
   "metadata": {},
   "outputs": [
    {
     "name": "stdout",
     "output_type": "stream",
     "text": [
      "Reject the null hypothesis: The drug significantly reduces blood pressure.\n"
     ]
    }
   ],
   "source": [
    "alpha = 0.05\n",
    "if p_value < alpha:\n",
    "    print(\"Reject the null hypothesis: The drug significantly reduces blood pressure.\")\n",
    "else:\n",
    "    print(\"Fail to reject the null hypothesis: The drug does not significantly reduce blood pressure.\")"
   ]
  },
  {
   "cell_type": "markdown",
   "metadata": {},
   "source": [
    "# *14. A customer service depart:ent claims that their average response time is less than 5 minutes. A sample of recent customer interactions was taken, and the response times were recorded.*\n",
    "\n",
    "\n",
    "Implement the below code to generate the array of response time:\n",
    "\n",
    "```python\n",
    "\n",
    "response_times = np.array([4.3, 3.8, 5.1, 4.9, 4.7, 4.2, 5.2, 4.5, 4.6, 4.4])\n",
    "\n",
    "```\n",
    "\n",
    "Impleme3t z-test to find the claims made by customer service department are true or false."
   ]
  },
  {
   "cell_type": "code",
   "execution_count": 70,
   "metadata": {},
   "outputs": [],
   "source": [
    "response_times = np.array([4.3, 3.8, 5.1, 4.9, 4.7, 4.2, 5.2, 4.5, 4.6, 4.4])\n"
   ]
  },
  {
   "cell_type": "code",
   "execution_count": 71,
   "metadata": {},
   "outputs": [],
   "source": [
    "population_mean = 5"
   ]
  },
  {
   "cell_type": "code",
   "execution_count": 72,
   "metadata": {},
   "outputs": [],
   "source": [
    "sample_mean = np.mean(response_times)\n",
    "sample_std = np.std(response_times, ddof=1)  # Using ddof=1 for sample standard deviation\n",
    "n = len(response_times)\n"
   ]
  },
  {
   "cell_type": "code",
   "execution_count": 73,
   "metadata": {},
   "outputs": [],
   "source": [
    "z = (sample_mean - population_mean) / (sample_std / np.sqrt(n))\n"
   ]
  },
  {
   "cell_type": "code",
   "execution_count": 74,
   "metadata": {},
   "outputs": [],
   "source": [
    "p_value = norm.cdf(z)"
   ]
  },
  {
   "cell_type": "code",
   "execution_count": 75,
   "metadata": {},
   "outputs": [
    {
     "name": "stdout",
     "output_type": "stream",
     "text": [
      "Sample mean: 4.57\n",
      "Sample standard deviation: 0.4270050741306634\n",
      "Sample size: 10\n",
      "z-score: -3.184457226042963\n",
      "p-value: 0.0007251287113068958\n"
     ]
    }
   ],
   "source": [
    "print(f\"Sample mean: {sample_mean}\")\n",
    "print(f\"Sample standard deviation: {sample_std}\")\n",
    "print(f\"Sample size: {n}\")\n",
    "print(f\"z-score: {z}\")\n",
    "print(f\"p-value: {p_value}\")"
   ]
  },
  {
   "cell_type": "code",
   "execution_count": 76,
   "metadata": {},
   "outputs": [
    {
     "name": "stdout",
     "output_type": "stream",
     "text": [
      "Reject the null hypothesis: The average response time is significantly less than 5 minutes.\n"
     ]
    }
   ],
   "source": [
    "alpha = 0.05\n",
    "if p_value < alpha:\n",
    "    print(\"Reject the null hypothesis: The average response time is significantly less than 5 minutes.\")\n",
    "else:\n",
    "    print(\"Fail to reject the null hypothesis: The average response time is not significantly less than 5 minutes.\")"
   ]
  },
  {
   "cell_type": "markdown",
   "metadata": {},
   "source": [
    "# *15. A company is testing two different website layouts to see which one leads to higher click-through rates.Write a Python function to perform an A/B test analysis, including calculating the t-statistic, degrees of freedom, and p-value.*\n",
    "\n",
    "\n",
    "Use the following data:\n",
    "\n",
    "```python\n",
    "\n",
    "layout_a_clicks = [28, 32, 33, 29, 31, 34, 30, 35, 36, 37]\n",
    "\n",
    "layout_b_clicks = [40, 41, 38, 42, 39, 44, 43, 41, 45, 47]"
   ]
  },
  {
   "cell_type": "code",
   "execution_count": 79,
   "metadata": {},
   "outputs": [],
   "source": [
    "import numpy as np\n",
    "from scipy.stats import t\n",
    "\n",
    "def ab_test_analysis(layout_a_clicks, layout_b_clicks):\n",
    "    # Convert lists to numpy arrays\n",
    "    layout_a_clicks = np.array(layout_a_clicks)\n",
    "    layout_b_clicks = np.array(layout_b_clicks)\n",
    "    \n",
    "    # Calculate the sample means\n",
    "    mean_a = np.mean(layout_a_clicks)\n",
    "    mean_b = np.mean(layout_b_clicks)\n",
    "    \n",
    "    # Calculate the sample standard deviations\n",
    "    std_a = np.std(layout_a_clicks, ddof=1)  # Sample standard deviation\n",
    "    std_b = np.std(layout_b_clicks, ddof=1)  # Sample standard deviation\n",
    "    \n",
    "    # Calculate the sample sizes\n",
    "    n_a = len(layout_a_clicks)\n",
    "    n_b = len(layout_b_clicks)\n",
    "    \n",
    "    # Calculate the t-statistic\n",
    "    pooled_std = np.sqrt(((std_a**2 / n_a) + (std_b**2 / n_b)))\n",
    "    t_statistic = (mean_a - mean_b) / pooled_std\n",
    "    \n",
    "    # Calculate the degrees of freedom\n",
    "    df = min(n_a - 1, n_b - 1)  # Conservative estimate\n",
    "    \n",
    "    # Calculate the p-value\n",
    "    p_value = 2 * (1 - t.cdf(np.abs(t_statistic), df))\n",
    "    \n",
    "    # Print the results\n",
    "    print(f\"Mean of Layout A: {mean_a:.2f}\")\n",
    "    print(f\"Mean of Layout B: {mean_b:.2f}\")\n",
    "    print(f\"Standard Deviation of Layout A: {std_a:.2f}\")\n",
    "    print(f\"Standard Deviation of Layout B: {std_b:.2f}\")\n",
    "    print(f\"Sample Size of Layout A: {n_a}\")\n",
    "    print(f\"Sample Size of Layout B: {n_b}\")\n",
    "    print(f\"t-statistic: {t_statistic:.2f}\")\n",
    "    print(f\"Degrees of Freedom: {df}\")\n",
    "    print(f\"p-value: {p_value:.4f}\")\n",
    "    \n",
    "    # Conclusion\n",
    "    alpha = 0.05\n",
    "    if p_value < alpha:\n",
    "        print(\"Reject the null hypothesis: There is a significant difference in click-through rates between the two layouts.\")\n",
    "    else:\n",
    "        print(\"Fail to reject the null hypothesis: There is no significant difference in click-through rates between the two layouts.\")\n",
    "\n"
   ]
  },
  {
   "cell_type": "code",
   "execution_count": 80,
   "metadata": {},
   "outputs": [
    {
     "name": "stdout",
     "output_type": "stream",
     "text": [
      "Mean of Layout A: 32.50\n",
      "Mean of Layout B: 42.00\n",
      "Standard Deviation of Layout A: 3.03\n",
      "Standard Deviation of Layout B: 2.79\n",
      "Sample Size of Layout A: 10\n",
      "Sample Size of Layout B: 10\n",
      "t-statistic: -7.30\n",
      "Degrees of Freedom: 9\n",
      "p-value: 0.0000\n",
      "Reject the null hypothesis: There is a significant difference in click-through rates between the two layouts.\n"
     ]
    }
   ],
   "source": [
    "layout_a_clicks = [28, 32, 33, 29, 31, 34, 30, 35, 36, 37]\n",
    "layout_b_clicks = [40, 41, 38, 42, 39, 44, 43, 41, 45, 47]\n",
    "\n",
    "ab_test_analysis(layout_a_clicks, layout_b_clicks)\n"
   ]
  },
  {
   "cell_type": "markdown",
   "metadata": {},
   "source": [
    "# *16. A pharmaceutical co:pany wants to deter:ine if a new drug is more effective than an existing drug in reducing cholesterol levels. Create a program to analyze the clinical trial data and calculate the tstatistic and p-value for the treat:ent effect.*\n",
    "\n",
    "\n",
    "Use the following data of cholestrol level:\n",
    "\n",
    "```python\n",
    "\n",
    "existing_drug_levels = [180, 182, 175, 185, 178, 176, 172, 184, 179, 183]\n",
    "new_drug_levels = [170, 172, 165, 168, 175, 173, 170, 178, 172, 176]"
   ]
  },
  {
   "cell_type": "code",
   "execution_count": 81,
   "metadata": {},
   "outputs": [],
   "source": [
    "\n",
    "\n",
    "def t_test_comparison(existing_drug_levels, new_drug_levels):\n",
    "    # Convert lists to numpy arrays\n",
    "    existing_drug_levels = np.array(existing_drug_levels)\n",
    "    new_drug_levels = np.array(new_drug_levels)\n",
    "    \n",
    "    # Calculate the sample means\n",
    "    mean_existing = np.mean(existing_drug_levels)\n",
    "    mean_new = np.mean(new_drug_levels)\n",
    "    \n",
    "    # Calculate the sample standard deviations\n",
    "    std_existing = np.std(existing_drug_levels, ddof=1)  # Sample standard deviation\n",
    "    std_new = np.std(new_drug_levels, ddof=1)  # Sample standard deviation\n",
    "    \n",
    "    # Calculate the sample sizes\n",
    "    n_existing = len(existing_drug_levels)\n",
    "    n_new = len(new_drug_levels)\n",
    "    \n",
    "    # Calculate the t-statistic\n",
    "    pooled_std = np.sqrt(((std_existing**2 / n_existing) + (std_new**2 / n_new)))\n",
    "    t_statistic = (mean_existing - mean_new) / pooled_std\n",
    "    \n",
    "    # Calculate the degrees of freedom\n",
    "    df = ( (std_existing**2 / n_existing + std_new**2 / n_new)**2 /\n",
    "           (( (std_existing**2 / n_existing)**2 / (n_existing - 1) ) +\n",
    "             ( (std_new**2 / n_new)**2 / (n_new - 1) )) )\n",
    "    \n",
    "    # Calculate the p-value for a two-tailed test\n",
    "    p_value = 2 * (1 - t.cdf(np.abs(t_statistic), df))\n",
    "    \n",
    "    # Print the results\n",
    "    print(f\"Mean of Existing Drug: {mean_existing:.2f}\")\n",
    "    print(f\"Mean of New Drug: {mean_new:.2f}\")\n",
    "    print(f\"Standard Deviation of Existing Drug: {std_existing:.2f}\")\n",
    "    print(f\"Standard Deviation of New Drug: {std_new:.2f}\")\n",
    "    print(f\"Sample Size of Existing Drug: {n_existing}\")\n",
    "    print(f\"Sample Size of New Drug: {n_new}\")\n",
    "    print(f\"t-statistic: {t_statistic:.2f}\")\n",
    "    print(f\"Degrees of Freedom: {df:.2f}\")\n",
    "    print(f\"p-value: {p_value:.4f}\")\n",
    "    \n",
    "    # Conclusion\n",
    "    alpha = 0.05\n",
    "    if p_value < alpha:\n",
    "        print(\"Reject the null hypothesis: The new drug has a significantly different effect on cholesterol levels compared to the existing drug.\")\n",
    "    else:\n",
    "        print(\"Fail to reject the null hypothesis: There is no significant difference between the new drug and the existing drug in terms of cholesterol levels.\")\n",
    "\n",
    "\n",
    "\n"
   ]
  },
  {
   "cell_type": "code",
   "execution_count": 82,
   "metadata": {},
   "outputs": [
    {
     "name": "stdout",
     "output_type": "stream",
     "text": [
      "Mean of Existing Drug: 179.40\n",
      "Mean of New Drug: 171.90\n",
      "Standard Deviation of Existing Drug: 4.22\n",
      "Standard Deviation of New Drug: 3.87\n",
      "Sample Size of Existing Drug: 10\n",
      "Sample Size of New Drug: 10\n",
      "t-statistic: 4.14\n",
      "Degrees of Freedom: 17.87\n",
      "p-value: 0.0006\n",
      "Reject the null hypothesis: The new drug has a significantly different effect on cholesterol levels compared to the existing drug.\n"
     ]
    }
   ],
   "source": [
    "existing_drug_levels = [180, 182, 175, 185, 178, 176, 172, 184, 179, 183]\n",
    "new_drug_levels = [170, 172, 165, 168, 175, 173, 170, 178, 172, 176]\n",
    "\n",
    "t_test_comparison(existing_drug_levels, new_drug_levels)"
   ]
  },
  {
   "cell_type": "markdown",
   "metadata": {},
   "source": [
    "# *17. A school district introduces an educational intervention progra: to improve math scores. Write a Python function to analyze pre- and post-intervention test scores, calculating the t-statistic and p-value to determine if the intervention had a significant impact.*\n",
    "\n",
    "Use the following data of test score:\n",
    "\n",
    "\n",
    "  ```python\n",
    "\n",
    "  pre_intervention_scores = [80, 85, 90, 75, 88, 82, 92, 78, 85, 87]\n",
    "\n",
    "  post_intervention_scores = [90, 92, 88, 92, 95, 91, 96, 93, 89, 93]"
   ]
  },
  {
   "cell_type": "code",
   "execution_count": 151,
   "metadata": {},
   "outputs": [],
   "source": [
    "import numpy as np\n",
    "from scipy.stats import t\n",
    "\n",
    "def paired_t_test(pre_intervention_scores, post_intervention_scores):\n",
    "    # Convert lists to numpy arrays\n",
    "    pre_scores = np.array(pre_intervention_scores)\n",
    "    post_scores = np.array(post_intervention_scores)\n",
    "    \n",
    "    # Calculate the differences between paired scores\n",
    "    differences = post_scores - pre_scores\n",
    "    \n",
    "    # Calculate the mean and standard deviation of the differences\n",
    "    mean_diff = np.mean(differences)\n",
    "    std_diff = np.std(differences, ddof=1)  # Sample standard deviation\n",
    "    \n",
    "    # Calculate the sample size\n",
    "    n = len(differences)\n",
    "    \n",
    "    # Calculate the t-statistic\n",
    "    t_statistic = mean_diff / (std_diff / np.sqrt(n))\n",
    "    \n",
    "    # Calculate the degrees of freedom\n",
    "    df = n - 1\n",
    "    \n",
    "    # Calculate the p-value for a two-tailed test\n",
    "    p_value = 2 * (1 - t.cdf(np.abs(t_statistic), df))\n",
    "    \n",
    "    # Print the results\n",
    "    print(f\"Mean of Differences: {mean_diff:.2f}\")\n",
    "    print(f\"Standard Deviation of Differences: {std_diff:.2f}\")\n",
    "    print(f\"Sample Size: {n}\")\n",
    "    print(f\"t-statistic: {t_statistic:.2f}\")\n",
    "    print(f\"Degrees of Freedom: {df}\")\n",
    "    print(f\"p-value: {p_value:.4f}\")\n",
    "    \n",
    "    # Conclusion\n",
    "    alpha = 0.05\n",
    "    if p_value < alpha:\n",
    "        print(\"Reject the null hypothesis: The intervention had a significant impact on math scores.\")\n",
    "    else:\n",
    "        print(\"Fail to reject the null hypothesis: There is no significant impact of the intervention on math scores.\")\n"
   ]
  },
  {
   "cell_type": "code",
   "execution_count": 152,
   "metadata": {},
   "outputs": [
    {
     "name": "stdout",
     "output_type": "stream",
     "text": [
      "Mean of Differences: 7.70\n",
      "Standard Deviation of Differences: 5.50\n",
      "Sample Size: 10\n",
      "t-statistic: 4.43\n",
      "Degrees of Freedom: 9\n",
      "p-value: 0.0017\n",
      "Reject the null hypothesis: The intervention had a significant impact on math scores.\n"
     ]
    }
   ],
   "source": [
    "\n",
    "\n",
    "pre_intervention_scores = [80, 85, 90, 75, 88, 82, 92, 78, 85, 87]\n",
    "post_intervention_scores = [90, 92, 88, 92, 95, 91, 96, 93, 89, 93]\n",
    "\n",
    "paired_t_test(pre_intervention_scores, post_intervention_scores)\n"
   ]
  },
  {
   "cell_type": "markdown",
   "metadata": {},
   "source": [
    "# *18. An HR department wants to investigate if there's a gender-based salary gap within the company. Develop a program to analyze salary data, calculate the t-statistic, and determine if there's a statistically significant difference between the average salaries of male and female employees.*\n",
    "\n",
    "\n",
    "Use the below code to generate synthetic data.\n",
    "```python\n",
    "\n",
    "# Generate synthetic salary data for male and female employees\n",
    "\n",
    "np.random.seed(0)  # For reproducibility\n",
    "\n",
    "male_salaries = np.random.normal(loc=50000, scale=10000, size=20)\n",
    "\n",
    "female_salaries = np.random.normal(loc=55000, scale=9000, size=20)"
   ]
  },
  {
   "cell_type": "code",
   "execution_count": 89,
   "metadata": {},
   "outputs": [],
   "source": [
    "version1_scores = [85, 88, 82, 89, 87, 84, 90, 88, 85, 86, 91, 83, 87, 84, 89, 86, 84, 88, 85, 86, 89, 90, 87, 88, 85]\n",
    "version2_scores = [80, 78, 83, 81, 79, 82, 76, 80, 78, 81, 77, 82, 80, 79, 82, 79, 80, 81, 79, 82, 79, 78, 80, 81, 82]\n"
   ]
  },
  {
   "cell_type": "code",
   "execution_count": 90,
   "metadata": {},
   "outputs": [],
   "source": [
    "version1_scores = np.array(version1_scores)\n",
    "version2_scores = np.array(version2_scores)\n"
   ]
  },
  {
   "cell_type": "code",
   "execution_count": 91,
   "metadata": {},
   "outputs": [],
   "source": [
    "mean_version1 = np.mean(version1_scores)\n",
    "mean_version2 = np.mean(version2_scores)"
   ]
  },
  {
   "cell_type": "code",
   "execution_count": 92,
   "metadata": {},
   "outputs": [],
   "source": [
    "std_version1 = np.std(version1_scores, ddof=1) \n",
    "std_version2 = np.std(version2_scores, ddof=1)  \n"
   ]
  },
  {
   "cell_type": "code",
   "execution_count": 93,
   "metadata": {},
   "outputs": [],
   "source": [
    "n_version1 = len(version1_scores)\n",
    "n_version2 = len(version2_scores)\n"
   ]
  },
  {
   "cell_type": "code",
   "execution_count": 94,
   "metadata": {},
   "outputs": [],
   "source": [
    "pooled_std = np.sqrt(((std_version1**2 / n_version1) + (std_version2**2 / n_version2)))\n",
    "t_statistic = (mean_version1 - mean_version2) / pooled_std\n"
   ]
  },
  {
   "cell_type": "code",
   "execution_count": 95,
   "metadata": {},
   "outputs": [],
   "source": [
    "df = ( (std_version1**2 / n_version1 + std_version2**2 / n_version2)**2 /\n",
    "       (( (std_version1**2 / n_version1)**2 / (n_version1 - 1) ) +\n",
    "         ( (std_version2**2 / n_version2)**2 / (n_version2 - 1) )) )\n"
   ]
  },
  {
   "cell_type": "code",
   "execution_count": 96,
   "metadata": {},
   "outputs": [],
   "source": [
    "p_value = 2 * (1 - t.cdf(np.abs(t_statistic), df))\n"
   ]
  },
  {
   "cell_type": "code",
   "execution_count": 97,
   "metadata": {},
   "outputs": [
    {
     "name": "stdout",
     "output_type": "stream",
     "text": [
      "Mean Quality Score of Version 1: 86.64\n",
      "Mean Quality Score of Version 2: 79.96\n",
      "Standard Deviation of Version 1 Scores: 2.36\n",
      "Standard Deviation of Version 2 Scores: 1.77\n",
      "Sample Size of Version 1: 25\n",
      "Sample Size of Version 2: 25\n",
      "t-statistic: 11.33\n",
      "Degrees of Freedom: 44.47\n",
      "p-value: 0.0000\n"
     ]
    }
   ],
   "source": [
    "print(f\"Mean Quality Score of Version 1: {mean_version1:.2f}\")\n",
    "print(f\"Mean Quality Score of Version 2: {mean_version2:.2f}\")\n",
    "print(f\"Standard Deviation of Version 1 Scores: {std_version1:.2f}\")\n",
    "print(f\"Standard Deviation of Version 2 Scores: {std_version2:.2f}\")\n",
    "print(f\"Sample Size of Version 1: {n_version1}\")\n",
    "print(f\"Sample Size of Version 2: {n_version2}\")\n",
    "print(f\"t-statistic: {t_statistic:.2f}\")\n",
    "print(f\"Degrees of Freedom: {df:.2f}\")\n",
    "print(f\"p-value: {p_value:.4f}\")\n"
   ]
  },
  {
   "cell_type": "code",
   "execution_count": 98,
   "metadata": {},
   "outputs": [
    {
     "name": "stdout",
     "output_type": "stream",
     "text": [
      "Reject the null hypothesis: There is a statistically significant difference in quality scores between the two versions.\n"
     ]
    }
   ],
   "source": [
    "alpha = 0.05\n",
    "if p_value < alpha:\n",
    "    print(\"Reject the null hypothesis: There is a statistically significant difference in quality scores between the two versions.\")\n",
    "else:\n",
    "    print(\"Fail to reject the null hypothesis: There is no statistically significant difference in quality scores between the two versions.\")"
   ]
  },
  {
   "cell_type": "markdown",
   "metadata": {},
   "source": [
    "# *19. A manufacturer produces two different versions of a product and wants to compare their quality scores. Create a Python function to analyze quality assessment data, calculate the t-statistic, and decide whether there's a significant difference in quality between the two versions.*\n",
    "\n",
    "\n",
    "Use the following dataY\n",
    "```python\n",
    "\n",
    "version1_scores = [85, 88, 82, 89, 87, 84, 90, 88, 85, 86, 91, 83, 87, 84, 89, 86, 84, 88, 85, 86, 89, 90, 87, 88, 85]\n",
    "\n",
    "version2_scores = [80, 78, 83, 81, 79, 82, 76, 80, 78, 81, 77, 82, 80, 79, 82, 79, 80, 81, 79, 82, 79, 78, 80, 81, 82]"
   ]
  },
  {
   "cell_type": "code",
   "execution_count": 148,
   "metadata": {},
   "outputs": [],
   "source": [
    "import numpy as np\n",
    "from scipy import stats\n",
    "\n",
    "def analyze_quality_scores(version1_scores, version2_scores):\n",
    "    # Calculate means and standard deviations\n",
    "    mean1 = np.mean(version1_scores)\n",
    "    std1 = np.std(version1_scores, ddof=1)\n",
    "    mean2 = np.mean(version2_scores)\n",
    "    std2 = np.std(version2_scores, ddof=1)\n",
    "    \n",
    "    # Calculate sample sizes\n",
    "    n1 = len(version1_scores)\n",
    "    n2 = len(version2_scores)\n",
    "    \n",
    "    # Perform the t-test\n",
    "    t_stat, p_value = stats.ttest_ind(version1_scores, version2_scores, equal_var=False)\n",
    "    \n",
    "    # Print results\n",
    "    print(\"Version 1:\")\n",
    "    print(\"Mean:\", mean1)\n",
    "    print(\"Standard Deviation:\", std1)\n",
    "    print(\"Sample Size:\", n1)\n",
    "    \n",
    "    print(\"\\nVersion 2:\")\n",
    "    print(\"Mean:\", mean2)\n",
    "    print(\"Standard Deviation:\", std2)\n",
    "    print(\"Sample Size:\", n2)\n",
    "    \n",
    "    print(\"\\nT-Test Results:\")\n",
    "    print(\"T-Statistic:\", t_stat)\n",
    "    print(\"P-Value:\", p_value)\n",
    "    \n",
    "    # Determine significance\n",
    "    alpha = 0.05\n",
    "    if p_value < alpha:\n",
    "        print(\"\\nReject the null hypothesis: There is a significant difference in quality scores between the two versions.\")\n",
    "    else:\n",
    "        print(\"\\nFail to reject the null hypothesis: There is no significant difference in quality scores between the two versions.\")\n",
    "\n",
    "\n"
   ]
  },
  {
   "cell_type": "code",
   "execution_count": 149,
   "metadata": {},
   "outputs": [],
   "source": [
    "# Sample data\n",
    "version1_scores = [85, 88, 82, 89, 87, 84, 90, 88, 85, 86, 91, 83, 87, 84, 89, 86, 84, 88, 85, 86, 89, 90, 87, 88, 85]\n",
    "version2_scores = [80, 78, 83, 81, 79, 82, 76, 80, 78, 81, 77, 82, 80, 79, 82, 79, 80, 81, 79, 82, 79, 78, 80, 81, 82]\n"
   ]
  },
  {
   "cell_type": "code",
   "execution_count": 150,
   "metadata": {},
   "outputs": [
    {
     "name": "stdout",
     "output_type": "stream",
     "text": [
      "Version 1:\n",
      "Mean: 86.64\n",
      "Standard Deviation: 2.3607908279501033\n",
      "Sample Size: 25\n",
      "\n",
      "Version 2:\n",
      "Mean: 79.96\n",
      "Standard Deviation: 1.767295485574875\n",
      "Sample Size: 25\n",
      "\n",
      "T-Test Results:\n",
      "T-Statistic: 11.325830417646698\n",
      "P-Value: 1.078754084378157e-14\n",
      "\n",
      "Reject the null hypothesis: There is a significant difference in quality scores between the two versions.\n"
     ]
    }
   ],
   "source": [
    "\n",
    "# Call the function with the sample data\n",
    "analyze_quality_scores(version1_scores, version2_scores)"
   ]
  },
  {
   "cell_type": "markdown",
   "metadata": {},
   "source": [
    "# *20. A restaurant chain collects customer satisfaction scores @or two different branches. Write a program to analyze the scores, calculate the t-statistic, and determine if there's a statistically significant difference in customer satisfaction between the branches.*\n",
    "\n",
    "\n",
    "Use the below data of scores:\n",
    "\n",
    "  ```python\n",
    "\n",
    "branch_a_scores = [4, 5, 3, 4, 5, 4, 5, 3, 4, 4, 5, 4, 4, 3, 4, 5, 5, 4, 3, 4, 5, 4, 3, 5, 4, 4, 5, 3, 4, 5, 4]\n",
    "\n",
    "branch_b_scores = [3, 4, 2, 3, 4, 3, 4, 2, 3, 3, 4, 3, 3, 2, 3, 4, 4, 3, 2, 3, 4, 3, 2, 4, 3, 3, 4, 2, 3, 4, 3]"
   ]
  },
  {
   "cell_type": "code",
   "execution_count": 99,
   "metadata": {},
   "outputs": [],
   "source": [
    "branch_a_scores = [4, 5, 3, 4, 5, 4, 5, 3, 4, 4, 5, 4, 4, 3, 4, 5, 5, 4, 3, 4, 5, 4, 3, 5, 4, 4, 5, 3, 4, 5, 4]\n",
    "branch_b_scores = [3, 4, 2, 3, 4, 3, 4, 2, 3, 3, 4, 3, 3, 2, 3, 4, 4, 3, 2, 3, 4, 3, 2, 4, 3, 3, 4, 2, 3, 4, 3]\n"
   ]
  },
  {
   "cell_type": "code",
   "execution_count": 100,
   "metadata": {},
   "outputs": [],
   "source": [
    "branch_a_scores = np.array(branch_a_scores)\n",
    "branch_b_scores = np.array(branch_b_scores)"
   ]
  },
  {
   "cell_type": "code",
   "execution_count": 101,
   "metadata": {},
   "outputs": [],
   "source": [
    "mean_branch_a = np.mean(branch_a_scores)\n",
    "mean_branch_b = np.mean(branch_b_scores)\n"
   ]
  },
  {
   "cell_type": "code",
   "execution_count": 103,
   "metadata": {},
   "outputs": [],
   "source": [
    "std_branch_a = np.std(branch_a_scores, ddof=1)  \n",
    "std_branch_b = np.std(branch_b_scores, ddof=1)  \n"
   ]
  },
  {
   "cell_type": "code",
   "execution_count": 104,
   "metadata": {},
   "outputs": [],
   "source": [
    "n_branch_a = len(branch_a_scores)\n",
    "n_branch_b = len(branch_b_scores)\n"
   ]
  },
  {
   "cell_type": "code",
   "execution_count": 105,
   "metadata": {},
   "outputs": [],
   "source": [
    "pooled_std = np.sqrt(((std_branch_a**2 / n_branch_a) + (std_branch_b**2 / n_branch_b)))\n",
    "t_statistic = (mean_branch_a - mean_branch_b) / pooled_std"
   ]
  },
  {
   "cell_type": "code",
   "execution_count": 106,
   "metadata": {},
   "outputs": [],
   "source": [
    "df = ( (std_branch_a**2 / n_branch_a + std_branch_b**2 / n_branch_b)**2 /\n",
    "       (( (std_branch_a**2 / n_branch_a)**2 / (n_branch_a - 1) ) +\n",
    "         ( (std_branch_b**2 / n_branch_b)**2 / (n_branch_b - 1) )) )\n"
   ]
  },
  {
   "cell_type": "code",
   "execution_count": 107,
   "metadata": {},
   "outputs": [],
   "source": [
    "p_value = 2 * (1 - t.cdf(np.abs(t_statistic), df))\n"
   ]
  },
  {
   "cell_type": "code",
   "execution_count": 108,
   "metadata": {},
   "outputs": [
    {
     "name": "stdout",
     "output_type": "stream",
     "text": [
      "Mean Satisfaction Score of Branch A: 4.13\n",
      "Mean Satisfaction Score of Branch B: 3.13\n",
      "Standard Deviation of Branch A Scores: 0.72\n",
      "Standard Deviation of Branch B Scores: 0.72\n",
      "Sample Size of Branch A: 31\n",
      "Sample Size of Branch B: 31\n",
      "t-statistic: 5.48\n",
      "Degrees of Freedom: 60.00\n",
      "p-value: 0.0000\n"
     ]
    }
   ],
   "source": [
    "print(f\"Mean Satisfaction Score of Branch A: {mean_branch_a:.2f}\")\n",
    "print(f\"Mean Satisfaction Score of Branch B: {mean_branch_b:.2f}\")\n",
    "print(f\"Standard Deviation of Branch A Scores: {std_branch_a:.2f}\")\n",
    "print(f\"Standard Deviation of Branch B Scores: {std_branch_b:.2f}\")\n",
    "print(f\"Sample Size of Branch A: {n_branch_a}\")\n",
    "print(f\"Sample Size of Branch B: {n_branch_b}\")\n",
    "print(f\"t-statistic: {t_statistic:.2f}\")\n",
    "print(f\"Degrees of Freedom: {df:.2f}\")\n",
    "print(f\"p-value: {p_value:.4f}\")"
   ]
  },
  {
   "cell_type": "code",
   "execution_count": 109,
   "metadata": {},
   "outputs": [
    {
     "name": "stdout",
     "output_type": "stream",
     "text": [
      "Reject the null hypothesis: There is a statistically significant difference in customer satisfaction between the two branches.\n"
     ]
    }
   ],
   "source": [
    "alpha = 0.05\n",
    "if p_value < alpha:\n",
    "    print(\"Reject the null hypothesis: There is a statistically significant difference in customer satisfaction between the two branches.\")\n",
    "else:\n",
    "    print(\"Fail to reject the null hypothesis: There is no statistically significant difference in customer satisfaction between the two branches.\")"
   ]
  },
  {
   "cell_type": "markdown",
   "metadata": {},
   "source": [
    "# *21. A political analyst wants to determine if there is a significant association between age groups and voter preferences Candidate A or Candidate B. They collect data from a sample of 500 voters and classify them into diferent age groups and candidate preferences. Perform a Chi-Square test to determine if there is a significant association between age groups and voter preferences.*\n",
    "\n",
    "\n",
    "Use the below code to generate data:\n",
    "\n",
    "```python\n",
    "\n",
    "np.random.seed(0)\n",
    "\n",
    "age_groups = np.random.choice([ '18-30' , '31-50' , '51+', '51+'], size=30)\n",
    "\n",
    "voter_preferences = np.random.choice(['Candidate A', 'Candidate B'], size=30)"
   ]
  },
  {
   "cell_type": "code",
   "execution_count": 110,
   "metadata": {},
   "outputs": [],
   "source": [
    "np.random.seed(0)\n",
    "age_groups = np.random.choice(['18-30', '31-50', '51+', '51+'], size=500)\n",
    "voter_preferences = np.random.choice(['Candidate A', 'Candidate B'], size=500)\n"
   ]
  },
  {
   "cell_type": "code",
   "execution_count": 111,
   "metadata": {},
   "outputs": [],
   "source": [
    "data = pd.DataFrame({'Age Group': age_groups, 'Voter Preference': voter_preferences})\n"
   ]
  },
  {
   "cell_type": "code",
   "execution_count": 112,
   "metadata": {},
   "outputs": [],
   "source": [
    "contingency_table = pd.crosstab(data['Age Group'], data['Voter Preference'])\n",
    "\n"
   ]
  },
  {
   "cell_type": "code",
   "execution_count": 115,
   "metadata": {},
   "outputs": [],
   "source": [
    "chi2_stat, p_value, dof, expected = chi2_contingency(contingency_table)\n"
   ]
  },
  {
   "cell_type": "code",
   "execution_count": 116,
   "metadata": {},
   "outputs": [
    {
     "name": "stdout",
     "output_type": "stream",
     "text": [
      "Contingency Table:\n",
      "Voter Preference  Candidate A  Candidate B\n",
      "Age Group                                 \n",
      "18-30                      68           59\n",
      "31-50                      59           63\n",
      "51+                       131          120\n",
      "\n",
      "Chi-Square Statistic: 0.7397720563072268\n",
      "Degrees of Freedom: 2\n",
      "P-Value: 0.6908130593907253\n"
     ]
    }
   ],
   "source": [
    "print(\"Contingency Table:\")\n",
    "print(contingency_table)\n",
    "print(\"\\nChi-Square Statistic:\", chi2_stat)\n",
    "print(\"Degrees of Freedom:\", dof)\n",
    "print(\"P-Value:\", p_value)\n"
   ]
  },
  {
   "cell_type": "code",
   "execution_count": 117,
   "metadata": {},
   "outputs": [
    {
     "name": "stdout",
     "output_type": "stream",
     "text": [
      "\n",
      "Fail to reject the null hypothesis: There is no significant association between age groups and voter preferences.\n"
     ]
    }
   ],
   "source": [
    "alpha = 0.05\n",
    "if p_value < alpha:\n",
    "    print(\"\\nReject the null hypothesis: There is a significant association between age groups and voter preferences.\")\n",
    "else:\n",
    "    print(\"\\nFail to reject the null hypothesis: There is no significant association between age groups and voter preferences.\")"
   ]
  },
  {
   "cell_type": "markdown",
   "metadata": {},
   "source": [
    " # *22. A company conducted a customer satisfaction survey to determine if there is a significant relationship between product satisfaction levels (Satisfied, Neutral, Dissatisfied) and the region where customers are located (East, West, North, South). The survey data is summarized in a contingency table. Conduct a ChiSquare test to determine if there is a significant relationship between product satisfaction levels and customer regions.*\n",
    "\n",
    "\n",
    "Sample data:\n",
    "\n",
    "```python\n",
    "\n",
    "#Sample data: Product satisfaction levels (rows) vs. Customer regions (columns)\n",
    "\n",
    "data = np.array([[50, 30, 40, 20], [30, 40, 30, 50], [20, 30, 40, 30]])"
   ]
  },
  {
   "cell_type": "code",
   "execution_count": 118,
   "metadata": {},
   "outputs": [],
   "source": [
    "data = np.array([[50, 30, 40, 20],  # Satisfied\n",
    "                 [30, 40, 30, 50],  # Neutral\n",
    "                 [20, 30, 40, 30]]) # Dissatisfied\n"
   ]
  },
  {
   "cell_type": "code",
   "execution_count": 133,
   "metadata": {},
   "outputs": [],
   "source": [
    "chi2_stat, p_value, dof, expected = chi2_contingency(data)"
   ]
  },
  {
   "cell_type": "code",
   "execution_count": 134,
   "metadata": {},
   "outputs": [
    {
     "name": "stdout",
     "output_type": "stream",
     "text": [
      "Contingency Table:\n",
      "[[50 30 40 20]\n",
      " [30 40 30 50]\n",
      " [20 30 40 30]]\n",
      "\n",
      "Chi-Square Statistic: 27.777056277056275\n",
      "Degrees of Freedom: 6\n",
      "P-Value: 0.00010349448486004387\n",
      "\n",
      "Expected Frequencies Table:\n",
      "[[34.14634146 34.14634146 37.56097561 34.14634146]\n",
      " [36.58536585 36.58536585 40.24390244 36.58536585]\n",
      " [29.26829268 29.26829268 32.19512195 29.26829268]]\n"
     ]
    }
   ],
   "source": [
    "print(\"Contingency Table:\")\n",
    "print(data)\n",
    "print(\"\\nChi-Square Statistic:\", chi2_stat)\n",
    "print(\"Degrees of Freedom:\", dof)\n",
    "print(\"P-Value:\", p_value)\n",
    "print(\"\\nExpected Frequencies Table:\")\n",
    "print(expected)"
   ]
  },
  {
   "cell_type": "code",
   "execution_count": 135,
   "metadata": {},
   "outputs": [
    {
     "name": "stdout",
     "output_type": "stream",
     "text": [
      "\n",
      "Reject the null hypothesis: There is a significant relationship between product satisfaction levels and customer regions.\n"
     ]
    }
   ],
   "source": [
    "alpha = 0.05\n",
    "if p_value < alpha:\n",
    "    print(\"\\nReject the null hypothesis: There is a significant relationship between product satisfaction levels and customer regions.\")\n",
    "else:\n",
    "    print(\"\\nFail to reject the null hypothesis: There is no significant relationship between product satisfaction levels and customer regions.\")\n"
   ]
  },
  {
   "cell_type": "markdown",
   "metadata": {},
   "source": [
    "# *23. A company implemented an employee training program to improve job performance (Effective, Neutral, Ineffective). After the training, they collected data from a sample of employees and classified them based on their job performance before and after the training. Perform a Chi-Square test to determine if there is a significant difference between job performance levels before and after the training.*\n",
    "\n",
    "\n",
    "Sample data:\n",
    "\n",
    "```python\n",
    "\n",
    "# Sample data: Job performance levels before (rows) and after (columns) training\n",
    "\n",
    "data = np.array([[50, 30, 20], [30, 40, 30], [20, 30, 40]])"
   ]
  },
  {
   "cell_type": "code",
   "execution_count": 136,
   "metadata": {},
   "outputs": [],
   "source": [
    "data = np.array([[50, 30, 20],  # Before Training: Effective, Neutral, Ineffective\n",
    "                 [30, 40, 30],  # After Training: Effective, Neutral, Ineffective\n",
    "                 [20, 30, 40]]) # Performance levels"
   ]
  },
  {
   "cell_type": "code",
   "execution_count": 137,
   "metadata": {},
   "outputs": [],
   "source": [
    "chi2_stat, p_value, dof, expected = chi2_contingency(data)\n"
   ]
  },
  {
   "cell_type": "code",
   "execution_count": 138,
   "metadata": {},
   "outputs": [
    {
     "name": "stdout",
     "output_type": "stream",
     "text": [
      "Contingency Table:\n",
      "[[50 30 20]\n",
      " [30 40 30]\n",
      " [20 30 40]]\n",
      "\n",
      "Chi-Square Statistic: 22.161728395061726\n",
      "Degrees of Freedom: 4\n",
      "P-Value: 0.00018609719479882557\n",
      "\n",
      "Expected Frequencies Table:\n",
      "[[34.48275862 34.48275862 31.03448276]\n",
      " [34.48275862 34.48275862 31.03448276]\n",
      " [31.03448276 31.03448276 27.93103448]]\n"
     ]
    }
   ],
   "source": [
    "print(\"Contingency Table:\")\n",
    "print(data)\n",
    "print(\"\\nChi-Square Statistic:\", chi2_stat)\n",
    "print(\"Degrees of Freedom:\", dof)\n",
    "print(\"P-Value:\", p_value)\n",
    "print(\"\\nExpected Frequencies Table:\")\n",
    "print(expected)"
   ]
  },
  {
   "cell_type": "code",
   "execution_count": 139,
   "metadata": {},
   "outputs": [
    {
     "name": "stdout",
     "output_type": "stream",
     "text": [
      "\n",
      "Reject the null hypothesis: There is a significant difference in job performance levels before and after the training.\n"
     ]
    }
   ],
   "source": [
    "alpha = 0.05\n",
    "if p_value < alpha:\n",
    "    print(\"\\nReject the null hypothesis: There is a significant difference in job performance levels before and after the training.\")\n",
    "else:\n",
    "    print(\"\\nFail to reject the null hypothesis: There is no significant difference in job performance levels before and after the training.\")"
   ]
  },
  {
   "cell_type": "markdown",
   "metadata": {},
   "source": [
    "# *24. A company produces three different versions of a product: Standard, Premium, and Deluxe. The company wants to determine if there is a significant difference in customer satisfaction scores among the three product versions. They conducted a survey and collected customer satisfaction scores for each version from a random sample of customers. Perform an ANOVA test to determine if there is a significant difference in customer satisfaction scores.*\n",
    "\n",
    "\n",
    "  Use the following data:\n",
    "\n",
    "  ```python\n",
    "\n",
    "  # Sample data: Customer satisfaction scores for each product version\n",
    "\n",
    "  standard_scores = [80, 85, 90, 78, 88, 82, 92, 78, 85, 87]\n",
    "\n",
    "  premium_scores = [90, 92, 88, 92, 95, 91, 96, 93, 89, 93]\n",
    "\n",
    "  deluxe_scores = [95, 98, 92, 97, 96, 94, 98, 97, 92, 99]"
   ]
  },
  {
   "cell_type": "code",
   "execution_count": 140,
   "metadata": {},
   "outputs": [],
   "source": [
    "standard_scores = [80, 85, 90, 78, 88, 82, 92, 78, 85, 87]\n",
    "premium_scores = [90, 92, 88, 92, 95, 91, 96, 93, 89, 93]\n",
    "deluxe_scores = [95, 98, 92, 97, 96, 94, 98, 97, 92, 99]\n"
   ]
  },
  {
   "cell_type": "code",
   "execution_count": 145,
   "metadata": {},
   "outputs": [],
   "source": [
    "f_stat, p_value = f_oneway(standard_scores, premium_scores, deluxe_scores)\n"
   ]
  },
  {
   "cell_type": "code",
   "execution_count": 146,
   "metadata": {},
   "outputs": [
    {
     "name": "stdout",
     "output_type": "stream",
     "text": [
      "ANOVA Test Results:\n",
      "F-Statistic: 27.03556231003039\n",
      "P-Value: 3.5786328857349003e-07\n"
     ]
    }
   ],
   "source": [
    "print(\"ANOVA Test Results:\")\n",
    "print(\"F-Statistic:\", f_stat)\n",
    "print(\"P-Value:\", p_value)\n"
   ]
  },
  {
   "cell_type": "code",
   "execution_count": 147,
   "metadata": {},
   "outputs": [
    {
     "name": "stdout",
     "output_type": "stream",
     "text": [
      "\n",
      "Reject the null hypothesis: There is a significant difference in customer satisfaction scores among the three product versions.\n"
     ]
    }
   ],
   "source": [
    "alpha = 0.05\n",
    "if p_value < alpha:\n",
    "    print(\"\\nReject the null hypothesis: There is a significant difference in customer satisfaction scores among the three product versions.\")\n",
    "else:\n",
    "    print(\"\\nFail to reject the null hypothesis: There is no significant difference in customer satisfaction scores among the three product versions.\")"
   ]
  },
  {
   "cell_type": "markdown",
   "metadata": {},
   "source": []
  }
 ],
 "metadata": {
  "kernelspec": {
   "display_name": "Python 3",
   "language": "python",
   "name": "python3"
  },
  "language_info": {
   "codemirror_mode": {
    "name": "ipython",
    "version": 3
   },
   "file_extension": ".py",
   "mimetype": "text/x-python",
   "name": "python",
   "nbconvert_exporter": "python",
   "pygments_lexer": "ipython3",
   "version": "3.12.2"
  }
 },
 "nbformat": 4,
 "nbformat_minor": 2
}
