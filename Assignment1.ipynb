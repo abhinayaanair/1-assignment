{
 "cells": [
  {
   "cell_type": "code",
   "execution_count": 1,
   "id": "a9bf0266-0bab-4962-9f7c-52b97e4864a6",
   "metadata": {},
   "outputs": [
    {
     "name": "stdin",
     "output_type": "stream",
     "text": [
      "Enter a string abhinaya\n"
     ]
    },
    {
     "name": "stdout",
     "output_type": "stream",
     "text": [
      "ayanihba\n"
     ]
    }
   ],
   "source": [
    "#1. Write a code to reverse a string\n",
    "\n",
    "str=input(\"Enter a string: \")\n",
    "revstr=str[::-1]\n",
    "print(revstr)"
   ]
  },
  {
   "cell_type": "code",
   "execution_count": 4,
   "id": "08f338d6-3af5-4ca2-8382-3720a047ae95",
   "metadata": {},
   "outputs": [
    {
     "name": "stdin",
     "output_type": "stream",
     "text": [
      "Enter a string aeious\n"
     ]
    },
    {
     "name": "stdout",
     "output_type": "stream",
     "text": [
      "5\n"
     ]
    }
   ],
   "source": [
    "#2.Write a code to count the number of vowels in a string\n",
    "\n",
    "str=input(\"Enter a string: \")\n",
    "vowel=[\"a\",\"e\",\"i\",\"o\",\"u\"]\n",
    "count=0\n",
    "for i in str:\n",
    "    if i in vowel:\n",
    "        count+=1\n",
    "\n",
    "print(count)"
   ]
  },
  {
   "cell_type": "code",
   "execution_count": 6,
   "id": "9b05c4f7-5159-494e-a333-fc56bc050d37",
   "metadata": {},
   "outputs": [
    {
     "name": "stdin",
     "output_type": "stream",
     "text": [
      "Enter a string bale\n"
     ]
    },
    {
     "name": "stdout",
     "output_type": "stream",
     "text": [
      "It is not a palindrome\n"
     ]
    }
   ],
   "source": [
    "#3. Write a code to check if a given string is a palindrome or not\n",
    "\n",
    "str=input(\"Enter a string: \")\n",
    "revstr=str[::-1]\n",
    "if revstr==str:\n",
    "    print(\"It is a palindrome\")\n",
    "else:\n",
    "    print(\"It is not a palindrome\")"
   ]
  },
  {
   "cell_type": "code",
   "execution_count": 20,
   "id": "ac07a8e7-6f28-4cd8-9d70-b5cd82d394ca",
   "metadata": {},
   "outputs": [
    {
     "name": "stdin",
     "output_type": "stream",
     "text": [
      "Enter first string kallu\n",
      "Enter second string lallu\n"
     ]
    },
    {
     "name": "stdout",
     "output_type": "stream",
     "text": [
      "It is not an anagram\n"
     ]
    }
   ],
   "source": [
    "#4.Write a code to check if two given strings are anagrams of each other\n",
    "\n",
    "str1=input(\"Enter first string: \")\n",
    "str2=input(\"Enter second string: \")\n",
    "if len(str1)==len(str2):\n",
    "    for i in str1:\n",
    "        if i in str2:\n",
    "            char_to_remove=i\n",
    "            str1=str1.replace(char_to_remove,\"\")\n",
    "            str2=str2.replace(char_to_remove,\"\")\n",
    "            if str1==\"\" and str2==\"\":\n",
    "                print(\"It is an anagram\")\n",
    "            else:\n",
    "                print(\"It is not an anagram\")\n",
    "                break\n",
    "                \n",
    "else:\n",
    "    print(\"It is not an anagram\")"
   ]
  },
  {
   "cell_type": "code",
   "execution_count": 28,
   "id": "4e9b86b2-c84c-4758-9eb3-040f7428c539",
   "metadata": {},
   "outputs": [
    {
     "name": "stdin",
     "output_type": "stream",
     "text": [
      "Enter the main string:  I am Abby Abby from codeing Abby\n",
      "Enter the substring:  Abby\n"
     ]
    },
    {
     "name": "stdout",
     "output_type": "stream",
     "text": [
      "3\n"
     ]
    }
   ],
   "source": [
    "#5.Write a code to find all occurrences of a given substring within another string\n",
    "str1=input(\"Enter the main string: \")\n",
    "str2= input(\"Enter the substring: \")\n",
    "count=0\n",
    "bool_loop= str2 in str1\n",
    "\n",
    "while bool_loop:\n",
    "    present=str2 in str1\n",
    "    if present:\n",
    "        count+=1\n",
    "        str1=str1.replace(str2,\"\",1)\n",
    "    else:\n",
    "        bool_loop=False\n",
    "\n",
    "print(count)"
   ]
  },
  {
   "cell_type": "code",
   "execution_count": 29,
   "id": "f87e1959-3562-45cb-ad7c-7e96c9947eeb",
   "metadata": {},
   "outputs": [],
   "source": [
    "#6.Write a code to perform basic string compression using the counts of repeated characters\n",
    "\n",
    "\n",
    "#DON'T KNOW THE SOLUTION"
   ]
  },
  {
   "cell_type": "code",
   "execution_count": 33,
   "id": "1b675928-04a7-4f5f-92e6-e6aa14462e0b",
   "metadata": {},
   "outputs": [
    {
     "name": "stdin",
     "output_type": "stream",
     "text": [
      "Enter a string bba\n"
     ]
    },
    {
     "name": "stdout",
     "output_type": "stream",
     "text": [
      "Not all Unique\n"
     ]
    }
   ],
   "source": [
    "#7.Write a code to determine if a string has all unique characters\n",
    "\n",
    "str = input(\"Enter a string\")\n",
    "count=0\n",
    "for i in str:\n",
    "    for j in str[str.index(i)+1: ]:\n",
    "        if i==j:\n",
    "            count+=1\n",
    "        \n",
    "\n",
    "if count==0:\n",
    "    print(\"Unique\")\n",
    "else:\n",
    "    print(\"Not all Unique\")\n",
    "    \n"
   ]
  },
  {
   "cell_type": "code",
   "execution_count": 37,
   "id": "36affd98-4efd-424d-af0f-1d0e5d213944",
   "metadata": {},
   "outputs": [
    {
     "name": "stdin",
     "output_type": "stream",
     "text": [
      "Enter a string abhinYA\n",
      "Enter 1 for uppercase and 0 for lowercase 0\n"
     ]
    },
    {
     "name": "stdout",
     "output_type": "stream",
     "text": [
      "abhinya\n"
     ]
    }
   ],
   "source": [
    "#8.Write a code to convert a given string to uppercase or lowercase\u0012\n",
    "\n",
    "str=input(\"Enter a string\")\n",
    "a= input(\"Enter 1 for uppercase and 0 for lowercase\")\n",
    "value =int(a)\n",
    "\n",
    "if value==1:\n",
    "    up=str.upper()\n",
    "    print(up)\n",
    "\n",
    "if value==0:\n",
    "    low=str.lower()\n",
    "    print(low)\n",
    "\n",
    "    "
   ]
  },
  {
   "cell_type": "code",
   "execution_count": 38,
   "id": "74f33cd8-1fe1-4b98-a81e-aaf7bd6ea3be",
   "metadata": {},
   "outputs": [
    {
     "name": "stdin",
     "output_type": "stream",
     "text": [
      "Enter a string I am Abhi I go to school\n"
     ]
    },
    {
     "name": "stdout",
     "output_type": "stream",
     "text": [
      "7\n"
     ]
    }
   ],
   "source": [
    "#9.Write a code to count the number of words in a string\n",
    "\n",
    "str=input(\"Enter a string\")\n",
    "lis= str.split(\" \")\n",
    "count=len(lis)\n",
    "print(count)\n"
   ]
  },
  {
   "cell_type": "code",
   "execution_count": 2,
   "id": "59910876-061a-4121-9658-bf63b6915ec5",
   "metadata": {},
   "outputs": [
    {
     "name": "stdin",
     "output_type": "stream",
     "text": [
      "Enter first string:  ab\n",
      "Enter second string:  hi\n"
     ]
    },
    {
     "name": "stdout",
     "output_type": "stream",
     "text": [
      "abhi\n"
     ]
    }
   ],
   "source": [
    "#10.Write a code to concatenate two strings without using the + operator\n",
    "\n",
    "str1=input(\"Enter first string: \")\n",
    "str2=input(\"Enter second string: \")\n",
    "concatenated_string = \"\".join([str1, str2])\n",
    "print(concatenated_string)\n",
    "\n"
   ]
  },
  {
   "cell_type": "code",
   "execution_count": 1,
   "id": "1f38e347-9d3e-4c8c-a92e-f01722061619",
   "metadata": {},
   "outputs": [
    {
     "name": "stdin",
     "output_type": "stream",
     "text": [
      "Enter no. of elements in the list 5\n",
      "Enter 1 element 2\n",
      "Enter 2 element 2\n",
      "Enter 3 element 4\n",
      "Enter 4 element 3\n",
      "Enter 5 element 2\n"
     ]
    },
    {
     "name": "stdout",
     "output_type": "stream",
     "text": [
      "['2', '2', '4', '3', '2']\n"
     ]
    },
    {
     "name": "stdin",
     "output_type": "stream",
     "text": [
      "Enter the element to remove 2\n"
     ]
    },
    {
     "name": "stdout",
     "output_type": "stream",
     "text": [
      "['4', '3']\n"
     ]
    }
   ],
   "source": [
    "#11.Write a code to remove all occurrences of a specific element from a list\n",
    "num=input(\"Enter no. of elements in the list\")\n",
    "n=int(num)\n",
    "i=0\n",
    "lis=[]\n",
    "while i<n:\n",
    "    a=input(\"Enter %d element\"%(i+1))\n",
    "    i=i+1\n",
    "    lis.append(a)\n",
    "    \n",
    "print(lis)\n",
    "rem= input(\"Enter the element to remove\")\n",
    "\n",
    "countnum=lis.count(rem)\n",
    "j=0\n",
    "while(j<countnum):\n",
    "    lis.remove(rem)\n",
    "    j+=1\n",
    "\n",
    "print(lis)\n",
    "\n",
    "    "
   ]
  },
  {
   "cell_type": "code",
   "execution_count": null,
   "id": "5da31fd9-c1ed-4da8-9b23-03d1f396a065",
   "metadata": {},
   "outputs": [],
   "source": [
    "#12.Implement a code to find the second largest number in a given list of integers\n",
    "num=input(\"Enter no. of elements in the list\")\n",
    "n=int(num)\n",
    "i=0\n",
    "lis=[]\n",
    "while i<n:\n",
    "    a=input(\"Enter %d element\"%(i+1))\n",
    "    a_num=int(a)\n",
    "    i=i+1\n",
    "    lis.append(a_num)\n",
    "\n",
    "\n",
    "ascending_lis=sorted(lis)\n",
    "print(ascending_lis)\n",
    "print(ascending_lis[-2])"
   ]
  },
  {
   "cell_type": "code",
   "execution_count": 6,
   "id": "f3759829-b4ff-469b-841e-3a059c4e8b18",
   "metadata": {},
   "outputs": [
    {
     "name": "stdin",
     "output_type": "stream",
     "text": [
      "Enter no. of elements in the list 3\n",
      "Enter 1 element 2\n",
      "Enter 2 element 2\n",
      "Enter 3 element 3\n"
     ]
    },
    {
     "name": "stdout",
     "output_type": "stream",
     "text": [
      "{'3', '2'}\n",
      "['3', '2']\n",
      "[1, 2]\n",
      "{'3': 1, '2': 2}\n"
     ]
    }
   ],
   "source": [
    "#13.Create a code to count the occurrences of each element in a list and return a dictionary with elements as keys and their counts as values\n",
    "\n",
    "num=input(\"Enter no. of elements in the list\")\n",
    "n=int(num)\n",
    "i=0\n",
    "lis=[]\n",
    "while i<n:\n",
    "    a=input(\"Enter %d element\"%(i+1))\n",
    "    i=i+1\n",
    "    lis.append(a)\n",
    "s=set(lis)\n",
    "l=list(s)\n",
    "print(s)\n",
    "print(l)\n",
    "countlis=[]\n",
    "for i in s:\n",
    "    j=lis.count(i)\n",
    "    countlis.append(j)\n",
    "print(countlis)\n",
    "\n",
    "d={l:count_lis for l,count_lis in zip(l,countlis)}\n",
    "print(d)"
   ]
  },
  {
   "cell_type": "code",
   "execution_count": 8,
   "id": "b8bb5dac-5ad3-4f6f-be92-b6f359bd8535",
   "metadata": {},
   "outputs": [
    {
     "name": "stdin",
     "output_type": "stream",
     "text": [
      "Enter no. of elements in the list 3\n",
      "Enter 1 element 3\n",
      "Enter 2 element 4\n",
      "Enter 3 element 5\n"
     ]
    },
    {
     "name": "stdout",
     "output_type": "stream",
     "text": [
      "['5', '4', '3']\n"
     ]
    }
   ],
   "source": [
    "#14.Write a code to reverse a list in-place without using any built-in reverse functions\n",
    "num=input(\"Enter no. of elements in the list\")\n",
    "n=int(num)\n",
    "i=0\n",
    "lis=[]\n",
    "while i<n:\n",
    "    a=input(\"Enter %d element\"%(i+1))\n",
    "    i=i+1\n",
    "    lis.append(a)\n",
    "\n",
    "revlis=[]\n",
    "for i in lis:\n",
    "    revlis.insert(0,i)\n",
    "print(revlis)"
   ]
  },
  {
   "cell_type": "code",
   "execution_count": null,
   "id": "45ca1055-ff0f-439e-ad9e-0f30cb0034b8",
   "metadata": {},
   "outputs": [
    {
     "name": "stdin",
     "output_type": "stream",
     "text": [
      "Enter no. of elements in the list 3\n",
      "Enter 1 element 3\n",
      "Enter 2 element 3\n",
      "Enter 3 element 3\n"
     ]
    },
    {
     "name": "stdout",
     "output_type": "stream",
     "text": [
      "Duplicate removed list ['3']\n"
     ]
    }
   ],
   "source": [
    "#15. Implement a code to find and remove duplicates from a list while preserving the original order of elements\n",
    "\n",
    "num=input(\"Enter no. of elements in the list\")\n",
    "n=int(num)\n",
    "i=0\n",
    "lis=[]\n",
    "while i<n:\n",
    "    a=input(\"Enter %d element\"%(i+1))\n",
    "    i=i+1\n",
    "    lis.append(a)\n",
    "result=[]\n",
    "sampleset=set()\n",
    "for i in lis:\n",
    "    if i not in sampleset:\n",
    "        sampleset.add(i)\n",
    "        result.append(i)\n",
    "    \n",
    "print(\"Duplicate removed list\",result)"
   ]
  },
  {
   "cell_type": "code",
   "execution_count": 28,
   "id": "28d532fd-f845-4dab-9f02-1d648ae01243",
   "metadata": {},
   "outputs": [
    {
     "name": "stdin",
     "output_type": "stream",
     "text": [
      "Enter no. of elements in the list 5\n",
      "Enter 1 element 100\n",
      "Enter 2 element 23\n",
      "Enter 3 element 4500\n",
      "Enter 4 element 43\n",
      "Enter 5 element 89\n"
     ]
    },
    {
     "name": "stdout",
     "output_type": "stream",
     "text": [
      "[100, 23, 4500, 43, 89]\n",
      "[23, 43, 89, 100, 4500]\n",
      "[4500, 100, 89, 43, 23]\n",
      "It is not sorted\n"
     ]
    }
   ],
   "source": [
    "#16. Create a code to check if a given list is sorted (either in ascending or descending order) or not\n",
    "\n",
    "num=input(\"Enter no. of elements in the list\")\n",
    "n=int(num)\n",
    "i=0\n",
    "lis=[]\n",
    "while i<n:\n",
    "    anum=input(\"Enter %d element\"%(i+1))\n",
    "    a=int(anum)\n",
    "    i=i+1\n",
    "    lis.append(a)\n",
    "    \n",
    "print(lis)\n",
    "newlis=sorted(lis)\n",
    "revnewlis=list(reversed(newlis))\n",
    "if lis==newlis or lis==revnewlis:\n",
    "    print(\"It is sorted\")\n",
    "else:\n",
    "    print(\"It is not sorted\")"
   ]
  },
  {
   "cell_type": "code",
   "execution_count": 1,
   "id": "04fd7603-40ce-4b3a-aafe-35612562103e",
   "metadata": {},
   "outputs": [
    {
     "name": "stdin",
     "output_type": "stream",
     "text": [
      "Enter no. of elements in first list 3\n",
      "Enter 1 element 1\n",
      "Enter 2 element 5\n",
      "Enter 3 element 7\n"
     ]
    },
    {
     "name": "stdout",
     "output_type": "stream",
     "text": [
      "[1, 5, 7]\n"
     ]
    },
    {
     "name": "stdin",
     "output_type": "stream",
     "text": [
      "Enter no. of elements in second list 3\n",
      "Enter 1 element 3\n",
      "Enter 2 element 4\n",
      "Enter 3 element 9\n"
     ]
    },
    {
     "name": "stdout",
     "output_type": "stream",
     "text": [
      "[3, 4, 9]\n",
      "[1, 3, 4, 5, 7, 9]\n"
     ]
    }
   ],
   "source": [
    "#17.Write a code to merge two sorted lists into a single sorted list\n",
    "\n",
    "num1=input(\"Enter no. of elements in first list\")\n",
    "n1=int(num1)\n",
    "i=0\n",
    "lis1=[]\n",
    "while i<n1:\n",
    "    anum1=input(\"Enter %d element\"%(i+1))\n",
    "    a1=int(anum1)\n",
    "    i=i+1\n",
    "    lis1.append(a1)\n",
    "print(lis1)\n",
    "num2=input(\"Enter no. of elements in second list\")\n",
    "n2=int(num2)\n",
    "j=0\n",
    "lis2=[]\n",
    "while j<n2:\n",
    "    anum2=input(\"Enter %d element\"%(j+1))\n",
    "    a2=int(anum2)\n",
    "    j=j+1\n",
    "    lis2.append(a2)\n",
    "print(lis2)   \n",
    "lis1.extend(lis2)\n",
    "lis1.sort()\n",
    "\n",
    "print(\"Sorted list is:\",lis1)\n"
   ]
  },
  {
   "cell_type": "code",
   "execution_count": 4,
   "id": "7e78e297-142a-4b2c-8c59-3618696310b8",
   "metadata": {},
   "outputs": [
    {
     "name": "stdin",
     "output_type": "stream",
     "text": [
      "Enter no. of elements in first list 3\n",
      "Enter 1 element 1\n",
      "Enter 2 element 2\n",
      "Enter 3 element 3\n"
     ]
    },
    {
     "name": "stdout",
     "output_type": "stream",
     "text": [
      "[1, 2, 3]\n"
     ]
    },
    {
     "name": "stdin",
     "output_type": "stream",
     "text": [
      "Enter no. of elements in second list 3\n",
      "Enter 1 element 2\n",
      "Enter 2 element 3\n",
      "Enter 3 element 4\n"
     ]
    },
    {
     "name": "stdout",
     "output_type": "stream",
     "text": [
      "Intersection is: {2, 3}\n"
     ]
    }
   ],
   "source": [
    " #18.Implement a code to find the intersection of two given lists\n",
    "\n",
    "num1=input(\"Enter no. of elements in first list\")\n",
    "n1=int(num1)\n",
    "i=0\n",
    "lis1=[]\n",
    "while i<n1:\n",
    "    anum1=input(\"Enter %d element\"%(i+1))\n",
    "    a1=int(anum1)\n",
    "    i=i+1\n",
    "    lis1.append(a1)\n",
    "print(lis1)\n",
    "num2=input(\"Enter no. of elements in second list\")\n",
    "n2=int(num2)\n",
    "j=0\n",
    "lis2=[]\n",
    "while j<n2:\n",
    "    anum2=input(\"Enter %d element\"%(j+1))\n",
    "    a2=int(anum2)\n",
    "    j=j+1\n",
    "    lis2.append(a2)\n",
    "\n",
    "s1=set(lis1)\n",
    "s2=set(lis2)\n",
    "s3= s1 & s2\n",
    "\n",
    "\n",
    "print(\"Intersection is:\",s3)\n",
    "    "
   ]
  },
  {
   "cell_type": "code",
   "execution_count": 9,
   "id": "1ea3f5ca-158d-4e51-9561-658f39017b43",
   "metadata": {},
   "outputs": [
    {
     "name": "stdin",
     "output_type": "stream",
     "text": [
      "Enter no. of elements in first list 4\n",
      "Enter 1 element 1\n",
      "Enter 2 element 2\n",
      "Enter 3 element 3\n",
      "Enter 4 element 4\n"
     ]
    },
    {
     "name": "stdout",
     "output_type": "stream",
     "text": [
      "[1, 2, 3, 4]\n"
     ]
    },
    {
     "name": "stdin",
     "output_type": "stream",
     "text": [
      "Enter no. of elements in second list 4\n",
      "Enter 1 element 2\n",
      "Enter 2 element 3\n",
      "Enter 3 element 4\n",
      "Enter 4 element 5\n"
     ]
    },
    {
     "name": "stdout",
     "output_type": "stream",
     "text": [
      "Union without duplicates {1, 2, 3, 4, 5}\n"
     ]
    }
   ],
   "source": [
    "#19. Create a code to find the union of two lists without duplicates\n",
    "\n",
    "num1=input(\"Enter no. of elements in first list\")\n",
    "n1=int(num1)\n",
    "i=0\n",
    "lis1=[]\n",
    "while i<n1:\n",
    "    anum1=input(\"Enter %d element\"%(i+1))\n",
    "    a1=int(anum1)\n",
    "    i=i+1\n",
    "    lis1.append(a1)\n",
    "print(lis1)\n",
    "num2=input(\"Enter no. of elements in second list\")\n",
    "n2=int(num2)\n",
    "j=0\n",
    "lis2=[]\n",
    "while j<n2:\n",
    "    anum2=input(\"Enter %d element\"%(j+1))\n",
    "    a2=int(anum2)\n",
    "    j=j+1\n",
    "    lis2.append(a2)\n",
    "    \n",
    "s1=set(lis1)\n",
    "s2=set(lis2)\n",
    "\n",
    "s3= s1^s2\n",
    "s4= s1&s2\n",
    "s5= s3 | s2\n",
    "\n",
    "print(\"Union without duplicates: \",s5)"
   ]
  },
  {
   "cell_type": "code",
   "execution_count": 10,
   "id": "bb6ddea3-d9a7-4a0c-8c80-1e72e1ca5fd6",
   "metadata": {},
   "outputs": [],
   "source": [
    "#20.Write a code to shuffle a given list randomly without using any built-in shuffle functions\n",
    "\n",
    "#DON'T KNOW THE SOLUTION\n"
   ]
  },
  {
   "cell_type": "code",
   "execution_count": 18,
   "id": "9a6032c0-4b1f-40d9-9650-5fd6e690fe90",
   "metadata": {},
   "outputs": [
    {
     "name": "stdin",
     "output_type": "stream",
     "text": [
      "Enter elements separated by commas for tuple 1:  3,4,5,6,7\n"
     ]
    },
    {
     "name": "stdout",
     "output_type": "stream",
     "text": [
      "Input tuple: ('3', '4', '5', '6', '7')\n"
     ]
    },
    {
     "name": "stdin",
     "output_type": "stream",
     "text": [
      "Enter elements separated by commas for tuple 1:  2,3,4,9\n"
     ]
    },
    {
     "name": "stdout",
     "output_type": "stream",
     "text": [
      "Input tuple: ('2', '3', '4', '9')\n",
      "('3', '4')\n"
     ]
    }
   ],
   "source": [
    "#21. Write a code that takes two tuples as input and returns a new tuple containing elements that are common to both input tuples\n",
    "\n",
    "input_string1 = input(\"Enter elements separated by commas for tuple 1: \")\n",
    "\n",
    "tuple1 = tuple(input_string1.split(','))\n",
    "\n",
    "\n",
    "print(\"Input tuple:\", tuple1)\n",
    "\n",
    "input_string2 = input(\"Enter elements separated by commas for tuple 1: \")\n",
    "\n",
    "tuple2 = tuple(input_string2.split(','))\n",
    "\n",
    "lis=[]\n",
    "print(\"Input tuple:\", tuple2)\n",
    "\n",
    "for i in tuple1:\n",
    "    if i in tuple2:\n",
    "        lis.append(i)\n",
    "        \n",
    "\n",
    "finaltuple=tuple(lis)\n",
    "print(finaltuple)"
   ]
  },
  {
   "cell_type": "code",
   "execution_count": 22,
   "id": "2eb2a673-1743-48b0-b985-4dd8ac9222a4",
   "metadata": {},
   "outputs": [
    {
     "name": "stdin",
     "output_type": "stream",
     "text": [
      "Enter a set of integer separated by comma:  3,4,5\n",
      "Enter another set of integer separated by comma:  4,5,6\n"
     ]
    },
    {
     "name": "stdout",
     "output_type": "stream",
     "text": [
      "Intersection is {'5', '4'}\n"
     ]
    }
   ],
   "source": [
    " #22.Create a code that prompts the user to enter two sets of integers separated by commas. Then, print the intersection of these two sets\n",
    "    \n",
    "set_input1=input(\"Enter a set of integer separated by comma: \")\n",
    "set_input2=input(\"Enter another set of integer separated by comma: \")\n",
    "set1=set(set_input1.split(','))\n",
    "set2=set(set_input2.split(','))\n",
    "\n",
    "s3= set1 & set2\n",
    "print(\"Intersection is\",s3)"
   ]
  },
  {
   "cell_type": "code",
   "execution_count": 23,
   "id": "692715fa-2556-4b90-b5e2-041f9a22488f",
   "metadata": {},
   "outputs": [
    {
     "name": "stdin",
     "output_type": "stream",
     "text": [
      "Enter elements separated by commas for tuple 1:  3,4,5\n"
     ]
    },
    {
     "name": "stdout",
     "output_type": "stream",
     "text": [
      "Input tuple: ('3', '4', '5')\n"
     ]
    },
    {
     "name": "stdin",
     "output_type": "stream",
     "text": [
      "Enter elements separated by commas for tuple 1:  4,5,6,7\n"
     ]
    },
    {
     "name": "stdout",
     "output_type": "stream",
     "text": [
      "('3', '4', '5', '4', '5', '6', '7')\n"
     ]
    }
   ],
   "source": [
    "#23.Write a code to concatenate two tuples. The function should take two tuples as input and return a new tuple containing elements from both input tuples.\n",
    "\n",
    "\n",
    "input_string1 = input(\"Enter elements separated by commas for tuple 1: \")\n",
    "\n",
    "tuple1 = tuple(input_string1.split(','))\n",
    "\n",
    "\n",
    "print(\"Input tuple:\", tuple1)\n",
    "\n",
    "input_string2 = input(\"Enter elements separated by commas for tuple 1: \")\n",
    "\n",
    "tuple2 = tuple(input_string2.split(','))\n",
    "\n",
    "tuple3= tuple1+tuple2\n",
    "print(tuple3)"
   ]
  },
  {
   "cell_type": "code",
   "execution_count": 2,
   "id": "45416d26-b12e-47cc-9b67-f2c9f217d55a",
   "metadata": {},
   "outputs": [
    {
     "name": "stdin",
     "output_type": "stream",
     "text": [
      "Enter string 1:  abhi\n",
      "Enter string 2:  hina\n"
     ]
    },
    {
     "name": "stdout",
     "output_type": "stream",
     "text": [
      "['b']\n"
     ]
    }
   ],
   "source": [
    "#24.Develop a code that prompts the user to input two sets of strings. Then, print the elements that are present in the first set but not in the second set&\n",
    "\n",
    "str1= input(\"Enter string 1: \")\n",
    "str2= input(\"Enter string 2: \")\n",
    "lis=[]\n",
    "for i in str1:\n",
    "    if i not in str2:\n",
    "        lis.append(i)\n",
    "print(lis)"
   ]
  },
  {
   "cell_type": "code",
   "execution_count": 3,
   "id": "d6dbd5ab-8589-4d2e-8578-9fa644ec7bcf",
   "metadata": {},
   "outputs": [
    {
     "name": "stdin",
     "output_type": "stream",
     "text": [
      "Enter elements separated by commas for tuple 1:  1,2,3,4,5,6,7,8,9,10\n",
      "Enter starting index;  3\n",
      "Enter ending index;  6\n"
     ]
    },
    {
     "name": "stdout",
     "output_type": "stream",
     "text": [
      "('4', '5', '6')\n"
     ]
    }
   ],
   "source": [
    "#25.Create a code that takes a tuple and two integers as input. The function should return a new tuple containing elements from the original tuple within the specified range of indices&\n",
    "input_string1 = input(\"Enter elements separated by commas for tuple 1: \")\n",
    "tuple1 = tuple(input_string1.split(','))\n",
    "\n",
    "int1_input= input(\"Enter starting index; \")\n",
    "int2_input=input(\"Enter ending index; \")\n",
    "\n",
    "int1= int(int1_input)\n",
    "int2=int(int2_input)\n",
    "\n",
    "a=tuple1[int1:int2]\n",
    "\n",
    "print(a)\n",
    "\n"
   ]
  },
  {
   "cell_type": "code",
   "execution_count": 5,
   "id": "37b9a92b-6513-4d78-982c-0334ff8ea456",
   "metadata": {},
   "outputs": [
    {
     "name": "stdin",
     "output_type": "stream",
     "text": [
      "Enter first set of characters separated by comma:  3,4,5,6\n",
      "Enter second set of characters separated by comma:  5,6,2,1\n"
     ]
    },
    {
     "name": "stdout",
     "output_type": "stream",
     "text": [
      "Union of first and second set of character is :  {'1', '5', '3', '2', '6', '4'}\n"
     ]
    }
   ],
   "source": [
    "#26.Write a code that prompts the user to input two sets of characters. Then, print the union of these two sets&\n",
    "\n",
    "char1=input(\"Enter first set of characters separated by comma: \")\n",
    "char2=input(\"Enter second set of characters separated by comma: \")\n",
    "\n",
    "s1=set(char1.split(','))\n",
    "s2=set(char2.split(','))\n",
    "\n",
    "s3= s1 | s2\n",
    "\n",
    "print(\"Union of first and second set of character is : \",s3)"
   ]
  },
  {
   "cell_type": "code",
   "execution_count": 11,
   "id": "d4fcc213-d241-450a-a36e-24294add6fac",
   "metadata": {},
   "outputs": [
    {
     "name": "stdin",
     "output_type": "stream",
     "text": [
      "Enter elements separated by commas for tuple 1:  3,4,5\n"
     ]
    },
    {
     "name": "stdout",
     "output_type": "stream",
     "text": [
      "Maximum is:  5\n",
      "Minimum is:  3\n"
     ]
    }
   ],
   "source": [
    " #27.Develop a code that takes a tuple of integers as input. The function should return the maximum and minimum values from the tuple using tuple unpacking\n",
    "\n",
    "input_string1 = input(\"Enter elements separated by commas for tuple 1: \")\n",
    "tuple1 = tuple(input_string1.split(','))\n",
    "lis=[]\n",
    "for i in tuple1:\n",
    "    a=int(i)\n",
    "    lis.append(a)\n",
    "tuple2= tuple(lis)\n",
    "\n",
    "print(\"Maximum is: \",max(tuple2))\n",
    "print(\"Minimum is: \" ,min(tuple2))\n"
   ]
  },
  {
   "cell_type": "code",
   "execution_count": 12,
   "id": "5fc6fb10-07b4-47b9-b9e9-7dd3e3a3b8c9",
   "metadata": {},
   "outputs": [
    {
     "name": "stdin",
     "output_type": "stream",
     "text": [
      "Enter first set of integers separated by comma:  3,4,5,6,7,8,9\n",
      "Enter second set of integers separated by comma:  1,2,3,4,100,24\n"
     ]
    },
    {
     "name": "stdout",
     "output_type": "stream",
     "text": [
      "Union is:  {'1', '5', '9', '3', '2', '24', '100', '7', '6', '8', '4'}\n",
      "Intersection is:  {'3', '4'}\n",
      "Difference is:  {'5', '9', '7', '6', '8'}\n"
     ]
    }
   ],
   "source": [
    "# Create a code that defines two sets of integers. Then, print the union, intersection, and difference of these two sets\n",
    "int1=input(\"Enter first set of integers separated by comma: \")\n",
    "int2=input(\"Enter second set of integers separated by comma: \")\n",
    "s1=set(int1.split(','))\n",
    "s2=set(int2.split(','))\n",
    "\n",
    "print(\"Union is: \",s1|s2)\n",
    "print(\"Intersection is: \",s1&s2)\n",
    "print(\"Difference is: \",s1-s2)"
   ]
  },
  {
   "cell_type": "code",
   "execution_count": 14,
   "id": "9d22bd83-4fba-4d90-8bd5-51368a80d3b3",
   "metadata": {},
   "outputs": [
    {
     "name": "stdin",
     "output_type": "stream",
     "text": [
      "Enter elements separated by commas for tuple 1:  \"hi\",\"hio\",\"hi\",2,3,4\n",
      "Enter the element to count;  \"hi\"\n"
     ]
    },
    {
     "name": "stdout",
     "output_type": "stream",
     "text": [
      "Total occurences are:  2\n"
     ]
    }
   ],
   "source": [
    "#Write a code that takes a tuple and an element as input. The function should return the count of occurrences of the given element in the tuple\n",
    "input_string1 = input(\"Enter elements separated by commas for tuple 1: \")\n",
    "tuple1 = tuple(input_string1.split(','))\n",
    "element= input(\"Enter the element to count; \")\n",
    "int1= tuple1.count(element)\n",
    "\n",
    "print(\"Total occurences are: \",int1)\n"
   ]
  },
  {
   "cell_type": "code",
   "execution_count": 16,
   "id": "dd04d651-b42c-4e73-afb7-1189a59d3155",
   "metadata": {},
   "outputs": [
    {
     "name": "stdin",
     "output_type": "stream",
     "text": [
      "Enter elements of first set separated by comma:  3,4,5,6,7,8\n",
      "Enter elements of second set separated by comma:  3,4,1,2,5,6,10\n"
     ]
    },
    {
     "name": "stdout",
     "output_type": "stream",
     "text": [
      "Symmetric Difference is  {'2', '1', '10', '7', '8'}\n"
     ]
    }
   ],
   "source": [
    "# Develop a code that prompts the user to input two sets of strings. Then, print the symmetric difference of these two sets\n",
    "\n",
    "int1=input(\"Enter elements of first set separated by comma: \")\n",
    "int2=input(\"Enter elements of second set separated by comma: \")\n",
    "s1=set(int1.split(','))\n",
    "s2=set(int2.split(','))\n",
    "\n",
    "print(\"Symmetric Difference is \", s1^s2)\n"
   ]
  },
  {
   "cell_type": "code",
   "execution_count": 26,
   "id": "031a554d-2b51-4e1a-920f-da94b6c94484",
   "metadata": {},
   "outputs": [
    {
     "name": "stdin",
     "output_type": "stream",
     "text": [
      "Enter no. of elements in the list 6\n",
      "Enter 1 element apple\n",
      "Enter 2 element banana\n",
      "Enter 3 element apple\n",
      "Enter 4 element guava\n",
      "Enter 5 element banana\n",
      "Enter 6 element mango\n"
     ]
    },
    {
     "name": "stdout",
     "output_type": "stream",
     "text": [
      "Word frequencies: {'apple': 2, 'banana': 2, 'guava': 1, 'mango': 1}\n"
     ]
    }
   ],
   "source": [
    "# Write a code that takes a list of words as input and returns a dictionary where the keys are unique words and the values are the frequencies of those words in the input list&\n",
    "num=input(\"Enter no. of elements in the list\")\n",
    "n=int(num)\n",
    "i=0\n",
    "lis=[]\n",
    "while i<n:\n",
    "    a=input(\"Enter %d element\"%(i+1))\n",
    "    i=i+1\n",
    "    lis.append(a)\n",
    "\n",
    "word_freq={}\n",
    "for word in lis:\n",
    "    if word in word_freq:\n",
    "        word_freq[word] += 1\n",
    "    else:\n",
    "        word_freq[word] = 1\n",
    "        \n",
    "print(\"Word frequencies:\",word_freq)"
   ]
  },
  {
   "cell_type": "code",
   "execution_count": 1,
   "id": "5677e7d5-2a17-46c7-8ba2-bd7230c0867d",
   "metadata": {},
   "outputs": [
    {
     "name": "stdin",
     "output_type": "stream",
     "text": [
      "Enter key-value pairs separated by commas (key1:value1, key2:value2, ...):  apple:4,banana:2\n"
     ]
    },
    {
     "name": "stdout",
     "output_type": "stream",
     "text": [
      "{'apple': 4, 'banana': 2}\n"
     ]
    },
    {
     "name": "stdin",
     "output_type": "stream",
     "text": [
      "Enter key-value pairs separated by commas (key1:value1, key2:value2, ...):  banana:2,mango:3\n"
     ]
    },
    {
     "name": "stdout",
     "output_type": "stream",
     "text": [
      "{'banana': 2, 'mango': 3}\n",
      "{'apple': 4, 'banana': 4, 'mango': 3}\n"
     ]
    }
   ],
   "source": [
    "#Write a code that takes two dictionaries as input and merges them into a single dictionary. If there are common keys, the values should be added together\n",
    "input_dict1 = {}\n",
    "\n",
    "input_string1 = input(\"Enter key-value pairs separated by commas (key1:value1, key2:value2, ...): \")\n",
    "\n",
    "  \n",
    "pairs1 = input_string1.split(',')\n",
    "\n",
    "    \n",
    "for pair1 in pairs1:\n",
    "    key, value = pair1.split(':')\n",
    "    key = key.strip()\n",
    "    value = int(value.strip())\n",
    "    input_dict1[key] = value\n",
    "\n",
    "print(input_dict1)\n",
    "\n",
    "input_dict2 = {}\n",
    "\n",
    "input_string2 = input(\"Enter key-value pairs separated by commas (key1:value1, key2:value2, ...): \")\n",
    "\n",
    "  \n",
    "pairs2 = input_string2.split(',')\n",
    "\n",
    "    \n",
    "for pair2 in pairs2:\n",
    "    key, value = pair2.split(':')\n",
    "    key = key.strip()\n",
    "    value = int(value.strip())\n",
    "    input_dict2[key] = value\n",
    "\n",
    "print(input_dict2)\n",
    "for i in input_dict2:\n",
    "   \n",
    "    value2=input_dict2[i]\n",
    "    if i not in input_dict1:\n",
    "        input_dict1[i]=value2\n",
    "    else:\n",
    "        value1=input_dict1[i]\n",
    "        input_dict1[i]=value2+value1\n",
    "print(input_dict1)"
   ]
  },
  {
   "cell_type": "code",
   "execution_count": 2,
   "id": "986ed500-ec3f-44bf-9edc-c895a2d98a5c",
   "metadata": {},
   "outputs": [],
   "source": [
    "#33. Write a code to access a value in a nested dictionary. The function should take the dictionary and a list of keys as input, and return the corresponding value. If any of the keys do not exist in the dictionary, the function should return None&\n",
    "\n",
    "\n",
    "#DON'T KNOW THE SOLUTION "
   ]
  },
  {
   "cell_type": "code",
   "execution_count": 14,
   "id": "d70a6dd7-a6b0-486e-a2b1-29fad1486e3a",
   "metadata": {},
   "outputs": [
    {
     "name": "stdin",
     "output_type": "stream",
     "text": [
      "Enter key-value pairs separated by commas (key1:value1, key2:value2, ...):   abhi:3,bhej:2,bhjver:5,vbejw:4\n"
     ]
    },
    {
     "name": "stdout",
     "output_type": "stream",
     "text": [
      "{'bhej': 2, 'abhi': 3, 'vbejw': 4, 'bhjver': 5}\n"
     ]
    }
   ],
   "source": [
    "#34.Write a code that takes a dictionary as input and returns a sorted version of it based on the values. You lcan choose whether to sort in ascending or descending order&\n",
    "\n",
    "input_dict = {}\n",
    "\n",
    "input_string = input(\"Enter key-value pairs separated by commas (key1:value1, key2:value2, ...): \")\n",
    "\n",
    "  \n",
    "pairs = input_string.split(',')\n",
    "keys=[]\n",
    "values=[]\n",
    "    \n",
    "for pair in pairs:\n",
    "    key, value = pair.split(':')\n",
    "    key = key.strip()\n",
    "    value = int(value.strip())\n",
    "    input_dict[key] = value\n",
    "    keys.append(key)\n",
    "    values.append(value)\n",
    "sorted_dict = dict(sorted(input_dict.items(), key=lambda item: item[1]))\n",
    "\n",
    "\n",
    "print(sorted_dict)"
   ]
  },
  {
   "cell_type": "code",
   "execution_count": 15,
   "id": "db18c59a-2d34-49ee-839a-5211e5767ad8",
   "metadata": {},
   "outputs": [
    {
     "name": "stdin",
     "output_type": "stream",
     "text": [
      "Enter key-value pairs separated by commas (key1:value1, key2:value2, ...):  abhi:10,kap:4,raj:45,rem:2\n"
     ]
    },
    {
     "name": "stdout",
     "output_type": "stream",
     "text": [
      "{'rem': 2, 'kap': 4, 'abhi': 10, 'raj': 45}\n"
     ]
    }
   ],
   "source": [
    "#35.Write a code that inverts a dictionary, swapping keys and values. Ensure that the inverted dictionary \n",
    "#correctly handles cases where multiple keys have the same value by storing the keys as a list in the \n",
    "#inverted dictionary\n",
    "\n",
    "\n",
    "#DON'T KNOW THE SOLUTION"
   ]
  },
  {
   "cell_type": "code",
   "execution_count": null,
   "id": "7eb53ad6-bfce-4e9e-9a93-288717828858",
   "metadata": {},
   "outputs": [],
   "source": []
  }
 ],
 "metadata": {
  "kernelspec": {
   "display_name": "Python 3 (ipykernel)",
   "language": "python",
   "name": "python3"
  },
  "language_info": {
   "codemirror_mode": {
    "name": "ipython",
    "version": 3
   },
   "file_extension": ".py",
   "mimetype": "text/x-python",
   "name": "python",
   "nbconvert_exporter": "python",
   "pygments_lexer": "ipython3",
   "version": "3.10.8"
  }
 },
 "nbformat": 4,
 "nbformat_minor": 5
}
