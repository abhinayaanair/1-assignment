{
 "cells": [
  {
   "cell_type": "markdown",
   "metadata": {},
   "source": [
    "Q1. What is a tuple in Python?\n",
    "\n",
    "Ans:  A tuple is a collection of ordered, immutable (unchangeable) elements\n"
   ]
  },
  {
   "cell_type": "markdown",
   "metadata": {},
   "source": [
    "Q2. How do you create a tuple in Python?\n",
    "\n",
    "Ans: By enclosing elements inside parenthesis and separating it by comma \n",
    "\n",
    "Example : t= (1,2,3,4,\"hello\")"
   ]
  },
  {
   "cell_type": "markdown",
   "metadata": {},
   "source": [
    "Q3. What is the difference between a tuple and a list in Python?\n",
    "\n",
    "Ans: Difference between a tuple and list in Python is tuple is immutable whereas list is and the syntax of both also varies"
   ]
  },
  {
   "cell_type": "markdown",
   "metadata": {},
   "source": [
    "Q4. Can a tuple be changed in Python?\n",
    "\n",
    "Ans: No, a tuple cannot be changed in Python after it has been created. Tuples are immutable data structures, meaning their elements cannot be modified, added, or removed once the tuple is defined."
   ]
  },
  {
   "cell_type": "markdown",
   "metadata": {},
   "source": [
    "Q5. How do you access elements in a tuple?\n",
    "\n",
    "Ans: By indexing and By slicing we can access elemnts in a tuple"
   ]
  },
  {
   "cell_type": "markdown",
   "metadata": {},
   "source": [
    "Q6. How do you unpack a tuple in Python?"
   ]
  },
  {
   "cell_type": "code",
   "execution_count": 1,
   "metadata": {},
   "outputs": [
    {
     "name": "stdout",
     "output_type": "stream",
     "text": [
      "1\n",
      "2\n",
      "[3, 4, 5]\n"
     ]
    }
   ],
   "source": [
    "my_tuple = (1, 2, 3, 4, 5)\n",
    "\n",
    "# Unpacking the first two elements and capturing the rest\n",
    "a, b, *rest = my_tuple\n",
    "\n",
    "print(a)    # Output: 1\n",
    "print(b)    # Output: 2\n",
    "print(rest) # Output: [3, 4, 5]\n"
   ]
  },
  {
   "cell_type": "code",
   "execution_count": null,
   "metadata": {},
   "outputs": [],
   "source": []
  },
  {
   "cell_type": "code",
   "execution_count": null,
   "metadata": {},
   "outputs": [],
   "source": []
  }
 ],
 "metadata": {
  "kernelspec": {
   "display_name": "Python 3",
   "language": "python",
   "name": "python3"
  },
  "language_info": {
   "codemirror_mode": {
    "name": "ipython",
    "version": 3
   },
   "file_extension": ".py",
   "mimetype": "text/x-python",
   "name": "python",
   "nbconvert_exporter": "python",
   "pygments_lexer": "ipython3",
   "version": "3.11.5"
  }
 },
 "nbformat": 4,
 "nbformat_minor": 2
}
