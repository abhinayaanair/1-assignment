{
 "cells": [
  {
   "cell_type": "markdown",
   "metadata": {},
   "source": [
    "# **THEORETICAL**"
   ]
  },
  {
   "cell_type": "markdown",
   "metadata": {},
   "source": [
    "1. **What is the primary goal of Natural Language Processing (NLP)?**\n",
    "\n",
    "NLP aims to enable machines to understand, interpret, and respond to human language in a meaningful way, facilitating tasks such as translation, sentiment analysis, and text summarization."
   ]
  },
  {
   "cell_type": "markdown",
   "metadata": {},
   "source": [
    "2. **What does \"tokenization\" refer to in text processing?**\n",
    "\n",
    "Tokenization is the process of splitting text into smaller units, like words, phrases, or sentences, which are called tokens. These tokens are used as inputs for NLP tasks."
   ]
  },
  {
   "cell_type": "markdown",
   "metadata": {},
   "source": [
    "3. **What is the difference between lemmatization and stemming?**\n",
    "\n",
    "Stemming reduces words to their root form by removing suffixes (e.g., \"running\" → \"run\"), often leading to non-standard forms. Lemmatization, however, uses a vocabulary to return the base or dictionary form of a word (e.g., \"better\" → \"good\").\n",
    "\n"
   ]
  },
  {
   "cell_type": "markdown",
   "metadata": {},
   "source": [
    "4. **What is the role of regular expressions (regex) in text processing?**\n",
    "\n",
    "Regex is used to search, match, and manipulate text by defining patterns, making tasks like data cleaning, extraction, and formatting efficient"
   ]
  },
  {
   "cell_type": "markdown",
   "metadata": {},
   "source": [
    "5. **What is Word2Vec, and how does it represent words in a vector space?**\n",
    "\n",
    "Word2Vec is a neural network model that represents words as dense vectors in a high-dimensional space. It captures semantic relationships, such as synonyms being close in the vector space."
   ]
  },
  {
   "cell_type": "markdown",
   "metadata": {},
   "source": [
    "6. **How does frequency distribution help in text analysis?**\n",
    "\n",
    "Frequency distribution identifies the occurrence of words or tokens in a dataset, helping to determine the importance or relevance of terms and their patterns."
   ]
  },
  {
   "cell_type": "markdown",
   "metadata": {},
   "source": [
    "7. **Why is text normalization important in NLP?**\n",
    "\n",
    "Text normalization ensures consistency by converting text into a standard format, reducing noise. Techniques include lowercasing, removing punctuation, and stemming/lemmatization."
   ]
  },
  {
   "cell_type": "markdown",
   "metadata": {},
   "source": [
    "8. **What is the difference between sentence tokenization and word tokenization?**\n",
    "\n",
    "Sentence tokenization divides text into sentences, while word tokenization splits sentences into individual words or tokens."
   ]
  },
  {
   "cell_type": "markdown",
   "metadata": {},
   "source": [
    "9. **What are co-occurrence vectors in NLP?**\n",
    "\n",
    "Co-occurrence vectors represent the frequency with which words appear together within a specified context, revealing relationships and meanings."
   ]
  },
  {
   "cell_type": "markdown",
   "metadata": {},
   "source": [
    "10. **What is the significance of lemmatization in improving NLP tasks?**\n",
    "\n",
    "Lemmatization improves accuracy by reducing words to their meaningful base forms, aiding in semantic understanding for tasks like search or chatbots."
   ]
  },
  {
   "cell_type": "markdown",
   "metadata": {},
   "source": [
    "11. **What is the primary use of word embeddings in NLP?**\n",
    "\n",
    "Word embeddings represent words in a continuous vector space, capturing semantic meanings and improving performance in tasks like sentiment analysis and translation."
   ]
  },
  {
   "cell_type": "markdown",
   "metadata": {},
   "source": [
    "12. **What is an annotator in NLP?**\n",
    "\n",
    "An annotator labels text data with relevant information, such as parts of speech, named entities, or syntactic dependencies, crucial for supervised learning tasks."
   ]
  },
  {
   "cell_type": "markdown",
   "metadata": {},
   "source": [
    "13. **What are the key steps in text processing before applying machine learning models?**\n",
    "\n",
    "Key steps include text cleaning, tokenization, normalization, lemmatization/stemming, stop-word removal, and feature extraction."
   ]
  },
  {
   "cell_type": "markdown",
   "metadata": {},
   "source": [
    "14. **What is the history of NLP, and how has it evolved?**\n",
    "\n",
    "NLP evolved from rule-based methods in the 1950s to statistical models in the 1990s, and now to neural networks and deep learning."
   ]
  },
  {
   "cell_type": "markdown",
   "metadata": {},
   "source": [
    "15. **Why is sentence processing important in NLP?**\n",
    "\n",
    "Sentence processing preserves grammatical and semantic context, improving the understanding of text for downstream tasks like summarization or translation."
   ]
  },
  {
   "cell_type": "markdown",
   "metadata": {},
   "source": [
    "16. **How do word embeddings improve the understanding of language semantics in NLP?**\n",
    "\n",
    "Word embeddings capture relationships between words by mapping them to vectors in a continuous space, reflecting semantic similarity and context."
   ]
  },
  {
   "cell_type": "markdown",
   "metadata": {},
   "source": [
    "17. **How does the frequency distribution of words help in text classification?**\n",
    "\n",
    "It helps identify significant features, such as commonly occurring words in specific categories, aiding model training.\n",
    "\n"
   ]
  },
  {
   "cell_type": "markdown",
   "metadata": {},
   "source": [
    "18. **What are the advantages of using regex in text cleaning?**\n",
    "\n",
    "Regex provides a flexible and efficient way to clean text by defining patterns to identify unwanted elements like noise or specific data formats."
   ]
  },
  {
   "cell_type": "markdown",
   "metadata": {},
   "source": [
    "19. **What is the difference between Word2Vec and Doc2Vec?**\n",
    "\n",
    "Word2Vec represents individual words, while Doc2Vec represents entire documents, capturing the context of a text beyond word-level semantics."
   ]
  },
  {
   "cell_type": "markdown",
   "metadata": {},
   "source": [
    "20. **Why is understanding text normalization important in NLP?**\n",
    "\n",
    "It ensures consistency and improves model performance by handling variations like casing, misspellings, or irrelevant formatting."
   ]
  },
  {
   "cell_type": "markdown",
   "metadata": {},
   "source": [
    "21. **How does word count help in text analysis?**\n",
    "\n",
    "Word count reveals text length, frequency patterns, and highlights key topics, assisting in summarization and keyword extraction."
   ]
  },
  {
   "cell_type": "markdown",
   "metadata": {},
   "source": [
    "22. **How does lemmatization help in NLP tasks like search engines and chatbots?**\n",
    "\n",
    "Lemmatization improves query matching and response accuracy by standardizing words to their meaningful base forms.\n",
    "\n"
   ]
  },
  {
   "cell_type": "markdown",
   "metadata": {},
   "source": [
    "23. **What is the purpose of using Doc2Vec in text processing?**\n",
    "\n",
    "Doc2Vec creates fixed-length representations for documents, making it useful for tasks like document similarity or classification."
   ]
  },
  {
   "cell_type": "markdown",
   "metadata": {},
   "source": [
    "24. **What is text normalization, and what are the common techniques used in it?**\n",
    "\n",
    "Text normalization converts text into a standard format. Techniques include lowercasing, removing stop words, stemming, and lemmatization.\n",
    "\n"
   ]
  },
  {
   "cell_type": "markdown",
   "metadata": {},
   "source": [
    "25. **Why is word tokenization important in NLP?**\n",
    "\n",
    "It breaks text into manageable units, allowing models to analyze and process words individually for meaningful predictions."
   ]
  },
  {
   "cell_type": "markdown",
   "metadata": {},
   "source": [
    "26. **How does sentence tokenization differ from word tokenization in NLP?**\n",
    "\n",
    "Sentence tokenization splits text into sentences, while word tokenization divides sentences into words."
   ]
  },
  {
   "cell_type": "markdown",
   "metadata": {},
   "source": [
    "27. **What is the primary purpose of text processing in NLP?**\n",
    "\n",
    "It prepares raw text for analysis by cleaning, structuring, and extracting relevant features for better model performance."
   ]
  },
  {
   "cell_type": "markdown",
   "metadata": {},
   "source": [
    "28. **What are the key challenges in NLP?**\n",
    "\n",
    "Challenges include ambiguity, context understanding, handling low-resource languages, and processing noisy or unstructured data."
   ]
  },
  {
   "cell_type": "markdown",
   "metadata": {},
   "source": [
    "29. **How do co-occurrence vectors represent relationships between words?**\n",
    "\n",
    "Co-occurrence vectors show how often words appear together in a context, revealing their associations and meanings."
   ]
  },
  {
   "cell_type": "markdown",
   "metadata": {},
   "source": [
    "30. **What is the impact of word embeddings on NLP tasks?**\n",
    "\n",
    "Word embeddings enhance performance by capturing semantic and syntactic relationships, enabling better context understanding."
   ]
  },
  {
   "cell_type": "markdown",
   "metadata": {},
   "source": [
    "31. **What is the purpose of using lemmatization in text preprocessing?**\n",
    "\n",
    "Lemmatization standardizes words to their base forms, improving text consistency and model accuracy."
   ]
  },
  {
   "cell_type": "markdown",
   "metadata": {},
   "source": [
    "# **PRACTICAL**"
   ]
  },
  {
   "cell_type": "code",
   "execution_count": 1,
   "metadata": {},
   "outputs": [
    {
     "name": "stdout",
     "output_type": "stream",
     "text": [
      "Collecting nltk\n",
      "  Using cached nltk-3.9.1-py3-none-any.whl.metadata (2.9 kB)\n",
      "Requirement already satisfied: click in c:\\users\\abhin\\anaconda3\\envs\\assignment_env\\lib\\site-packages (from nltk) (8.1.7)\n",
      "Collecting joblib (from nltk)\n",
      "  Using cached joblib-1.4.2-py3-none-any.whl.metadata (5.4 kB)\n",
      "Collecting regex>=2021.8.3 (from nltk)\n",
      "  Using cached regex-2024.11.6-cp39-cp39-win_amd64.whl.metadata (41 kB)\n",
      "Requirement already satisfied: tqdm in c:\\users\\abhin\\anaconda3\\envs\\assignment_env\\lib\\site-packages (from nltk) (4.67.1)\n",
      "Requirement already satisfied: colorama in c:\\users\\abhin\\anaconda3\\envs\\assignment_env\\lib\\site-packages (from click->nltk) (0.4.6)\n",
      "Using cached nltk-3.9.1-py3-none-any.whl (1.5 MB)\n",
      "Using cached regex-2024.11.6-cp39-cp39-win_amd64.whl (274 kB)\n",
      "Using cached joblib-1.4.2-py3-none-any.whl (301 kB)\n",
      "Installing collected packages: regex, joblib, nltk\n",
      "Successfully installed joblib-1.4.2 nltk-3.9.1 regex-2024.11.6\n",
      "Note: you may need to restart the kernel to use updated packages.\n"
     ]
    }
   ],
   "source": [
    "pip install nltk"
   ]
  },
  {
   "cell_type": "code",
   "execution_count": 2,
   "metadata": {},
   "outputs": [
    {
     "name": "stderr",
     "output_type": "stream",
     "text": [
      "[nltk_data] Downloading package punkt to C:\\Users\\abhin/nltk_data...\n",
      "[nltk_data]   Package punkt is already up-to-date!\n"
     ]
    },
    {
     "name": "stdout",
     "output_type": "stream",
     "text": [
      "['Hello', ',', 'world', '!', 'How', 'are', 'you', 'doing', 'today', '?']\n"
     ]
    }
   ],
   "source": [
    "#1. How can you perform word tokenization using NLTK\n",
    "import nltk\n",
    "from nltk.tokenize import word_tokenize\n",
    "\n",
    "# Download the necessary data for tokenization\n",
    "nltk.download('punkt')\n",
    "\n",
    "# Input text\n",
    "text = \"Hello, world! How are you doing today?\"\n",
    "\n",
    "# Perform word tokenization\n",
    "tokens = word_tokenize(text)\n",
    "\n",
    "# Display the tokens\n",
    "print(tokens)\n",
    "\n"
   ]
  },
  {
   "cell_type": "code",
   "execution_count": 5,
   "metadata": {},
   "outputs": [
    {
     "name": "stdout",
     "output_type": "stream",
     "text": [
      "['Hello, world!', 'How are you doing today?']\n"
     ]
    }
   ],
   "source": [
    "#2. How can you perform sentence tokenization using NLTK:\n",
    "\n",
    "from nltk.tokenize import sent_tokenize\n",
    "\n",
    "tokens=sent_tokenize(text)\n",
    "\n",
    "print(tokens)"
   ]
  },
  {
   "cell_type": "code",
   "execution_count": 19,
   "metadata": {},
   "outputs": [
    {
     "name": "stdout",
     "output_type": "stream",
     "text": [
      "['i', 'me', 'my', 'myself', 'we', 'our', 'ours', 'ourselves', 'you', \"you're\", \"you've\", \"you'll\", \"you'd\", 'your', 'yours', 'yourself', 'yourselves', 'he', 'him', 'his', 'himself', 'she', \"she's\", 'her', 'hers', 'herself', 'it', \"it's\", 'its', 'itself', 'they', 'them', 'their', 'theirs', 'themselves', 'what', 'which', 'who', 'whom', 'this', 'that', \"that'll\", 'these', 'those', 'am', 'is', 'are', 'was', 'were', 'be', 'been', 'being', 'have', 'has', 'had', 'having', 'do', 'does', 'did', 'doing', 'a', 'an', 'the', 'and', 'but', 'if', 'or', 'because', 'as', 'until', 'while', 'of', 'at', 'by', 'for', 'with', 'about', 'against', 'between', 'into', 'through', 'during', 'before', 'after', 'above', 'below', 'to', 'from', 'up', 'down', 'in', 'out', 'on', 'off', 'over', 'under', 'again', 'further', 'then', 'once', 'here', 'there', 'when', 'where', 'why', 'how', 'all', 'any', 'both', 'each', 'few', 'more', 'most', 'other', 'some', 'such', 'no', 'nor', 'not', 'only', 'own', 'same', 'so', 'than', 'too', 'very', 's', 't', 'can', 'will', 'just', 'don', \"don't\", 'should', \"should've\", 'now', 'd', 'll', 'm', 'o', 're', 've', 'y', 'ain', 'aren', \"aren't\", 'couldn', \"couldn't\", 'didn', \"didn't\", 'doesn', \"doesn't\", 'hadn', \"hadn't\", 'hasn', \"hasn't\", 'haven', \"haven't\", 'isn', \"isn't\", 'ma', 'mightn', \"mightn't\", 'mustn', \"mustn't\", 'needn', \"needn't\", 'shan', \"shan't\", 'shouldn', \"shouldn't\", 'wasn', \"wasn't\", 'weren', \"weren't\", 'won', \"won't\", 'wouldn', \"wouldn't\"]\n",
      "['Hello', ',', 'world', '!', 'How', 'are', 'you', 'doing', 'today', '?']\n",
      "['Hello', ',', 'world', '!', 'How', 'you', 'today', '?']\n"
     ]
    },
    {
     "name": "stderr",
     "output_type": "stream",
     "text": [
      "[nltk_data] Downloading package stopwords to\n",
      "[nltk_data]     C:\\Users\\abhin/nltk_data...\n",
      "[nltk_data]   Package stopwords is already up-to-date!\n"
     ]
    }
   ],
   "source": [
    "#3. How can you remove stopwords from a sentence?\n",
    "\n",
    "from nltk.corpus import stopwords\n",
    " \n",
    "nltk.download('stopwords')\n",
    "stopword=stopwords.words('english')\n",
    "print(stopwords.words('english'))\n",
    "\n",
    "\n",
    "tokens = word_tokenize(text)\n",
    "\n",
    "# Display the tokens\n",
    "print(tokens)\n",
    "for char in tokens:\n",
    "    if char in stopword:\n",
    "        tokens.remove(char)\n",
    "\n",
    "\n",
    "print(tokens)\n"
   ]
  },
  {
   "cell_type": "code",
   "execution_count": 20,
   "metadata": {},
   "outputs": [
    {
     "name": "stdout",
     "output_type": "stream",
     "text": [
      "hello\n",
      ",\n",
      "world\n",
      "!\n",
      "how\n",
      "you\n",
      "today\n",
      "?\n"
     ]
    }
   ],
   "source": [
    "#4. How can you perform stemming on a word?\n",
    "\n",
    "from nltk.stem import PorterStemmer\n",
    "ps = PorterStemmer()\n",
    "\n",
    "for x in tokens:\n",
    "    print(ps.stem(x))\n",
    "\n"
   ]
  },
  {
   "cell_type": "code",
   "execution_count": 22,
   "metadata": {},
   "outputs": [
    {
     "name": "stdout",
     "output_type": "stream",
     "text": [
      "rocks : rock\n",
      "corpora : corpus\n",
      "better : good\n"
     ]
    }
   ],
   "source": [
    "#5. How can you perform lemmatization on a word?\n",
    "from nltk.stem import WordNetLemmatizer\n",
    "\n",
    "lemmatizer = WordNetLemmatizer()\n",
    " \n",
    "print(\"rocks :\", lemmatizer.lemmatize(\"rocks\"))\n",
    "print(\"corpora :\", lemmatizer.lemmatize(\"corpora\"))\n",
    " \n",
    "# a denotes adjective in \"pos\"\n",
    "print(\"better :\", lemmatizer.lemmatize(\"better\", pos=\"a\"))"
   ]
  },
  {
   "cell_type": "code",
   "execution_count": 28,
   "metadata": {},
   "outputs": [
    {
     "name": "stdout",
     "output_type": "stream",
     "text": [
      "['hello', 'world', 'how', 'are', 'you', 'doing', 'today']\n"
     ]
    }
   ],
   "source": [
    "#6.  How can you normalize a text by converting it to lowercase and removing punctuation\n",
    "import re\n",
    "text = \"Hello, world! How are you doing today?\"\n",
    "normalize_text=\"\"\n",
    "for char in text:\n",
    "    normalize_text+= char.lower()\n",
    "\n",
    "tokens = word_tokenize(normalize_text)\n",
    "\n",
    "cleaned_tokens = [re.sub(r'[^\\w\\s]', '', token) for token in tokens if re.sub(r'[^\\w\\s]', '', token)]\n",
    "print(cleaned_tokens)"
   ]
  },
  {
   "cell_type": "code",
   "execution_count": 29,
   "metadata": {},
   "outputs": [
    {
     "name": "stdout",
     "output_type": "stream",
     "text": [
      "Vocabulary: ['fascinating', 'language', 'learning', 'love', 'natural', 'new', 'nlp', 'processing', 'things']\n",
      "\n",
      "Co-occurrence Matrix:\n",
      "[[0 1 0 0 0 0 0 1 0]\n",
      " [1 0 0 1 1 0 0 2 0]\n",
      " [0 0 0 1 0 1 0 0 1]\n",
      " [0 1 1 0 1 1 0 0 0]\n",
      " [0 1 0 1 0 0 0 1 0]\n",
      " [0 0 1 1 0 0 1 0 1]\n",
      " [0 0 0 0 0 1 0 0 1]\n",
      " [1 2 0 0 1 0 0 0 0]\n",
      " [0 0 1 0 0 1 1 0 0]]\n"
     ]
    },
    {
     "name": "stderr",
     "output_type": "stream",
     "text": [
      "[nltk_data] Downloading package punkt to C:\\Users\\abhin/nltk_data...\n",
      "[nltk_data]   Package punkt is already up-to-date!\n",
      "[nltk_data] Downloading package stopwords to\n",
      "[nltk_data]     C:\\Users\\abhin/nltk_data...\n",
      "[nltk_data]   Package stopwords is already up-to-date!\n"
     ]
    }
   ],
   "source": [
    "#7. How can you create a co-occurrence matrix for words in a corpus?\n",
    "\n",
    "import numpy as np\n",
    "from collections import Counter\n",
    "from nltk.tokenize import word_tokenize\n",
    "from nltk.corpus import stopwords\n",
    "import string\n",
    "import nltk\n",
    "\n",
    "# Download NLTK resources\n",
    "nltk.download('punkt')\n",
    "nltk.download('stopwords')\n",
    "\n",
    "# Input text corpus\n",
    "corpus = [\n",
    "    \"I love natural language processing.\",\n",
    "    \"Language processing is fascinating.\",\n",
    "    \"I love learning new things about NLP.\"\n",
    "]\n",
    "\n",
    "# Parameters\n",
    "window_size = 2  # Context window size\n",
    "\n",
    "# Preprocessing\n",
    "stop_words = set(stopwords.words('english'))\n",
    "corpus = [word_tokenize(doc.lower()) for doc in corpus]\n",
    "corpus = [[word for word in doc if word not in stop_words and word not in string.punctuation] for doc in corpus]\n",
    "\n",
    "# Build vocabulary\n",
    "vocab = sorted(set(word for doc in corpus for word in doc))\n",
    "word_to_index = {word: i for i, word in enumerate(vocab)}\n",
    "\n",
    "# Initialize co-occurrence matrix\n",
    "co_matrix = np.zeros((len(vocab), len(vocab)), dtype=int)\n",
    "\n",
    "# Populate the matrix\n",
    "for doc in corpus:\n",
    "    for i, word in enumerate(doc):\n",
    "        word_idx = word_to_index[word]\n",
    "        # Define the context window\n",
    "        start = max(i - window_size, 0)\n",
    "        end = min(i + window_size + 1, len(doc))\n",
    "        for j in range(start, end):\n",
    "            if i != j:  # Exclude the word itself\n",
    "                co_matrix[word_idx, word_to_index[doc[j]]] += 1\n",
    "\n",
    "# Display the matrix\n",
    "print(\"Vocabulary:\", vocab)\n",
    "print(\"\\nCo-occurrence Matrix:\")\n",
    "print(co_matrix)\n"
   ]
  },
  {
   "cell_type": "code",
   "execution_count": 35,
   "metadata": {},
   "outputs": [
    {
     "name": "stdout",
     "output_type": "stream",
     "text": [
      "['abc@gmail.com', 'abc@yahoo.com']\n"
     ]
    }
   ],
   "source": [
    "#8. How can you apply a regular expression to extract all email addresses from a text?\n",
    "\n",
    "import re\n",
    "\n",
    "text = \"abc@gmail.com, abc@yahoo.com,hii\"\n",
    "\n",
    "# Regular expression to match email addresses\n",
    "pattern = r'[a-zA-Z0-9._%+-]+@[a-zA-Z0-9.-]+\\.[a-zA-Z]{2,}'\n",
    "\n",
    "# Use re.findall to extract all matching email addresses\n",
    "emails = re.findall(pattern, text)\n",
    "\n",
    "print(emails)\n"
   ]
  },
  {
   "cell_type": "code",
   "execution_count": 38,
   "metadata": {},
   "outputs": [
    {
     "name": "stdout",
     "output_type": "stream",
     "text": [
      "Collecting gensim\n",
      "  Downloading gensim-4.3.3-cp39-cp39-win_amd64.whl.metadata (8.2 kB)\n",
      "Requirement already satisfied: numpy<2.0,>=1.18.5 in c:\\users\\abhin\\anaconda3\\envs\\assignment_env\\lib\\site-packages (from gensim) (1.26.4)\n",
      "Requirement already satisfied: scipy<1.14.0,>=1.7.0 in c:\\users\\abhin\\anaconda3\\envs\\assignment_env\\lib\\site-packages (from gensim) (1.13.1)\n",
      "Collecting smart-open>=1.8.1 (from gensim)\n",
      "  Downloading smart_open-7.1.0-py3-none-any.whl.metadata (24 kB)\n",
      "Requirement already satisfied: wrapt in c:\\users\\abhin\\anaconda3\\envs\\assignment_env\\lib\\site-packages (from smart-open>=1.8.1->gensim) (1.17.0)\n",
      "Downloading gensim-4.3.3-cp39-cp39-win_amd64.whl (24.0 MB)\n",
      "   ---------------------------------------- 0.0/24.0 MB ? eta -:--:--\n",
      "   - -------------------------------------- 1.0/24.0 MB 7.2 MB/s eta 0:00:04\n",
      "   ---- ----------------------------------- 2.6/24.0 MB 7.9 MB/s eta 0:00:03\n",
      "   ------ --------------------------------- 4.2/24.0 MB 7.9 MB/s eta 0:00:03\n",
      "   --------- ------------------------------ 5.5/24.0 MB 7.8 MB/s eta 0:00:03\n",
      "   ------------ --------------------------- 7.3/24.0 MB 7.7 MB/s eta 0:00:03\n",
      "   -------------- ------------------------- 8.7/24.0 MB 7.4 MB/s eta 0:00:03\n",
      "   --------------- ------------------------ 9.4/24.0 MB 6.8 MB/s eta 0:00:03\n",
      "   ---------------- ----------------------- 10.0/24.0 MB 6.4 MB/s eta 0:00:03\n",
      "   ----------------- ---------------------- 10.2/24.0 MB 5.9 MB/s eta 0:00:03\n",
      "   ----------------- ---------------------- 10.5/24.0 MB 5.4 MB/s eta 0:00:03\n",
      "   ----------------- ---------------------- 10.7/24.0 MB 5.0 MB/s eta 0:00:03\n",
      "   ------------------ --------------------- 11.3/24.0 MB 4.6 MB/s eta 0:00:03\n",
      "   ------------------- -------------------- 11.5/24.0 MB 4.5 MB/s eta 0:00:03\n",
      "   -------------------- ------------------- 12.1/24.0 MB 4.3 MB/s eta 0:00:03\n",
      "   -------------------- ------------------- 12.6/24.0 MB 4.1 MB/s eta 0:00:03\n",
      "   --------------------- ------------------ 13.1/24.0 MB 4.0 MB/s eta 0:00:03\n",
      "   ----------------------- ---------------- 13.9/24.0 MB 4.0 MB/s eta 0:00:03\n",
      "   ------------------------ --------------- 14.4/24.0 MB 3.9 MB/s eta 0:00:03\n",
      "   ------------------------- -------------- 15.2/24.0 MB 3.9 MB/s eta 0:00:03\n",
      "   -------------------------- ------------- 16.0/24.0 MB 3.9 MB/s eta 0:00:03\n",
      "   --------------------------- ------------ 16.8/24.0 MB 3.9 MB/s eta 0:00:02\n",
      "   ----------------------------- ---------- 17.6/24.0 MB 3.9 MB/s eta 0:00:02\n",
      "   ------------------------------ --------- 18.4/24.0 MB 3.9 MB/s eta 0:00:02\n",
      "   ------------------------------- -------- 19.1/24.0 MB 3.9 MB/s eta 0:00:02\n",
      "   --------------------------------- ------ 20.2/24.0 MB 3.9 MB/s eta 0:00:01\n",
      "   ---------------------------------- ----- 20.7/24.0 MB 3.9 MB/s eta 0:00:01\n",
      "   ------------------------------------ --- 21.8/24.0 MB 3.9 MB/s eta 0:00:01\n",
      "   ------------------------------------- -- 22.5/24.0 MB 3.9 MB/s eta 0:00:01\n",
      "   -------------------------------------- - 23.3/24.0 MB 3.9 MB/s eta 0:00:01\n",
      "   ---------------------------------------- 24.0/24.0 MB 3.9 MB/s eta 0:00:00\n",
      "Downloading smart_open-7.1.0-py3-none-any.whl (61 kB)\n",
      "Installing collected packages: smart-open, gensim\n",
      "Successfully installed gensim-4.3.3 smart-open-7.1.0\n",
      "Note: you may need to restart the kernel to use updated packages.\n"
     ]
    }
   ],
   "source": [
    "pip install gensim"
   ]
  },
  {
   "cell_type": "code",
   "execution_count": 41,
   "metadata": {},
   "outputs": [
    {
     "name": "stdout",
     "output_type": "stream",
     "text": [
      "[['word', 'embeddings', 'type', 'word', 'representation', 'allows', 'words', 'similar', 'meaning', 'similar', 'representation'], ['word2vec', 'two-layer', 'neural', 'network']]\n",
      "[ 8.13227147e-03 -4.45733406e-03 -1.06835726e-03  1.00636482e-03\n",
      " -1.91113955e-04  1.14817743e-03  6.11386076e-03 -2.02715401e-05\n",
      " -3.24596534e-03 -1.51072862e-03  5.89729892e-03  1.51410222e-03\n",
      " -7.24261976e-04  9.33324732e-03 -4.92128357e-03 -8.38409644e-04\n",
      "  9.17541143e-03  6.74942741e-03  1.50285603e-03 -8.88256077e-03\n",
      "  1.14874600e-03 -2.28825561e-03  9.36823711e-03  1.20992784e-03\n",
      "  1.49006362e-03  2.40640994e-03 -1.83600665e-03 -4.99963388e-03\n",
      "  2.32429506e-04 -2.01418041e-03  6.60093315e-03  8.94012302e-03\n",
      " -6.74754381e-04  2.97701475e-03 -6.10765442e-03  1.69932481e-03\n",
      " -6.92623248e-03 -8.69402662e-03 -5.90020278e-03 -8.95647518e-03\n",
      "  7.27759488e-03 -5.77203138e-03  8.27635173e-03 -7.24354526e-03\n",
      "  3.42167495e-03  9.67499893e-03 -7.78544787e-03 -9.94505733e-03\n",
      " -4.32914635e-03 -2.68313056e-03 -2.71289347e-04 -8.83155130e-03\n",
      " -8.61755759e-03  2.80021061e-03 -8.20640661e-03 -9.06933658e-03\n",
      " -2.34046578e-03 -8.63180775e-03 -7.05664977e-03 -8.40115082e-03\n",
      " -3.01328895e-04 -4.56429832e-03  6.62717456e-03  1.52716041e-03\n",
      " -3.34147573e-03  6.10897178e-03 -6.01328490e-03 -4.65616956e-03\n",
      " -7.20750913e-03 -4.33658017e-03 -1.80932996e-03  6.48964290e-03\n",
      " -2.77039292e-03  4.91896737e-03  6.90444233e-03 -7.46370573e-03\n",
      "  4.56485013e-03  6.12697843e-03 -2.95447465e-03  6.62502181e-03\n",
      "  6.12587947e-03 -6.44348515e-03 -6.76455162e-03  2.53895880e-03\n",
      " -1.62381888e-03 -6.06512791e-03  9.49920900e-03 -5.13014663e-03\n",
      " -6.55409694e-03 -1.19885204e-04 -2.70142802e-03  4.44400299e-04\n",
      " -3.53745813e-03 -4.19330609e-04 -7.08615757e-04  8.22820642e-04\n",
      "  8.19481723e-03 -5.73670724e-03 -1.65952800e-03  5.57160750e-03]\n",
      "[('words', 0.19951613247394562), ('embeddings', 0.17275308072566986), ('neural', 0.17015796899795532), ('word2vec', 0.14596611261367798), ('two-layer', 0.0640842393040657)]\n"
     ]
    }
   ],
   "source": [
    "#9. : How can you perform word embedding using Word2Vec?\n",
    "from nltk.tokenize import word_tokenize\n",
    "from nltk.corpus import stopwords\n",
    "import string\n",
    "\n",
    "# Sample text\n",
    "corpus = [\n",
    "    \"Word embeddings are a type of word representation that allows words with similar meaning to have a similar representation.\",\n",
    "    \"Word2Vec is a two-layer neural network.\"\n",
    "]\n",
    "\n",
    "# Tokenize and preprocess\n",
    "processed_corpus = []\n",
    "stop_words = set(stopwords.words(\"english\"))\n",
    "\n",
    "for sentence in corpus:\n",
    "    tokens = word_tokenize(sentence.lower())\n",
    "    tokens = [word for word in tokens if word not in stop_words and word not in string.punctuation]\n",
    "    processed_corpus.append(tokens)\n",
    "\n",
    "print(processed_corpus)\n",
    "\n",
    "from gensim.models import Word2Vec\n",
    "\n",
    "# Train Word2Vec model\n",
    "model = Word2Vec(sentences=processed_corpus, vector_size=100, window=5, min_count=1, sg=1)  # sg=1 for Skip-Gram\n",
    "\n",
    "# Save the model\n",
    "model.save(\"word2vec.model\")\n",
    "\n",
    "# Load the model\n",
    "model = Word2Vec.load(\"word2vec.model\")\n",
    "\n",
    "# Get the vector for a word\n",
    "word_vector = model.wv[\"word2vec\"]  # Replace 'word2vec' with any word in your vocabulary\n",
    "print(word_vector)\n",
    "\n",
    "# Find similar words\n",
    "similar_words = model.wv.most_similar(\"word\", topn=5)\n",
    "print(similar_words)\n"
   ]
  },
  {
   "cell_type": "code",
   "execution_count": 46,
   "metadata": {},
   "outputs": [
    {
     "name": "stdout",
     "output_type": "stream",
     "text": [
      "[-3.1869079e-03  1.4356810e-03 -7.0191367e-04  2.8874034e-03\n",
      " -3.4659742e-03 -2.7936087e-03 -1.0352881e-03 -2.7252214e-03\n",
      " -4.1071456e-03  1.7943596e-03  1.3235278e-04 -1.7138472e-03\n",
      " -5.1885014e-03 -2.0671624e-03 -3.4049493e-03  5.8595202e-04\n",
      " -1.8258099e-03 -5.8258040e-04 -1.5010035e-05 -5.2585220e-03\n",
      "  1.0673769e-03 -7.3448342e-04 -6.1709789e-04  4.4508246e-03\n",
      " -5.1288228e-03 -1.2450522e-03 -2.9584689e-03 -1.8150475e-03\n",
      " -4.2175758e-03  3.6633262e-04 -3.2818776e-03  1.6365347e-03\n",
      "  4.7468212e-03 -6.4397245e-03  2.7811602e-03 -3.5659429e-03\n",
      "  4.4500744e-03 -5.7846005e-03 -1.3143548e-03 -2.6828861e-03\n",
      " -2.5027157e-03  2.6898708e-03 -5.8403984e-04 -4.8826370e-04\n",
      "  1.2097222e-03 -1.9689337e-03  1.7114119e-03 -2.1633836e-03\n",
      " -1.2357481e-04 -4.6707401e-03  2.2150103e-03 -1.5692430e-03\n",
      " -1.4587210e-03 -5.1167859e-03  5.3673470e-05 -1.5675714e-03\n",
      "  3.4580785e-03  5.1236777e-03 -3.2806403e-03  1.9407374e-03\n",
      "  1.3701223e-03 -5.2977400e-04  6.5556285e-03  1.6704669e-03\n",
      " -2.7113240e-03  4.0116007e-03 -2.9830646e-03 -3.7055612e-03\n",
      " -4.1519562e-03 -4.9066488e-03 -3.2142214e-03  5.2592729e-04\n",
      " -5.3295423e-04  2.8320749e-03  2.2748145e-03 -4.1188612e-03\n",
      "  3.3041064e-03 -3.1705529e-03  3.8242072e-03 -3.9167195e-03\n",
      "  2.6603094e-03  3.9016572e-03  1.2086822e-03  3.7878612e-03\n",
      "  3.0858358e-03  1.9967563e-03  8.6543296e-04  2.2934484e-03\n",
      "  1.3496029e-03  1.0197900e-03 -5.3504352e-03  4.6459381e-03\n",
      " -2.4308856e-03 -2.5642978e-03  3.8684933e-03  8.8992197e-04\n",
      " -3.5666581e-03  3.2558632e-03  3.9246823e-03  5.0821798e-03]\n",
      "[('0', 0.326983243227005), ('2', 0.2665003836154938)]\n"
     ]
    }
   ],
   "source": [
    "#10: How can you use Doc2Vec to embed documents\n",
    "import gensim\n",
    "from gensim.models.doc2vec import Doc2Vec, TaggedDocument\n",
    "from nltk.tokenize import word_tokenize\n",
    "\n",
    "# Sample corpus\n",
    "corpus = [\n",
    "    \"Doc2Vec is a model that learns vector representations for entire documents.\",\n",
    "    \"It is an extension of the Word2Vec model.\",\n",
    "    \"Doc2Vec works by tagging each document with a unique identifier.\"\n",
    "]\n",
    "\n",
    "# Preprocess and tag the documents\n",
    "tagged_data = [TaggedDocument(words=word_tokenize(doc.lower()), tags=[str(i)]) for i, doc in enumerate(corpus)]\n",
    "\n",
    "# Train a Doc2Vec model\n",
    "model = Doc2Vec(vector_size=100, window=2, min_count=1, workers=4, epochs=100)\n",
    "\n",
    "# Build vocabulary from the tagged documents\n",
    "model.build_vocab(tagged_data)\n",
    "\n",
    "# Train the model\n",
    "model.train(tagged_data, total_examples=model.corpus_count, epochs=model.epochs)\n",
    "\n",
    "# Now you can infer the vector for a new document (not part of the training corpus)\n",
    "new_doc = \"Doc2Vec generates fixed-length vectors for variable-length documents.\"\n",
    "\n",
    "# Tokenize the new document\n",
    "new_vector = model.infer_vector(word_tokenize(new_doc.lower()))\n",
    "\n",
    "# Print the inferred vector for the new document\n",
    "print(new_vector)\n",
    "\n",
    "# Find the most similar documents to the new document\n",
    "similar_docs = model.dv.most_similar(new_vector, topn=2)\n",
    "print(similar_docs)\n"
   ]
  },
  {
   "cell_type": "code",
   "execution_count": 59,
   "metadata": {},
   "outputs": [
    {
     "name": "stdout",
     "output_type": "stream",
     "text": [
      "[('NLTK', 'NNP'), ('is', 'VBZ'), ('a', 'DT'), ('leading', 'VBG'), ('platform', 'NN'), ('for', 'IN'), ('building', 'VBG'), ('Python', 'NNP'), ('programs', 'NNS'), ('to', 'TO'), ('work', 'VB'), ('with', 'IN'), ('human', 'JJ'), ('language', 'NN'), ('data', 'NNS'), ('.', '.')]\n"
     ]
    }
   ],
   "source": [
    "#11. : How can you perform part-of-speech tagging\n",
    "import nltk\n",
    "from nltk.tokenize import word_tokenize\n",
    "from nltk import pos_tag\n",
    "\n",
    "# Sample sentence\n",
    "sentence = \"NLTK is a leading platform for building Python programs to work with human language data.\"\n",
    "\n",
    "# Tokenize and POS tagging\n",
    "tokens = word_tokenize(sentence)\n",
    "pos_tags = pos_tag(tokens)\n",
    "\n",
    "print(pos_tags)\n"
   ]
  },
  {
   "cell_type": "code",
   "execution_count": 60,
   "metadata": {},
   "outputs": [
    {
     "name": "stdout",
     "output_type": "stream",
     "text": [
      "Cosine Similarity: 0.4112070550676187\n"
     ]
    }
   ],
   "source": [
    "#12. How can you find the similarity between two sentences using cosine similarity\n",
    "from sklearn.feature_extraction.text import TfidfVectorizer\n",
    "from sklearn.metrics.pairwise import cosine_similarity\n",
    "\n",
    "# Sample sentences\n",
    "sentence1 = \"I love machine learning\"\n",
    "sentence2 = \"Machine learning is great\"\n",
    "\n",
    "# Vectorize the sentences\n",
    "vectorizer = TfidfVectorizer()\n",
    "tfidf_matrix = vectorizer.fit_transform([sentence1, sentence2])\n",
    "\n",
    "# Compute cosine similarity\n",
    "cosine_sim = cosine_similarity(tfidf_matrix[0:1], tfidf_matrix[1:2])\n",
    "\n",
    "print(f\"Cosine Similarity: {cosine_sim[0][0]}\")\n"
   ]
  },
  {
   "cell_type": "code",
   "execution_count": 61,
   "metadata": {},
   "outputs": [
    {
     "ename": "OSError",
     "evalue": "[E050] Can't find model 'en_core_web_sm'. It doesn't seem to be a Python package or a valid path to a data directory.",
     "output_type": "error",
     "traceback": [
      "\u001b[1;31m---------------------------------------------------------------------------\u001b[0m",
      "\u001b[1;31mOSError\u001b[0m                                   Traceback (most recent call last)",
      "Cell \u001b[1;32mIn[61], line 7\u001b[0m\n\u001b[0;32m      4\u001b[0m \u001b[38;5;28;01mimport\u001b[39;00m \u001b[38;5;21;01mspacy\u001b[39;00m\n\u001b[0;32m      6\u001b[0m \u001b[38;5;66;03m# Load pre-trained model\u001b[39;00m\n\u001b[1;32m----> 7\u001b[0m nlp \u001b[38;5;241m=\u001b[39m \u001b[43mspacy\u001b[49m\u001b[38;5;241;43m.\u001b[39;49m\u001b[43mload\u001b[49m\u001b[43m(\u001b[49m\u001b[38;5;124;43m\"\u001b[39;49m\u001b[38;5;124;43men_core_web_sm\u001b[39;49m\u001b[38;5;124;43m\"\u001b[39;49m\u001b[43m)\u001b[49m\n\u001b[0;32m      9\u001b[0m \u001b[38;5;66;03m# Sample sentence\u001b[39;00m\n\u001b[0;32m     10\u001b[0m sentence \u001b[38;5;241m=\u001b[39m \u001b[38;5;124m\"\u001b[39m\u001b[38;5;124mApple is planning to open a new store in New York City.\u001b[39m\u001b[38;5;124m\"\u001b[39m\n",
      "File \u001b[1;32mc:\\Users\\abhin\\anaconda3\\envs\\assignment_env\\lib\\site-packages\\spacy\\__init__.py:51\u001b[0m, in \u001b[0;36mload\u001b[1;34m(name, vocab, disable, enable, exclude, config)\u001b[0m\n\u001b[0;32m     27\u001b[0m \u001b[38;5;28;01mdef\u001b[39;00m \u001b[38;5;21mload\u001b[39m(\n\u001b[0;32m     28\u001b[0m     name: Union[\u001b[38;5;28mstr\u001b[39m, Path],\n\u001b[0;32m     29\u001b[0m     \u001b[38;5;241m*\u001b[39m,\n\u001b[1;32m   (...)\u001b[0m\n\u001b[0;32m     34\u001b[0m     config: Union[Dict[\u001b[38;5;28mstr\u001b[39m, Any], Config] \u001b[38;5;241m=\u001b[39m util\u001b[38;5;241m.\u001b[39mSimpleFrozenDict(),\n\u001b[0;32m     35\u001b[0m ) \u001b[38;5;241m-\u001b[39m\u001b[38;5;241m>\u001b[39m Language:\n\u001b[0;32m     36\u001b[0m \u001b[38;5;250m    \u001b[39m\u001b[38;5;124;03m\"\"\"Load a spaCy model from an installed package or a local path.\u001b[39;00m\n\u001b[0;32m     37\u001b[0m \n\u001b[0;32m     38\u001b[0m \u001b[38;5;124;03m    name (str): Package name or model path.\u001b[39;00m\n\u001b[1;32m   (...)\u001b[0m\n\u001b[0;32m     49\u001b[0m \u001b[38;5;124;03m    RETURNS (Language): The loaded nlp object.\u001b[39;00m\n\u001b[0;32m     50\u001b[0m \u001b[38;5;124;03m    \"\"\"\u001b[39;00m\n\u001b[1;32m---> 51\u001b[0m     \u001b[38;5;28;01mreturn\u001b[39;00m \u001b[43mutil\u001b[49m\u001b[38;5;241;43m.\u001b[39;49m\u001b[43mload_model\u001b[49m\u001b[43m(\u001b[49m\n\u001b[0;32m     52\u001b[0m \u001b[43m        \u001b[49m\u001b[43mname\u001b[49m\u001b[43m,\u001b[49m\n\u001b[0;32m     53\u001b[0m \u001b[43m        \u001b[49m\u001b[43mvocab\u001b[49m\u001b[38;5;241;43m=\u001b[39;49m\u001b[43mvocab\u001b[49m\u001b[43m,\u001b[49m\n\u001b[0;32m     54\u001b[0m \u001b[43m        \u001b[49m\u001b[43mdisable\u001b[49m\u001b[38;5;241;43m=\u001b[39;49m\u001b[43mdisable\u001b[49m\u001b[43m,\u001b[49m\n\u001b[0;32m     55\u001b[0m \u001b[43m        \u001b[49m\u001b[43menable\u001b[49m\u001b[38;5;241;43m=\u001b[39;49m\u001b[43menable\u001b[49m\u001b[43m,\u001b[49m\n\u001b[0;32m     56\u001b[0m \u001b[43m        \u001b[49m\u001b[43mexclude\u001b[49m\u001b[38;5;241;43m=\u001b[39;49m\u001b[43mexclude\u001b[49m\u001b[43m,\u001b[49m\n\u001b[0;32m     57\u001b[0m \u001b[43m        \u001b[49m\u001b[43mconfig\u001b[49m\u001b[38;5;241;43m=\u001b[39;49m\u001b[43mconfig\u001b[49m\u001b[43m,\u001b[49m\n\u001b[0;32m     58\u001b[0m \u001b[43m    \u001b[49m\u001b[43m)\u001b[49m\n",
      "File \u001b[1;32mc:\\Users\\abhin\\anaconda3\\envs\\assignment_env\\lib\\site-packages\\spacy\\util.py:472\u001b[0m, in \u001b[0;36mload_model\u001b[1;34m(name, vocab, disable, enable, exclude, config)\u001b[0m\n\u001b[0;32m    470\u001b[0m \u001b[38;5;28;01mif\u001b[39;00m name \u001b[38;5;129;01min\u001b[39;00m OLD_MODEL_SHORTCUTS:\n\u001b[0;32m    471\u001b[0m     \u001b[38;5;28;01mraise\u001b[39;00m \u001b[38;5;167;01mIOError\u001b[39;00m(Errors\u001b[38;5;241m.\u001b[39mE941\u001b[38;5;241m.\u001b[39mformat(name\u001b[38;5;241m=\u001b[39mname, full\u001b[38;5;241m=\u001b[39mOLD_MODEL_SHORTCUTS[name]))  \u001b[38;5;66;03m# type: ignore[index]\u001b[39;00m\n\u001b[1;32m--> 472\u001b[0m \u001b[38;5;28;01mraise\u001b[39;00m \u001b[38;5;167;01mIOError\u001b[39;00m(Errors\u001b[38;5;241m.\u001b[39mE050\u001b[38;5;241m.\u001b[39mformat(name\u001b[38;5;241m=\u001b[39mname))\n",
      "\u001b[1;31mOSError\u001b[0m: [E050] Can't find model 'en_core_web_sm'. It doesn't seem to be a Python package or a valid path to a data directory."
     ]
    }
   ],
   "source": [
    "#13.  How can you extract named entities from a sentence\n",
    "\n",
    "\n",
    "import spacy\n",
    "\n",
    "# Load pre-trained model\n",
    "nlp = spacy.load(\"en_core_web_sm\")\n",
    "\n",
    "# Sample sentence\n",
    "sentence = \"Apple is planning to open a new store in New York City.\"\n",
    "\n",
    "# Process the sentence\n",
    "doc = nlp(sentence)\n",
    "\n",
    "# Extract Named Entities\n",
    "named_entities = [(ent.text, ent.label_) for ent in doc.ents]\n",
    "\n",
    "print(named_entities)\n"
   ]
  },
  {
   "cell_type": "code",
   "execution_count": 62,
   "metadata": {},
   "outputs": [
    {
     "name": "stdout",
     "output_type": "stream",
     "text": [
      "['This is a large document that will be split into smaller chunks for processing.']\n"
     ]
    }
   ],
   "source": [
    "#14. How can you split a large document into smaller chunks of text\n",
    "# Sample large document\n",
    "document = \"This is a large document that will be split into smaller chunks for processing.\"\n",
    "\n",
    "# Split document into sentences\n",
    "sentences = document.split(\". \")\n",
    "\n",
    "# Print sentences\n",
    "print(sentences)\n"
   ]
  },
  {
   "cell_type": "code",
   "execution_count": 63,
   "metadata": {},
   "outputs": [
    {
     "name": "stdout",
     "output_type": "stream",
     "text": [
      "[[0.         0.55847784 0.         0.43370786 0.55847784 0.\n",
      "  0.43370786]\n",
      " [0.         0.         0.55847784 0.43370786 0.         0.55847784\n",
      "  0.43370786]\n",
      " [0.40474829 0.30782151 0.30782151 0.47810172 0.30782151 0.30782151\n",
      "  0.47810172]]\n"
     ]
    }
   ],
   "source": [
    "#15. How can you calculate the TF-IDF (Term Frequency - Inverse Document Frequency) for a set of document\n",
    "from sklearn.feature_extraction.text import TfidfVectorizer\n",
    "\n",
    "# Sample documents\n",
    "documents = [\"The sky is blue.\", \"The sun is bright.\", \"The sky is blue and the sun is bright.\"]\n",
    "\n",
    "# Vectorize the documents using TF-IDF\n",
    "vectorizer = TfidfVectorizer()\n",
    "tfidf_matrix = vectorizer.fit_transform(documents)\n",
    "\n",
    "# Print the TF-IDF matrix\n",
    "print(tfidf_matrix.toarray())\n"
   ]
  },
  {
   "cell_type": "code",
   "execution_count": 64,
   "metadata": {},
   "outputs": [
    {
     "name": "stdout",
     "output_type": "stream",
     "text": [
      "['learn', 'natur', 'languag', 'process', '.']\n"
     ]
    },
    {
     "name": "stderr",
     "output_type": "stream",
     "text": [
      "c:\\Users\\abhin\\anaconda3\\envs\\assignment_env\\lib\\site-packages\\IPython\\core\\inputtransformer2.py:627: UserWarning: `make_tokens_by_line` received a list of lines which do not have lineending markers ('\\n', '\\r', '\\r\\n', '\\x0b', '\\x0c'), behavior will be unspecified\n",
      "  tokens_by_line = make_tokens_by_line(lines)\n",
      "[nltk_data] Downloading package punkt to C:\\Users\\abhin/nltk_data...\n",
      "[nltk_data]   Package punkt is already up-to-date!\n",
      "[nltk_data] Downloading package stopwords to\n",
      "[nltk_data]     C:\\Users\\abhin/nltk_data...\n",
      "[nltk_data]   Package stopwords is already up-to-date!\n"
     ]
    }
   ],
   "source": [
    "#16. How can you apply tokenization, stopword removal, and stemming in one go\u001c\n",
    "import nltk\n",
    "from nltk.corpus import stopwords\n",
    "from nltk.stem import PorterStemmer\n",
    "from nltk.tokenize import word_tokenize\n",
    "\n",
    "# Download necessary NLTK resources\n",
    "nltk.download('punkt')\n",
    "nltk.download('stopwords')\n",
    "\n",
    "# Sample sentence\n",
    "sentence = \"I am learning natural language processing.\"\n",
    "\n",
    "# Tokenize\n",
    "tokens = word_tokenize(sentence)\n",
    "\n",
    "# Remove stopwords\n",
    "stop_words = set(stopwords.words('english'))\n",
    "filtered_tokens = [word for word in tokens if word.lower() not in stop_words]\n",
    "\n",
    "# Stem the words\n",
    "stemmer = PorterStemmer()\n",
    "stemmed_tokens = [stemmer.stem(word) for word in filtered_tokens]\n",
    "\n",
    "print(stemmed_tokens)\n"
   ]
  },
  {
   "cell_type": "code",
   "execution_count": 65,
   "metadata": {},
   "outputs": [
    {
     "data": {
      "image/png": "[encoded data removed]",
      "text/plain": [
       "<Figure size 640x480 with 1 Axes>"
      ]
     },
     "metadata": {},
     "output_type": "display_data"
    }
   ],
   "source": [
    "#17.  How can you visualize the frequency distribution of words in a sentence\n",
    "import nltk\n",
    "from nltk.tokenize import word_tokenize\n",
    "from nltk.probability import FreqDist\n",
    "import matplotlib.pyplot as plt\n",
    "\n",
    "# Sample sentence\n",
    "sentence = \"This is a test sentence. This is another test sentence.\"\n",
    "\n",
    "# Tokenize the sentence\n",
    "tokens = word_tokenize(sentence)\n",
    "\n",
    "# Create frequency distribution\n",
    "fdist = FreqDist(tokens)\n",
    "\n",
    "# Plot the frequency distribution\n",
    "fdist.plot()\n",
    "plt.show()\n"
   ]
  },
  {
   "cell_type": "code",
   "execution_count": null,
   "metadata": {},
   "outputs": [],
   "source": []
  }
 ],
 "metadata": {
  "kernelspec": {
   "display_name": "assignment_env",
   "language": "python",
   "name": "python3"
  },
  "language_info": {
   "codemirror_mode": {
    "name": "ipython",
    "version": 3
   },
   "file_extension": ".py",
   "mimetype": "text/x-python",
   "name": "python",
   "nbconvert_exporter": "python",
   "pygments_lexer": "ipython3",
   "version": "3.9.20"
  }
 },
 "nbformat": 4,
 "nbformat_minor": 2
}
