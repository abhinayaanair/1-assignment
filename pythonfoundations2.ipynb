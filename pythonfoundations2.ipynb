{
 "cells": [
  {
   "cell_type": "markdown",
   "metadata": {},
   "source": [
    "1. How can we store a single quote (‘) as a string in a var1able?\n",
    "\n",
    "Ans: We can store a single quote (') as a string in a variable by closing it in double quotes(\" ' \"). Example is given below:"
   ]
  },
  {
   "cell_type": "code",
   "execution_count": 5,
   "metadata": {},
   "outputs": [
    {
     "name": "stdout",
     "output_type": "stream",
     "text": [
      "'\n"
     ]
    }
   ],
   "source": [
    "x = \"'\"\n",
    "print(x)\n"
   ]
  },
  {
   "cell_type": "markdown",
   "metadata": {},
   "source": [
    "2. Refer the below var1able:\n",
    "x = ‘a'\n",
    "Here, is x a character type or str1ng type var1able? Support your answer with an explanation.\n",
    "\n",
    "\n",
    "Ans: In python both single character and strings are represented using same data type str(string).\n",
    "In Python, a single character, such as 'a', is treated as a string of length one."
   ]
  },
  {
   "cell_type": "markdown",
   "metadata": {},
   "source": [
    "3. Apply the follow1ng funct1ons on th1s var1able: ‘Welcome to Python foundation course'\n",
    "\n",
    "\n",
    "1.find()\n",
    "\n",
    "2.count()\n",
    "\n",
    "3.len()\n",
    "\n",
    "4.Concatenation\n",
    "\n",
    "Note: You can use your cho1ce of parametersQ But make sure 1t 1s correct.\n",
    "\n"
   ]
  },
  {
   "cell_type": "code",
   "execution_count": 19,
   "metadata": {},
   "outputs": [
    {
     "name": "stdout",
     "output_type": "stream",
     "text": [
      "11\n",
      "6\n",
      "35\n",
      "Welcome to Python foundation course Let's learn\n"
     ]
    }
   ],
   "source": [
    "#Ans:\n",
    "\n",
    "str= \"Welcome to Python foundation course\"\n",
    "\n",
    "print(str.find(\"Python\"))\n",
    "print(str.count(\"o\"))\n",
    "print(len(str))\n",
    "print(str+ \" Let's learn\")\n"
   ]
  },
  {
   "cell_type": "markdown",
   "metadata": {},
   "source": [
    "4. For the variable: word = ‘PanaJi@T//56'\n",
    "\n",
    "Calculate the following:\n",
    "\n",
    "(a) Total number of alphabets in lowercase\n",
    "\n",
    "(b) Total number of alphabets in uppercase\n",
    "\n",
    "(c) Total number of numerical in string"
   ]
  },
  {
   "cell_type": "code",
   "execution_count": 30,
   "metadata": {},
   "outputs": [
    {
     "name": "stdout",
     "output_type": "stream",
     "text": [
      "4\n",
      "3\n",
      "2\n"
     ]
    }
   ],
   "source": [
    "word = \"PanaJi@T//56\"\n",
    "\n",
    "lower_count=0\n",
    "upper_count=0\n",
    "numerical_count=0\n",
    "\n",
    "for char in word:\n",
    "    if char.islower():\n",
    "        lower_count+=1\n",
    "    elif char.isupper():\n",
    "        upper_count+=1\n",
    "    elif char.isdigit():\n",
    "        numerical_count+=1\n",
    "    \n",
    "        \n",
    "print(lower_count)\n",
    "print(upper_count)\n",
    "print(numerical_count)\n",
    "        \n",
    "    \n"
   ]
  },
  {
   "cell_type": "markdown",
   "metadata": {},
   "source": [
    "5. Write a code to store a numerical value inside a variable then convert it into string."
   ]
  },
  {
   "cell_type": "markdown",
   "metadata": {},
   "source": [
    "Sorry I don't know the ans"
   ]
  },
  {
   "cell_type": "code",
   "execution_count": null,
   "metadata": {},
   "outputs": [],
   "source": []
  }
 ],
 "metadata": {
  "kernelspec": {
   "display_name": "Python 3",
   "language": "python",
   "name": "python3"
  },
  "language_info": {
   "codemirror_mode": {
    "name": "ipython",
    "version": 3
   },
   "file_extension": ".py",
   "mimetype": "text/x-python",
   "name": "python",
   "nbconvert_exporter": "python",
   "pygments_lexer": "ipython3",
   "version": "3.11.5"
  }
 },
 "nbformat": 4,
 "nbformat_minor": 2
}
